{
  "nbformat": 4,
  "nbformat_minor": 0,
  "metadata": {
    "colab": {
      "name": "Module3_ModelCheckpointsCallBacks.ipynb",
      "provenance": [],
      "collapsed_sections": []
    },
    "kernelspec": {
      "display_name": "Python 3",
      "name": "python3"
    },
    "language_info": {
      "name": "python"
    }
  },
  "cells": [
    {
      "cell_type": "code",
      "metadata": {
        "id": "K9H9iU_Xfxw7"
      },
      "source": [
        "# Imports\n",
        "import os\n",
        "import tensorflow as tf\n",
        "import numpy as np\n",
        "import matplotlib.pyplot as plt\n",
        "\n",
        "\n",
        "from tensorflow.keras.models import Sequential\n",
        "from tensorflow.keras.layers import Dense, Conv2D, MaxPooling2D, Flatten, Dropout"
      ],
      "execution_count": 1,
      "outputs": []
    },
    {
      "cell_type": "markdown",
      "metadata": {
        "id": "9-RJ9pwylHmD"
      },
      "source": [
        "# ModelCheckpoint\n",
        "\n",
        "`ModelCheckpoint` is a callback to save the Keras model or model weight during training, so the model or weights can be loaded later to continue the training from the state saved.\n",
        "\n",
        "This callback allows us to save the model regularly during training. This is especially useful when training deep learning models which take a long time to train. This callback monitors the training and saves model checkpoints at regular intervals, based on the metrics.\n",
        "\n",
        "```\n",
        "tf.keras.callbacks.ModelCheckpoint(filepath, \n",
        "      monitor='val_loss', \n",
        "      verbose=0, \n",
        "      save_best_only=False,\n",
        "      save_weights_only=False, \n",
        "      mode='auto', \n",
        "      save_freq='epoch')\n",
        "```\n",
        "\n",
        "**filepath:** path for saving the model. You can pass the file path with formatting options like model-{epoch:02d}-{val_loss:0.2f}; this saves the model with the mentioned values in the name.\n",
        "\n",
        "**monitor:** name of the metrics to monitor.\n",
        "\n",
        "**save_best_only:** if True, the best model will not be overridden.\n",
        "\n",
        "**mode:** defines whether the monitored metrics should be increasing, decreasing, or inferred from the name; possible values are 'min', 'max', or 'auto'.\n",
        "\n",
        "**save_weights_only:** if True, only the weights of the models will be saved. Otherwise the full model will be saved.\n",
        "\n",
        "**save_freq:** if 'epoch', the model will be saved after every epoch. If an integer value is passed, the model will be saved after the integer number of batches (not to be confused with epochs).\n",
        "\n",
        "The `ModelCheckpoint` callback is executed via the on_epoch_end trigger of training."
      ]
    },
    {
      "cell_type": "markdown",
      "metadata": {
        "id": "xED0LqgxW_NH"
      },
      "source": [
        "***\n",
        "## Preparing Dataset \n",
        "\n",
        "***"
      ]
    },
    {
      "cell_type": "code",
      "metadata": {
        "id": "I6HxSnMJf56U",
        "outputId": "570ebcc4-0ca9-4971-958e-6bed0e6c0f05",
        "colab": {
          "base_uri": "https://localhost:8080/"
        }
      },
      "source": [
        "(train_images, train_labels), (test_images, test_labels) = tf.keras.datasets.mnist.load_data()\n",
        "\n",
        "train_labels = train_labels[:1000]\n",
        "test_labels = test_labels[:1000]\n",
        "\n",
        "train_images = train_images[:1000].reshape(-1, 28 * 28) / 255.0\n",
        "test_images = test_images[:1000].reshape(-1, 28 * 28) / 255.0"
      ],
      "execution_count": 2,
      "outputs": [
        {
          "output_type": "stream",
          "text": [
            "Downloading data from https://storage.googleapis.com/tensorflow/tf-keras-datasets/mnist.npz\n",
            "11493376/11490434 [==============================] - 0s 0us/step\n"
          ],
          "name": "stdout"
        }
      ]
    },
    {
      "cell_type": "markdown",
      "metadata": {
        "id": "10SG31C8soCw"
      },
      "source": [
        "## Define the Model"
      ]
    },
    {
      "cell_type": "code",
      "metadata": {
        "id": "m3XG0HNUgFax",
        "outputId": "acab8980-5bee-4179-f547-ef7c9449495e",
        "colab": {
          "base_uri": "https://localhost:8080/"
        }
      },
      "source": [
        "# Define a simple sequential model\n",
        "def create_model():\n",
        "  model = Sequential([\n",
        "    Dense(512, activation='relu', input_shape=(784,)),\n",
        "    Dropout(0.2),\n",
        "    Dense(10)\n",
        "  ])\n",
        "\n",
        "  model.compile(optimizer='adam',\n",
        "                loss=tf.losses.SparseCategoricalCrossentropy(from_logits=True),\n",
        "                metrics=[tf.metrics.SparseCategoricalAccuracy()])\n",
        "\n",
        "  return model\n",
        "\n",
        "# Create a basic model instance\n",
        "model = create_model()\n",
        "\n",
        "# Display the model's architecture\n",
        "model.summary()"
      ],
      "execution_count": 3,
      "outputs": [
        {
          "output_type": "stream",
          "text": [
            "Model: \"sequential\"\n",
            "_________________________________________________________________\n",
            "Layer (type)                 Output Shape              Param #   \n",
            "=================================================================\n",
            "dense (Dense)                (None, 512)               401920    \n",
            "_________________________________________________________________\n",
            "dropout (Dropout)            (None, 512)               0         \n",
            "_________________________________________________________________\n",
            "dense_1 (Dense)              (None, 10)                5130      \n",
            "=================================================================\n",
            "Total params: 407,050\n",
            "Trainable params: 407,050\n",
            "Non-trainable params: 0\n",
            "_________________________________________________________________\n"
          ],
          "name": "stdout"
        }
      ]
    },
    {
      "cell_type": "markdown",
      "metadata": {
        "id": "80M89qQ3ssDu"
      },
      "source": [
        "## Saving only Weights\n",
        "\n",
        "Using `ModelCheckpoint`, we have the option either to save the entire model or to save weights only. In the example below, we will save only weight."
      ]
    },
    {
      "cell_type": "markdown",
      "metadata": {
        "id": "jrotL1YxticU"
      },
      "source": [
        "\n",
        "\n",
        "Let's instantitate the `ModelCheckPoint` as follows:"
      ]
    },
    {
      "cell_type": "code",
      "metadata": {
        "id": "vSkzsoHQuAwg"
      },
      "source": [
        "from tensorflow.keras.callbacks import ModelCheckpoint\n",
        "\n",
        "checkpoint_path = '/content/model_checkpoints/'\n",
        "\n",
        "checkpoint = ModelCheckpoint(\n",
        "    filepath = checkpoint_path,\n",
        "    save_freq = 'epoch',\n",
        "    save_weights_only = True,\n",
        "    verbose = 1\n",
        ")"
      ],
      "execution_count": 4,
      "outputs": []
    },
    {
      "cell_type": "markdown",
      "metadata": {
        "id": "F-ADEUmVsubW"
      },
      "source": [
        "\n",
        "\n",
        "Let's train for $5$ epochs and save weights only. Later we will upload the weights and check the test accuracy."
      ]
    },
    {
      "cell_type": "code",
      "metadata": {
        "colab": {
          "base_uri": "https://localhost:8080/"
        },
        "id": "LyguG9FpxD8u",
        "outputId": "bfb61d28-e865-481d-c70a-1cd987f16340"
      },
      "source": [
        "# Train the model with the new callback\n",
        "model.fit(train_images, \n",
        "          train_labels,  \n",
        "          epochs=10,\n",
        "          validation_data=(test_images, test_labels),\n",
        "          callbacks=[checkpoint])  # Pass callback to training"
      ],
      "execution_count": 5,
      "outputs": [
        {
          "output_type": "stream",
          "text": [
            "Epoch 1/10\n",
            "32/32 [==============================] - 1s 11ms/step - loss: 1.1513 - sparse_categorical_accuracy: 0.6840 - val_loss: 0.6846 - val_sparse_categorical_accuracy: 0.7980\n",
            "\n",
            "Epoch 00001: saving model to /content/model_checkpoints/\n",
            "Epoch 2/10\n",
            "32/32 [==============================] - 0s 6ms/step - loss: 0.4093 - sparse_categorical_accuracy: 0.8950 - val_loss: 0.5128 - val_sparse_categorical_accuracy: 0.8380\n",
            "\n",
            "Epoch 00002: saving model to /content/model_checkpoints/\n",
            "Epoch 3/10\n",
            "32/32 [==============================] - 0s 9ms/step - loss: 0.2839 - sparse_categorical_accuracy: 0.9220 - val_loss: 0.4458 - val_sparse_categorical_accuracy: 0.8590\n",
            "\n",
            "Epoch 00003: saving model to /content/model_checkpoints/\n",
            "Epoch 4/10\n",
            "32/32 [==============================] - 0s 6ms/step - loss: 0.2015 - sparse_categorical_accuracy: 0.9580 - val_loss: 0.4073 - val_sparse_categorical_accuracy: 0.8720\n",
            "\n",
            "Epoch 00004: saving model to /content/model_checkpoints/\n",
            "Epoch 5/10\n",
            "32/32 [==============================] - 0s 7ms/step - loss: 0.1516 - sparse_categorical_accuracy: 0.9650 - val_loss: 0.4073 - val_sparse_categorical_accuracy: 0.8660\n",
            "\n",
            "Epoch 00005: saving model to /content/model_checkpoints/\n",
            "Epoch 6/10\n",
            "32/32 [==============================] - 0s 6ms/step - loss: 0.1153 - sparse_categorical_accuracy: 0.9740 - val_loss: 0.4071 - val_sparse_categorical_accuracy: 0.8690\n",
            "\n",
            "Epoch 00006: saving model to /content/model_checkpoints/\n",
            "Epoch 7/10\n",
            "32/32 [==============================] - 0s 7ms/step - loss: 0.0850 - sparse_categorical_accuracy: 0.9850 - val_loss: 0.4153 - val_sparse_categorical_accuracy: 0.8590\n",
            "\n",
            "Epoch 00007: saving model to /content/model_checkpoints/\n",
            "Epoch 8/10\n",
            "32/32 [==============================] - 0s 7ms/step - loss: 0.0665 - sparse_categorical_accuracy: 0.9910 - val_loss: 0.3937 - val_sparse_categorical_accuracy: 0.8690\n",
            "\n",
            "Epoch 00008: saving model to /content/model_checkpoints/\n",
            "Epoch 9/10\n",
            "32/32 [==============================] - 0s 6ms/step - loss: 0.0458 - sparse_categorical_accuracy: 0.9980 - val_loss: 0.4072 - val_sparse_categorical_accuracy: 0.8750\n",
            "\n",
            "Epoch 00009: saving model to /content/model_checkpoints/\n",
            "Epoch 10/10\n",
            "32/32 [==============================] - 0s 7ms/step - loss: 0.0347 - sparse_categorical_accuracy: 1.0000 - val_loss: 0.3848 - val_sparse_categorical_accuracy: 0.8780\n",
            "\n",
            "Epoch 00010: saving model to /content/model_checkpoints/\n"
          ],
          "name": "stdout"
        },
        {
          "output_type": "execute_result",
          "data": {
            "text/plain": [
              "<tensorflow.python.keras.callbacks.History at 0x7f7e6eb1ead0>"
            ]
          },
          "metadata": {
            "tags": []
          },
          "execution_count": 5
        }
      ]
    },
    {
      "cell_type": "markdown",
      "metadata": {
        "id": "VkgRroPWkZQq"
      },
      "source": [
        "Let's check test accuracy"
      ]
    },
    {
      "cell_type": "code",
      "metadata": {
        "colab": {
          "base_uri": "https://localhost:8080/"
        },
        "id": "M0uyuZ2FkdLa",
        "outputId": "3bcaa653-96e7-424e-beee-d4e21c4176f6"
      },
      "source": [
        "model.evaluate(x = test_images, y = test_labels)"
      ],
      "execution_count": 6,
      "outputs": [
        {
          "output_type": "stream",
          "text": [
            "32/32 [==============================] - 0s 2ms/step - loss: 0.3848 - sparse_categorical_accuracy: 0.8780\n"
          ],
          "name": "stdout"
        },
        {
          "output_type": "execute_result",
          "data": {
            "text/plain": [
              "[0.3847571611404419, 0.878000020980835]"
            ]
          },
          "metadata": {
            "tags": []
          },
          "execution_count": 6
        }
      ]
    },
    {
      "cell_type": "markdown",
      "metadata": {
        "id": "hNi9g4DqhI_z"
      },
      "source": [
        "As long as two models share the same architecture you can share weights between them. So, when restoring a model from weights-only, create a model with the same architecture as the original model and then set its weights.\n",
        "\n",
        "Now rebuild a fresh, then load the weights from the checkpoint and re-evaluate:"
      ]
    },
    {
      "cell_type": "code",
      "metadata": {
        "id": "Af8ulVlyhVkd",
        "outputId": "7707d84a-90bf-4711-c9b8-32df9c1b209b",
        "colab": {
          "base_uri": "https://localhost:8080/"
        }
      },
      "source": [
        "new_model = create_model()\n",
        "new_model.load_weights(checkpoint_path)\n",
        "new_model.evaluate(x = test_images, y=test_labels)"
      ],
      "execution_count": 7,
      "outputs": [
        {
          "output_type": "stream",
          "text": [
            "32/32 [==============================] - 0s 2ms/step - loss: 0.3848 - sparse_categorical_accuracy: 0.8780\n"
          ],
          "name": "stdout"
        },
        {
          "output_type": "execute_result",
          "data": {
            "text/plain": [
              "[0.3847571611404419, 0.878000020980835]"
            ]
          },
          "metadata": {
            "tags": []
          },
          "execution_count": 7
        }
      ]
    },
    {
      "cell_type": "markdown",
      "metadata": {
        "id": "qTDBDxRkhywf"
      },
      "source": [
        "It can be seen that both models have predicted same test accuracy.\n",
        "***"
      ]
    },
    {
      "cell_type": "markdown",
      "metadata": {
        "id": "eRF1OLVCj8Px"
      },
      "source": [
        "## Checkpoint callback options\n",
        "The callback provides several options to provide unique names for checkpoints and adjust the checkpointing frequency.\n",
        "\n",
        "Train a new model, and save uniquely named checkpoints once every five epochs:"
      ]
    },
    {
      "cell_type": "code",
      "metadata": {
        "id": "E3uxe_eKkHC0",
        "outputId": "158f7424-a986-4709-8f6c-4d8bf665a587",
        "colab": {
          "base_uri": "https://localhost:8080/"
        }
      },
      "source": [
        "# Include the epoch in the file name (uses `str.format`)\n",
        "checkpoint_path = '/content/model_checkpoints/cp-{epoch:04d}.ckpt'\n",
        "checkpoint_dir = os.path.dirname(checkpoint_path)\n",
        "batch_size = 32\n",
        "# Create a callback that saves the model's weights every 5 epochs\n",
        "checkpoint = tf.keras.callbacks.ModelCheckpoint(\n",
        "    filepath = checkpoint_path,\n",
        "    verbose = 1,\n",
        "    save_weights_only = True,\n",
        "    save_freq = 5*batch_size\n",
        ")\n",
        "\n",
        "# Create a new model instance\n",
        "model = create_model()\n",
        "\n",
        "# Save the weights using the `checkpoint_path` format\n",
        "model.save_weights(checkpoint_path.format(epoch=0))\n",
        "\n",
        "# Train the model with the new callback\n",
        "model.fit(train_images, \n",
        "          train_labels,\n",
        "          epochs=50, \n",
        "          batch_size=batch_size, \n",
        "          callbacks=[checkpoint],\n",
        "          validation_data=(test_images, test_labels),\n",
        "          verbose=0)"
      ],
      "execution_count": 8,
      "outputs": [
        {
          "output_type": "stream",
          "text": [
            "\n",
            "Epoch 00005: saving model to /content/model_checkpoints/cp-0005.ckpt\n",
            "\n",
            "Epoch 00010: saving model to /content/model_checkpoints/cp-0010.ckpt\n",
            "\n",
            "Epoch 00015: saving model to /content/model_checkpoints/cp-0015.ckpt\n",
            "\n",
            "Epoch 00020: saving model to /content/model_checkpoints/cp-0020.ckpt\n",
            "\n",
            "Epoch 00025: saving model to /content/model_checkpoints/cp-0025.ckpt\n",
            "\n",
            "Epoch 00030: saving model to /content/model_checkpoints/cp-0030.ckpt\n",
            "\n",
            "Epoch 00035: saving model to /content/model_checkpoints/cp-0035.ckpt\n",
            "\n",
            "Epoch 00040: saving model to /content/model_checkpoints/cp-0040.ckpt\n",
            "\n",
            "Epoch 00045: saving model to /content/model_checkpoints/cp-0045.ckpt\n",
            "\n",
            "Epoch 00050: saving model to /content/model_checkpoints/cp-0050.ckpt\n"
          ],
          "name": "stdout"
        },
        {
          "output_type": "execute_result",
          "data": {
            "text/plain": [
              "<tensorflow.python.keras.callbacks.History at 0x7f7e60317850>"
            ]
          },
          "metadata": {
            "tags": []
          },
          "execution_count": 8
        }
      ]
    },
    {
      "cell_type": "markdown",
      "metadata": {
        "id": "Cd_UxtcRlXWR"
      },
      "source": [
        "To test, reset the model and load the latest checkpoint:\n",
        "\n",
        "\n"
      ]
    },
    {
      "cell_type": "code",
      "metadata": {
        "id": "zsP8K8WhlrYP",
        "outputId": "fd6ca584-06cf-4a43-c019-ceb339570af8",
        "colab": {
          "base_uri": "https://localhost:8080/",
          "height": 35
        }
      },
      "source": [
        "# Since there are many checkpoints, but we will load the latest checkpoints only\n",
        "\n",
        "latest = tf.train.latest_checkpoint(checkpoint_dir)\n",
        "latest"
      ],
      "execution_count": 9,
      "outputs": [
        {
          "output_type": "execute_result",
          "data": {
            "application/vnd.google.colaboratory.intrinsic+json": {
              "type": "string"
            },
            "text/plain": [
              "'/content/model_checkpoints/cp-0050.ckpt'"
            ]
          },
          "metadata": {
            "tags": []
          },
          "execution_count": 9
        }
      ]
    },
    {
      "cell_type": "code",
      "metadata": {
        "id": "8vLSkiH0lXzM",
        "outputId": "a1702f73-533b-4205-93c1-c765cf85239d",
        "colab": {
          "base_uri": "https://localhost:8080/"
        }
      },
      "source": [
        "# Create a new model instance\n",
        "model = create_model()\n",
        "\n",
        "# Load the previously saved weights\n",
        "model.load_weights(latest)\n",
        "\n",
        "# Re-evaluate the model\n",
        "loss, acc = model.evaluate(test_images, test_labels, verbose=2)\n",
        "print(\"Restored model, accuracy: {:5.2f}%\".format(100 * acc))"
      ],
      "execution_count": 10,
      "outputs": [
        {
          "output_type": "stream",
          "text": [
            "32/32 - 0s - loss: 0.4689 - sparse_categorical_accuracy: 0.8780\n",
            "Restored model, accuracy: 87.80%\n"
          ],
          "name": "stdout"
        }
      ]
    },
    {
      "cell_type": "markdown",
      "metadata": {
        "id": "wraVVp4EoY67"
      },
      "source": [
        "## Saving the Entire Model\n",
        "\n",
        "Call `model.save` to save a model's architecture, weights, and training configuration in a single file/folder. This allows you to export a model so it can be used without access to the original Python code. Since the optimizer-state is recovered, you can resume training from exactly where you left off.\n",
        "\n",
        "An entire model can be saved in two different file formats (SavedModel and HDF5). The TensorFlow SavedModel format is the default file format in TF2.x. However, models can be saved in HDF5 format. \n",
        "\n",
        "Saving a fully-functional model is very useful—you can load them in TensorFlow.js (Saved Model, HDF5) and then train and run them in web browsers, or convert them to run on mobile devices using TensorFlow Lite (Saved Model, HDF5)\n",
        "\n"
      ]
    },
    {
      "cell_type": "markdown",
      "metadata": {
        "id": "DEyxHspgsHn9"
      },
      "source": [
        "Before proceeding, let's delete all the folders containing any weights or models\n"
      ]
    },
    {
      "cell_type": "code",
      "metadata": {
        "id": "SVnryoOdsNWw",
        "outputId": "cff93554-ff87-4dfc-e98b-e7beb46542d7",
        "colab": {
          "base_uri": "https://localhost:8080/"
        }
      },
      "source": [
        "!rm -r save_model/\n",
        "!rm -r model_checkpoints"
      ],
      "execution_count": 11,
      "outputs": [
        {
          "output_type": "stream",
          "text": [
            "rm: cannot remove 'save_model/': No such file or directory\n"
          ],
          "name": "stdout"
        }
      ]
    },
    {
      "cell_type": "code",
      "metadata": {
        "id": "var14r3poxr1",
        "outputId": "a642eaa6-81f1-4515-a33d-1111e361c962",
        "colab": {
          "base_uri": "https://localhost:8080/"
        }
      },
      "source": [
        "# Let's create a fresh model\n",
        "model1 = create_model()\n",
        "\n",
        "# Defining the path\n",
        "save_model_path = '/content/save_model/'\n",
        "\n",
        "# Instantiating the callback to save the entire model\n",
        "save_model_callback = tf.keras.callbacks.ModelCheckpoint(\n",
        "    filepath = save_model_path,\n",
        "    save_best_only = False,\n",
        "    save_weights_only = False\n",
        "    )\n",
        "\n",
        "# training the model \n",
        "model1.fit(x = train_images, y = train_labels, epochs = 5, validation_data = (test_images, test_labels),\n",
        "           callbacks = [save_model_callback])"
      ],
      "execution_count": 12,
      "outputs": [
        {
          "output_type": "stream",
          "text": [
            "Epoch 1/5\n",
            "32/32 [==============================] - 1s 11ms/step - loss: 1.1527 - sparse_categorical_accuracy: 0.6820 - val_loss: 0.7194 - val_sparse_categorical_accuracy: 0.7740\n",
            "INFO:tensorflow:Assets written to: /content/save_model/assets\n",
            "Epoch 2/5\n",
            "32/32 [==============================] - 0s 7ms/step - loss: 0.4196 - sparse_categorical_accuracy: 0.8810 - val_loss: 0.5302 - val_sparse_categorical_accuracy: 0.8320\n",
            "INFO:tensorflow:Assets written to: /content/save_model/assets\n",
            "Epoch 3/5\n",
            "32/32 [==============================] - 0s 6ms/step - loss: 0.2952 - sparse_categorical_accuracy: 0.9240 - val_loss: 0.4741 - val_sparse_categorical_accuracy: 0.8530\n",
            "INFO:tensorflow:Assets written to: /content/save_model/assets\n",
            "Epoch 4/5\n",
            "32/32 [==============================] - 0s 7ms/step - loss: 0.2118 - sparse_categorical_accuracy: 0.9460 - val_loss: 0.4477 - val_sparse_categorical_accuracy: 0.8620\n",
            "INFO:tensorflow:Assets written to: /content/save_model/assets\n",
            "Epoch 5/5\n",
            "32/32 [==============================] - 0s 7ms/step - loss: 0.1700 - sparse_categorical_accuracy: 0.9620 - val_loss: 0.4283 - val_sparse_categorical_accuracy: 0.8580\n",
            "INFO:tensorflow:Assets written to: /content/save_model/assets\n"
          ],
          "name": "stdout"
        },
        {
          "output_type": "execute_result",
          "data": {
            "text/plain": [
              "<tensorflow.python.keras.callbacks.History at 0x7f7e5e95ffd0>"
            ]
          },
          "metadata": {
            "tags": []
          },
          "execution_count": 12
        }
      ]
    },
    {
      "cell_type": "markdown",
      "metadata": {
        "id": "SGZO8cUOsS8_"
      },
      "source": [
        "Let's compute the test accuracy"
      ]
    },
    {
      "cell_type": "code",
      "metadata": {
        "id": "G4vnBi8Vrtyk",
        "outputId": "c716bdaf-c44d-40b3-94a0-21294c3e7209",
        "colab": {
          "base_uri": "https://localhost:8080/"
        }
      },
      "source": [
        "model1.evaluate(x = test_images, y = test_labels)"
      ],
      "execution_count": 13,
      "outputs": [
        {
          "output_type": "stream",
          "text": [
            "32/32 [==============================] - 0s 2ms/step - loss: 0.4283 - sparse_categorical_accuracy: 0.8580\n"
          ],
          "name": "stdout"
        },
        {
          "output_type": "execute_result",
          "data": {
            "text/plain": [
              "[0.42828598618507385, 0.8579999804496765]"
            ]
          },
          "metadata": {
            "tags": []
          },
          "execution_count": 13
        }
      ]
    },
    {
      "cell_type": "markdown",
      "metadata": {
        "id": "aWXgkTzcscDH"
      },
      "source": [
        "Let's load the model"
      ]
    },
    {
      "cell_type": "code",
      "metadata": {
        "colab": {
          "base_uri": "https://localhost:8080/"
        },
        "id": "kicxCE8gwsw7",
        "outputId": "317dff3e-7e80-4bd3-ee43-0ae85a280b42"
      },
      "source": [
        "new_model = tf.keras.models.load_model(filepath=save_model_path)\n",
        "new_model.summary()"
      ],
      "execution_count": 14,
      "outputs": [
        {
          "output_type": "stream",
          "text": [
            "Model: \"sequential_4\"\n",
            "_________________________________________________________________\n",
            "Layer (type)                 Output Shape              Param #   \n",
            "=================================================================\n",
            "dense_8 (Dense)              (None, 512)               401920    \n",
            "_________________________________________________________________\n",
            "dropout_4 (Dropout)          (None, 512)               0         \n",
            "_________________________________________________________________\n",
            "dense_9 (Dense)              (None, 10)                5130      \n",
            "=================================================================\n",
            "Total params: 407,050\n",
            "Trainable params: 407,050\n",
            "Non-trainable params: 0\n",
            "_________________________________________________________________\n"
          ],
          "name": "stdout"
        }
      ]
    },
    {
      "cell_type": "markdown",
      "metadata": {
        "id": "OndW0QC0sqSy"
      },
      "source": [
        "You can see that our loaded model is exactly same as it was previously.\n",
        "\n",
        "Let's check the test accuracy on the loaded model"
      ]
    },
    {
      "cell_type": "code",
      "metadata": {
        "id": "qYkjEs1fszdT",
        "outputId": "ad5377ed-c750-4559-e154-16bb7df7ee37",
        "colab": {
          "base_uri": "https://localhost:8080/"
        }
      },
      "source": [
        "new_model.evaluate(x=test_images, y = test_labels)"
      ],
      "execution_count": 15,
      "outputs": [
        {
          "output_type": "stream",
          "text": [
            "32/32 [==============================] - 0s 2ms/step - loss: 0.4283 - sparse_categorical_accuracy: 0.8580\n"
          ],
          "name": "stdout"
        },
        {
          "output_type": "execute_result",
          "data": {
            "text/plain": [
              "[0.42828598618507385, 0.8579999804496765]"
            ]
          },
          "metadata": {
            "tags": []
          },
          "execution_count": 15
        }
      ]
    },
    {
      "cell_type": "markdown",
      "metadata": {
        "id": "2hY59NLos8yl"
      },
      "source": [
        "We can see that the loaded model's accuracy is same as it was before. Let's continue training it for 15 more epochs."
      ]
    },
    {
      "cell_type": "code",
      "metadata": {
        "colab": {
          "base_uri": "https://localhost:8080/"
        },
        "id": "PJC9aCO5w73V",
        "outputId": "44dac62e-96b0-4f9e-ca24-d6c85219b73b"
      },
      "source": [
        "new_history = new_model.fit(x  = train_images, y = train_labels,\n",
        "                            validation_data = (test_images, test_labels),\n",
        "                            epochs = 15,\n",
        "                            callbacks = [save_model_callback])"
      ],
      "execution_count": 16,
      "outputs": [
        {
          "output_type": "stream",
          "text": [
            "Epoch 1/15\n",
            "32/32 [==============================] - 1s 7ms/step - loss: 0.1630 - sparse_categorical_accuracy: 0.9580 - val_loss: 0.4243 - val_sparse_categorical_accuracy: 0.8530\n",
            "INFO:tensorflow:Assets written to: /content/save_model/assets\n",
            "Epoch 2/15\n",
            "32/32 [==============================] - 0s 7ms/step - loss: 0.0854 - sparse_categorical_accuracy: 0.9820 - val_loss: 0.4196 - val_sparse_categorical_accuracy: 0.8530\n",
            "INFO:tensorflow:Assets written to: /content/save_model/assets\n",
            "Epoch 3/15\n",
            "32/32 [==============================] - 0s 7ms/step - loss: 0.0560 - sparse_categorical_accuracy: 0.9950 - val_loss: 0.4238 - val_sparse_categorical_accuracy: 0.8640\n",
            "INFO:tensorflow:Assets written to: /content/save_model/assets\n",
            "Epoch 4/15\n",
            "32/32 [==============================] - 0s 7ms/step - loss: 0.0388 - sparse_categorical_accuracy: 0.9970 - val_loss: 0.4088 - val_sparse_categorical_accuracy: 0.8620\n",
            "INFO:tensorflow:Assets written to: /content/save_model/assets\n",
            "Epoch 5/15\n",
            "32/32 [==============================] - 0s 6ms/step - loss: 0.0250 - sparse_categorical_accuracy: 1.0000 - val_loss: 0.3950 - val_sparse_categorical_accuracy: 0.8740\n",
            "INFO:tensorflow:Assets written to: /content/save_model/assets\n",
            "Epoch 6/15\n",
            "32/32 [==============================] - 0s 7ms/step - loss: 0.0183 - sparse_categorical_accuracy: 1.0000 - val_loss: 0.4105 - val_sparse_categorical_accuracy: 0.8740\n",
            "INFO:tensorflow:Assets written to: /content/save_model/assets\n",
            "Epoch 7/15\n",
            "32/32 [==============================] - 0s 7ms/step - loss: 0.0152 - sparse_categorical_accuracy: 1.0000 - val_loss: 0.4210 - val_sparse_categorical_accuracy: 0.8690\n",
            "WARNING:tensorflow:Unresolved object in checkpoint: (root).optimizer.iter\n",
            "WARNING:tensorflow:Unresolved object in checkpoint: (root).optimizer.beta_1\n",
            "WARNING:tensorflow:Unresolved object in checkpoint: (root).optimizer.beta_2\n",
            "WARNING:tensorflow:Unresolved object in checkpoint: (root).optimizer.decay\n",
            "WARNING:tensorflow:Unresolved object in checkpoint: (root).optimizer.learning_rate\n",
            "WARNING:tensorflow:A checkpoint was restored (e.g. tf.train.Checkpoint.restore or tf.keras.Model.load_weights) but not all checkpointed values were used. See above for specific issues. Use expect_partial() on the load status object, e.g. tf.train.Checkpoint.restore(...).expect_partial(), to silence these warnings, or use assert_consumed() to make the check explicit. See https://www.tensorflow.org/guide/checkpoint#loading_mechanics for details.\n",
            "INFO:tensorflow:Assets written to: /content/save_model/assets\n",
            "Epoch 8/15\n",
            "32/32 [==============================] - 0s 7ms/step - loss: 0.0128 - sparse_categorical_accuracy: 1.0000 - val_loss: 0.4344 - val_sparse_categorical_accuracy: 0.8720\n",
            "INFO:tensorflow:Assets written to: /content/save_model/assets\n",
            "Epoch 9/15\n",
            "32/32 [==============================] - 0s 7ms/step - loss: 0.0101 - sparse_categorical_accuracy: 1.0000 - val_loss: 0.4512 - val_sparse_categorical_accuracy: 0.8630\n",
            "INFO:tensorflow:Assets written to: /content/save_model/assets\n",
            "Epoch 10/15\n",
            "32/32 [==============================] - 0s 7ms/step - loss: 0.0095 - sparse_categorical_accuracy: 1.0000 - val_loss: 0.4436 - val_sparse_categorical_accuracy: 0.8710\n",
            "INFO:tensorflow:Assets written to: /content/save_model/assets\n",
            "Epoch 11/15\n",
            "32/32 [==============================] - 0s 7ms/step - loss: 0.0073 - sparse_categorical_accuracy: 1.0000 - val_loss: 0.4439 - val_sparse_categorical_accuracy: 0.8720\n",
            "INFO:tensorflow:Assets written to: /content/save_model/assets\n",
            "Epoch 12/15\n",
            "32/32 [==============================] - 0s 7ms/step - loss: 0.0062 - sparse_categorical_accuracy: 1.0000 - val_loss: 0.4576 - val_sparse_categorical_accuracy: 0.8670\n",
            "INFO:tensorflow:Assets written to: /content/save_model/assets\n",
            "Epoch 13/15\n",
            "32/32 [==============================] - 0s 7ms/step - loss: 0.0065 - sparse_categorical_accuracy: 1.0000 - val_loss: 0.4608 - val_sparse_categorical_accuracy: 0.8670\n",
            "INFO:tensorflow:Assets written to: /content/save_model/assets\n",
            "Epoch 14/15\n",
            "32/32 [==============================] - 0s 7ms/step - loss: 0.0049 - sparse_categorical_accuracy: 1.0000 - val_loss: 0.4507 - val_sparse_categorical_accuracy: 0.8750\n",
            "INFO:tensorflow:Assets written to: /content/save_model/assets\n",
            "Epoch 15/15\n",
            "32/32 [==============================] - 0s 7ms/step - loss: 0.0041 - sparse_categorical_accuracy: 1.0000 - val_loss: 0.4585 - val_sparse_categorical_accuracy: 0.8740\n",
            "INFO:tensorflow:Assets written to: /content/save_model/assets\n"
          ],
          "name": "stdout"
        }
      ]
    },
    {
      "cell_type": "code",
      "metadata": {
        "colab": {
          "base_uri": "https://localhost:8080/",
          "height": 483
        },
        "id": "oXeMUL67xLIS",
        "outputId": "5498b313-4251-421f-f0db-dbd67780b35c"
      },
      "source": [
        "plt.figure(figsize = (14, 8))\n",
        "plt.subplot(1,2,1)\n",
        "plt.plot(new_history.history['loss'], label='loss')\n",
        "plt.plot(new_history.history['val_loss'], label='val_loss')\n",
        "plt.legend(loc='upper left')\n",
        "\n",
        "\n",
        "plt.show()"
      ],
      "execution_count": 17,
      "outputs": [
        {
          "output_type": "display_data",
          "data": {
            "image/png": "[encoded data removed]",
            "text/plain": [
              "<Figure size 1008x576 with 1 Axes>"
            ]
          },
          "metadata": {
            "tags": [],
            "needs_background": "light"
          }
        }
      ]
    },
    {
      "cell_type": "markdown",
      "metadata": {
        "id": "1tdykzTc9uaB"
      },
      "source": [
        "# References\n",
        "\n",
        "1. [A Guide to TensorFlow Callbacks](https://blog.paperspace.com/tensorflow-callbacks/)\n",
        "2. [Writing your own callbacks](https://www.tensorflow.org/guide/keras/custom_callback)\n",
        "3. [tf.keras.callbacks.Callback](https://www.tensorflow.org/api_docs/python/tf/keras/callbacks/Callback)\n",
        "4. [A Practical Introduction to Keras Callbacks in TensorFlow 2](https://towardsdatascience.com/a-practical-introduction-to-keras-callbacks-in-tensorflow-2-705d0c584966)\n",
        "5. [How to use TensorFlow callbacks?](https://medium.com/ydata-ai/how-to-use-tensorflow-callbacks-f54f9bb6db25)\n",
        "6. [Callbacks in Tensor Flow](https://sailajakarra.medium.com/callbacks-in-tensor-flow-f8e7f9996f5f)\n",
        "7. [Keras Callbacks Explained In Three Minutes](https://www.kdnuggets.com/2019/08/keras-callbacks-explained-three-minutes.html)\n"
      ]
    }
  ]
}