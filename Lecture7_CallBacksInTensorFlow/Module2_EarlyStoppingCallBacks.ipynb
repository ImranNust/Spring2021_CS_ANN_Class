{
  "nbformat": 4,
  "nbformat_minor": 0,
  "metadata": {
    "accelerator": "GPU",
    "colab": {
      "name": "Module2_EarlyStoppingCallBacks.ipynb",
      "provenance": [],
      "collapsed_sections": []
    },
    "kernelspec": {
      "display_name": "Python 3",
      "name": "python3"
    },
    "language_info": {
      "name": "python"
    }
  },
  "cells": [
    {
      "cell_type": "code",
      "metadata": {
        "id": "K9H9iU_Xfxw7"
      },
      "source": [
        "# Imports\n",
        "import os\n",
        "import tensorflow as tf\n",
        "import numpy as np\n",
        "import matplotlib.pyplot as plt\n",
        "\n",
        "\n",
        "from tensorflow.keras.preprocessing.image import ImageDataGenerator\n",
        "from tensorflow.keras.models import Sequential\n",
        "from tensorflow.keras.layers import Dense, Conv2D, MaxPooling2D, Flatten, Dropout, BatchNormalization\n",
        "from tensorflow.keras.regularizers import Regularizer"
      ],
      "execution_count": 1,
      "outputs": []
    },
    {
      "cell_type": "code",
      "metadata": {
        "colab": {
          "base_uri": "https://localhost:8080/"
        },
        "id": "ndqSbERIeJcr",
        "outputId": "3db27bd9-885f-4fce-8737-89baf886f5db"
      },
      "source": [
        "# Mounting the Google Drive\n",
        "from google.colab import drive\n",
        "drive.mount('/content/drive')"
      ],
      "execution_count": 2,
      "outputs": [
        {
          "output_type": "stream",
          "text": [
            "Mounted at /content/drive\n"
          ],
          "name": "stdout"
        }
      ]
    },
    {
      "cell_type": "markdown",
      "metadata": {
        "id": "9-RJ9pwylHmD"
      },
      "source": [
        "# Early Stopping:\n",
        "\n",
        "This callback is used very often. This allows us to monitor our metrics, and stop model training when it stops improving. For example, assume that you want to stop training if the accuracy is not improving by $0.05$ or reached at $98\\%$; you can use this callback to do so. This is useful in preventing overfitting of a model, to some extent.\n",
        "```\n",
        "tf.keras.callbacks.EarlyStopping(monitor='val_loss',\n",
        "  min_delta=0, \n",
        "  patience=0, \n",
        "  verbose=0, \n",
        "  mode='auto', \n",
        "  baseline=None, \n",
        "  restore_best_weights=False)\n",
        "```\n",
        "\n",
        "**monitor:** the names of the metrics we want to monitor.\n",
        "\n",
        "**min_delta:** the minimum amount of improvement we expect in every epoch.\n",
        "\n",
        "**patience:** the number of epochs to wait before stopping the training.\n",
        "verbose: whether or not to print additional logs.\n",
        "\n",
        "**mode:** defines whether the monitored metrics should be increasing, decreasing, or inferred from the name; possible values are 'min', 'max', or 'auto'.\n",
        "baseline: values for the monitored metrics.\n",
        "\n",
        "**restore_best_weights:** if set to True, the model will get the weights of the epoch which has the best value for the monitored metrics; otherwise, it will get the weights of the last epoch.\n",
        "\n",
        "**The EarlyStopping callback is executed via the on_epoch_end trigger for training.**\n",
        "\n"
      ]
    },
    {
      "cell_type": "markdown",
      "metadata": {
        "id": "xED0LqgxW_NH"
      },
      "source": [
        "***\n",
        "## Preparing Dataset \n",
        "\n",
        "***"
      ]
    },
    {
      "cell_type": "code",
      "metadata": {
        "id": "r3JvP5-FekaU"
      },
      "source": [
        "# The path of the main directory\n",
        "current_dir = '/content/drive/MyDrive/BUITEMS/DeepLearning/Datasets/Cat_Dog_data/'\n",
        "\n",
        "# The path of the train directory\n",
        "train_dir = os.path.join(current_dir, 'train')\n",
        "\n",
        "# The path of the test directory\n",
        "test_dir = os.path.join(current_dir, 'test')\n",
        "\n",
        "# The path of the dog directory inside train sub-directory\n",
        "train_dir_dog = os.path.join(train_dir, 'dog')\n",
        "\n",
        "# The path of the cat directory inside train sub-directory\n",
        "train_dir_cat = os.path.join(train_dir, 'cat')\n",
        "\n",
        "# The path of the dog directory inside test sub-directory\n",
        "test_dir_dog = os.path.join(test_dir, 'dog')\n",
        "\n",
        "# The path of the cat directory inside test sub-directory\n",
        "test_dir_cat = os.path.join(test_dir, 'cat')\n",
        "\n",
        "# creating a list (train_cat_image_names) which contains the names of cats' pictures in the train directory\n",
        "train_cat_image_names = os.listdir(train_dir_cat)\n",
        "\n",
        "# creating a list (train_dog_image_names) which contains the names of dogs' pictures in the train directory\n",
        "train_dog_image_names = os.listdir(train_dir_dog)"
      ],
      "execution_count": 10,
      "outputs": []
    },
    {
      "cell_type": "code",
      "metadata": {
        "colab": {
          "base_uri": "https://localhost:8080/"
        },
        "id": "UJ0un8Z5fPru",
        "outputId": "d810321b-4483-450c-dd5c-da1d410cf92d"
      },
      "source": [
        "print('There are {} dogs and {} cats in the training dataset.'.\n",
        "      format(len(os.listdir(train_dir_dog)), len(os.listdir(train_dir_cat))))\n",
        "\n",
        "print('There are {} dogs and {} cats in the testing dataset.'.\n",
        "      format(len(os.listdir(test_dir_dog)), len(os.listdir(test_dir_cat))))"
      ],
      "execution_count": 11,
      "outputs": [
        {
          "output_type": "stream",
          "text": [
            "There are 274 dogs and 274 cats in the training dataset.\n",
            "There are 88 dogs and 88 cats in the testing dataset.\n"
          ],
          "name": "stdout"
        }
      ]
    },
    {
      "cell_type": "code",
      "metadata": {
        "id": "KJzx8M2PwNxE"
      },
      "source": [
        "train_datagenerator = ImageDataGenerator(\n",
        "    rescale=1./255\n",
        "    )\n",
        "test_datagenerator = ImageDataGenerator(rescale = 1./255)"
      ],
      "execution_count": 12,
      "outputs": []
    },
    {
      "cell_type": "code",
      "metadata": {
        "colab": {
          "base_uri": "https://localhost:8080/"
        },
        "id": "1gU0LC0zwcVV",
        "outputId": "db20d378-40fb-4f98-9eef-d8b3483446e7"
      },
      "source": [
        "train_it = train_datagenerator.flow_from_directory(\n",
        "    directory = train_dir,\n",
        "    target_size = (150, 150),\n",
        "    class_mode = 'binary',\n",
        "    batch_size = 32,\n",
        "    shuffle = True\n",
        ")\n",
        "\n",
        "test_it = test_datagenerator.flow_from_directory(\n",
        "    directory = test_dir,\n",
        "    target_size = (150, 150),\n",
        "    class_mode = 'binary',\n",
        "    batch_size = 32,\n",
        "    shuffle = True\n",
        ")"
      ],
      "execution_count": 13,
      "outputs": [
        {
          "output_type": "stream",
          "text": [
            "Found 548 images belonging to 2 classes.\n",
            "Found 176 images belonging to 2 classes.\n"
          ],
          "name": "stdout"
        }
      ]
    },
    {
      "cell_type": "markdown",
      "metadata": {
        "id": "8Tf9-FDlqnHG"
      },
      "source": [
        "***\n",
        "\n",
        "## A Simple Model Without Callback\n",
        "\n",
        "\n",
        "Let's first build a model and train it for 50 epochs without utilizing the `EarlyStopping` callabck."
      ]
    },
    {
      "cell_type": "markdown",
      "metadata": {
        "id": "10SG31C8soCw"
      },
      "source": [
        "### Building the Model"
      ]
    },
    {
      "cell_type": "code",
      "metadata": {
        "colab": {
          "base_uri": "https://localhost:8080/"
        },
        "id": "vpQHhXbQJuGR",
        "outputId": "bb3cb9b0-bde9-498d-a671-0a4798eff8b3"
      },
      "source": [
        "model = Sequential()\n",
        "\n",
        "model.add(Conv2D(filters=128, kernel_size=(3,3), padding='same',\n",
        "                 input_shape = (150, 150, 3), data_format = 'channels_last',\n",
        "                 activation = 'relu'))\n",
        "\n",
        "model.add(MaxPooling2D(2))\n",
        "\n",
        "model.add(Conv2D(filters=64, kernel_size=(3,3), padding='same',\n",
        "                 activation = 'relu'))\n",
        "\n",
        "model.add(MaxPooling2D(2))\n",
        "\n",
        "model.add(Conv2D(filters=32, kernel_size=(3,3), padding='same',\n",
        "                 activation = 'relu'))\n",
        "\n",
        "model.add(Flatten())\n",
        "model.add(Dense(units=264, activation='relu'))\n",
        "model.add(Dense(units=512, activation='relu'))\n",
        "model.add(Dense(units=1, activation = 'sigmoid'))\n",
        "model.summary()"
      ],
      "execution_count": null,
      "outputs": [
        {
          "output_type": "stream",
          "text": [
            "Model: \"sequential\"\n",
            "_________________________________________________________________\n",
            "Layer (type)                 Output Shape              Param #   \n",
            "=================================================================\n",
            "conv2d (Conv2D)              (None, 150, 150, 128)     3584      \n",
            "_________________________________________________________________\n",
            "max_pooling2d (MaxPooling2D) (None, 75, 75, 128)       0         \n",
            "_________________________________________________________________\n",
            "conv2d_1 (Conv2D)            (None, 75, 75, 64)        73792     \n",
            "_________________________________________________________________\n",
            "max_pooling2d_1 (MaxPooling2 (None, 37, 37, 64)        0         \n",
            "_________________________________________________________________\n",
            "conv2d_2 (Conv2D)            (None, 37, 37, 32)        18464     \n",
            "_________________________________________________________________\n",
            "flatten (Flatten)            (None, 43808)             0         \n",
            "_________________________________________________________________\n",
            "dense (Dense)                (None, 264)               11565576  \n",
            "_________________________________________________________________\n",
            "dense_1 (Dense)              (None, 512)               135680    \n",
            "_________________________________________________________________\n",
            "dense_2 (Dense)              (None, 1)                 513       \n",
            "=================================================================\n",
            "Total params: 11,797,609\n",
            "Trainable params: 11,797,609\n",
            "Non-trainable params: 0\n",
            "_________________________________________________________________\n"
          ],
          "name": "stdout"
        }
      ]
    },
    {
      "cell_type": "markdown",
      "metadata": {
        "id": "80M89qQ3ssDu"
      },
      "source": [
        "### Compiling the Model"
      ]
    },
    {
      "cell_type": "code",
      "metadata": {
        "id": "zkgmgTiqMDcT"
      },
      "source": [
        "model.compile(\n",
        "    optimizer = tf.keras.optimizers.Adam(),\n",
        "    loss = tf.keras.losses.BinaryCrossentropy(),\n",
        "    metrics = ['accuracy']\n",
        ")"
      ],
      "execution_count": null,
      "outputs": []
    },
    {
      "cell_type": "markdown",
      "metadata": {
        "id": "F-ADEUmVsubW"
      },
      "source": [
        "### Training the Model"
      ]
    },
    {
      "cell_type": "code",
      "metadata": {
        "colab": {
          "background_save": true,
          "base_uri": "https://localhost:8080/"
        },
        "id": "LyguG9FpxD8u",
        "outputId": "c607a379-ef25-4d8c-ad96-742f34bb8877"
      },
      "source": [
        "history = model.fit(train_it, validation_data=test_it, epochs=20)"
      ],
      "execution_count": null,
      "outputs": [
        {
          "output_type": "stream",
          "text": [
            "Epoch 1/50\n",
            "18/18 [==============================] - 322s 18s/step - loss: 0.7076 - accuracy: 0.5036 - val_loss: 0.6931 - val_accuracy: 0.5341\n",
            "Epoch 2/50\n",
            "18/18 [==============================] - 43s 2s/step - loss: 0.6914 - accuracy: 0.5493 - val_loss: 0.6927 - val_accuracy: 0.5057\n",
            "Epoch 3/50\n",
            "18/18 [==============================] - 43s 2s/step - loss: 0.6927 - accuracy: 0.5876 - val_loss: 0.7313 - val_accuracy: 0.4943\n",
            "Epoch 4/50\n",
            "18/18 [==============================] - 43s 2s/step - loss: 0.6686 - accuracy: 0.5949 - val_loss: 0.7103 - val_accuracy: 0.4602\n",
            "Epoch 5/50\n",
            "18/18 [==============================] - 43s 2s/step - loss: 0.5460 - accuracy: 0.7372 - val_loss: 0.9405 - val_accuracy: 0.4659\n",
            "Epoch 6/50\n",
            "18/18 [==============================] - 43s 2s/step - loss: 0.3977 - accuracy: 0.8230 - val_loss: 1.0045 - val_accuracy: 0.5568\n",
            "Epoch 7/50\n",
            "18/18 [==============================] - 43s 2s/step - loss: 0.2394 - accuracy: 0.8869 - val_loss: 2.1088 - val_accuracy: 0.5341\n",
            "Epoch 8/50\n",
            "18/18 [==============================] - 43s 2s/step - loss: 0.4137 - accuracy: 0.8869 - val_loss: 1.2093 - val_accuracy: 0.5398\n",
            "Epoch 9/50\n",
            "18/18 [==============================] - 43s 2s/step - loss: 0.0974 - accuracy: 0.9726 - val_loss: 1.6000 - val_accuracy: 0.5568\n",
            "Epoch 10/50\n",
            "18/18 [==============================] - 43s 2s/step - loss: 0.0535 - accuracy: 0.9781 - val_loss: 2.5201 - val_accuracy: 0.5739\n",
            "Epoch 11/50\n",
            "18/18 [==============================] - 44s 3s/step - loss: 0.0171 - accuracy: 0.9945 - val_loss: 3.1807 - val_accuracy: 0.5341\n",
            "Epoch 12/50\n",
            "18/18 [==============================] - 44s 2s/step - loss: 0.0141 - accuracy: 0.9945 - val_loss: 4.1374 - val_accuracy: 0.5568\n",
            "Epoch 13/50\n",
            "18/18 [==============================] - 44s 2s/step - loss: 0.0190 - accuracy: 0.9945 - val_loss: 3.2659 - val_accuracy: 0.5568\n",
            "Epoch 14/50\n",
            "18/18 [==============================] - 43s 2s/step - loss: 0.0099 - accuracy: 0.9982 - val_loss: 3.6615 - val_accuracy: 0.5625\n",
            "Epoch 15/50\n",
            "18/18 [==============================] - 43s 2s/step - loss: 0.0024 - accuracy: 1.0000 - val_loss: 4.5128 - val_accuracy: 0.5398\n",
            "Epoch 16/50\n",
            "18/18 [==============================] - 44s 2s/step - loss: 3.2018e-04 - accuracy: 1.0000 - val_loss: 4.9290 - val_accuracy: 0.5398\n",
            "Epoch 17/50\n",
            "18/18 [==============================] - 43s 2s/step - loss: 1.3286e-04 - accuracy: 1.0000 - val_loss: 5.2241 - val_accuracy: 0.5227\n",
            "Epoch 18/50\n",
            "18/18 [==============================] - 44s 2s/step - loss: 8.0367e-05 - accuracy: 1.0000 - val_loss: 5.6095 - val_accuracy: 0.5227\n",
            "Epoch 19/50\n",
            "18/18 [==============================] - 43s 2s/step - loss: 5.1319e-05 - accuracy: 1.0000 - val_loss: 5.9307 - val_accuracy: 0.5284\n",
            "Epoch 20/50\n",
            "18/18 [==============================] - 43s 2s/step - loss: 3.7142e-05 - accuracy: 1.0000 - val_loss: 5.8597 - val_accuracy: 0.5227\n",
            "Epoch 21/50\n",
            "18/18 [==============================] - 44s 2s/step - loss: 2.7032e-05 - accuracy: 1.0000 - val_loss: 6.2494 - val_accuracy: 0.5227\n",
            "Epoch 22/50\n",
            "18/18 [==============================] - 44s 2s/step - loss: 0.0039 - accuracy: 0.9982 - val_loss: 4.8202 - val_accuracy: 0.5625\n",
            "Epoch 23/50\n",
            "18/18 [==============================] - 44s 2s/step - loss: 0.0135 - accuracy: 0.9964 - val_loss: 5.3258 - val_accuracy: 0.4943\n",
            "Epoch 24/50\n",
            "18/18 [==============================] - 43s 2s/step - loss: 0.0825 - accuracy: 0.9818 - val_loss: 4.5354 - val_accuracy: 0.5398\n",
            "Epoch 25/50\n",
            "18/18 [==============================] - 43s 2s/step - loss: 0.0859 - accuracy: 0.9745 - val_loss: 3.0151 - val_accuracy: 0.5227\n",
            "Epoch 26/50\n",
            "18/18 [==============================] - 43s 2s/step - loss: 0.1352 - accuracy: 0.9653 - val_loss: 1.7746 - val_accuracy: 0.5114\n",
            "Epoch 27/50\n",
            "18/18 [==============================] - 43s 2s/step - loss: 0.0487 - accuracy: 0.9891 - val_loss: 2.5562 - val_accuracy: 0.5057\n",
            "Epoch 28/50\n",
            "18/18 [==============================] - 43s 2s/step - loss: 0.0094 - accuracy: 0.9964 - val_loss: 3.5886 - val_accuracy: 0.5455\n",
            "Epoch 29/50\n",
            "18/18 [==============================] - 43s 2s/step - loss: 0.0017 - accuracy: 1.0000 - val_loss: 4.7873 - val_accuracy: 0.5455\n",
            "Epoch 30/50\n",
            "18/18 [==============================] - 43s 2s/step - loss: 0.0102 - accuracy: 0.9964 - val_loss: 4.0360 - val_accuracy: 0.5000\n",
            "Epoch 31/50\n",
            "18/18 [==============================] - 43s 2s/step - loss: 0.0081 - accuracy: 0.9964 - val_loss: 4.0645 - val_accuracy: 0.5227\n",
            "Epoch 32/50\n",
            "18/18 [==============================] - 43s 2s/step - loss: 0.0330 - accuracy: 0.9909 - val_loss: 4.2929 - val_accuracy: 0.5114\n",
            "Epoch 33/50\n",
            "18/18 [==============================] - 43s 2s/step - loss: 0.0485 - accuracy: 0.9836 - val_loss: 2.3916 - val_accuracy: 0.5568\n",
            "Epoch 34/50\n",
            "18/18 [==============================] - 43s 2s/step - loss: 0.0119 - accuracy: 1.0000 - val_loss: 4.5969 - val_accuracy: 0.5227\n",
            "Epoch 35/50\n",
            "18/18 [==============================] - 43s 2s/step - loss: 0.0096 - accuracy: 0.9982 - val_loss: 3.4700 - val_accuracy: 0.5568\n",
            "Epoch 36/50\n",
            "18/18 [==============================] - 43s 2s/step - loss: 0.0165 - accuracy: 0.9945 - val_loss: 4.6090 - val_accuracy: 0.5398\n",
            "Epoch 37/50\n",
            "18/18 [==============================] - 43s 2s/step - loss: 0.0393 - accuracy: 0.9909 - val_loss: 3.6288 - val_accuracy: 0.5227\n",
            "Epoch 38/50\n",
            "18/18 [==============================] - 43s 2s/step - loss: 0.0034 - accuracy: 1.0000 - val_loss: 3.5291 - val_accuracy: 0.5511\n",
            "Epoch 39/50\n",
            "18/18 [==============================] - 43s 2s/step - loss: 0.0017 - accuracy: 1.0000 - val_loss: 3.8954 - val_accuracy: 0.5568\n",
            "Epoch 40/50\n",
            "18/18 [==============================] - 45s 2s/step - loss: 6.1960e-04 - accuracy: 1.0000 - val_loss: 4.2122 - val_accuracy: 0.5455\n",
            "Epoch 41/50\n",
            "18/18 [==============================] - 44s 2s/step - loss: 3.9103e-04 - accuracy: 1.0000 - val_loss: 4.5261 - val_accuracy: 0.5455\n",
            "Epoch 42/50\n",
            "18/18 [==============================] - 44s 2s/step - loss: 1.7279e-04 - accuracy: 1.0000 - val_loss: 4.6975 - val_accuracy: 0.5511\n",
            "Epoch 43/50\n",
            "18/18 [==============================] - 44s 2s/step - loss: 1.0305e-04 - accuracy: 1.0000 - val_loss: 4.8790 - val_accuracy: 0.5625\n",
            "Epoch 44/50\n",
            "18/18 [==============================] - 44s 2s/step - loss: 7.0567e-05 - accuracy: 1.0000 - val_loss: 5.0871 - val_accuracy: 0.5511\n",
            "Epoch 45/50\n",
            "18/18 [==============================] - 44s 2s/step - loss: 4.3166e-05 - accuracy: 1.0000 - val_loss: 5.2281 - val_accuracy: 0.5568\n",
            "Epoch 46/50\n",
            "18/18 [==============================] - 44s 2s/step - loss: 2.9527e-05 - accuracy: 1.0000 - val_loss: 5.3203 - val_accuracy: 0.5625\n",
            "Epoch 47/50\n",
            "18/18 [==============================] - 45s 2s/step - loss: 2.4966e-05 - accuracy: 1.0000 - val_loss: 5.4318 - val_accuracy: 0.5568\n",
            "Epoch 48/50\n",
            "18/18 [==============================] - 45s 2s/step - loss: 1.6985e-05 - accuracy: 1.0000 - val_loss: 5.4882 - val_accuracy: 0.5568\n",
            "Epoch 49/50\n",
            "18/18 [==============================] - 45s 2s/step - loss: 1.4017e-05 - accuracy: 1.0000 - val_loss: 5.5586 - val_accuracy: 0.5568\n",
            "Epoch 50/50\n",
            "18/18 [==============================] - 45s 2s/step - loss: 1.1501e-05 - accuracy: 1.0000 - val_loss: 5.6174 - val_accuracy: 0.5568\n"
          ],
          "name": "stdout"
        }
      ]
    },
    {
      "cell_type": "markdown",
      "metadata": {
        "id": "VkgRroPWkZQq"
      },
      "source": [
        "### Plotting History\n",
        "\n",
        "Let's plot history and see"
      ]
    },
    {
      "cell_type": "code",
      "metadata": {
        "colab": {
          "background_save": true
        },
        "id": "M0uyuZ2FkdLa",
        "outputId": "0fb78212-95a1-4cd4-8fc1-96c47ff17d00"
      },
      "source": [
        "plt.figure(figsize = (14, 8))\n",
        "plt.subplot(1,2,1)\n",
        "plt.plot(history.history['loss'], label='loss')\n",
        "plt.plot(history.history['val_loss'], label='val_loss')\n",
        "plt.legend(loc='upper left')\n",
        "\n",
        "plt.subplot(1,2,2)\n",
        "plt.plot(history.history['accuracy'],label='accuracy')\n",
        "plt.plot(history.history['val_accuracy'], label='val_accuracy')\n",
        "plt.legend(loc='upper left')\n",
        "plt.show()"
      ],
      "execution_count": null,
      "outputs": [
        {
          "output_type": "display_data",
          "data": {
            "image/png": "[encoded data removed]",
            "text/plain": [
              "<Figure size 1008x576 with 2 Axes>"
            ]
          },
          "metadata": {
            "tags": []
          }
        }
      ]
    },
    {
      "cell_type": "markdown",
      "metadata": {
        "id": "TN3D5QWU0r2B"
      },
      "source": [
        "## A Simple Model With Simple Callback\n",
        "\n",
        "\n",
        "As the epochs go by, the algorithm leans and its error on the training set naturally goes down, and so does its error on the validation set. However, after a while, the validation error stops decreasing and actually starts to go back up. This indicates that the model has started to overfit the training data. With Early Stopping, you just stop training as soon as the validation error reaches the minimum.\n",
        "\n",
        "\n"
      ]
    },
    {
      "cell_type": "markdown",
      "metadata": {
        "id": "ETXg1zQO1Sql"
      },
      "source": [
        "### Build the Model\n",
        "\n",
        "\n"
      ]
    },
    {
      "cell_type": "code",
      "metadata": {
        "colab": {
          "background_save": true
        },
        "id": "2J6G8vNc3Xog",
        "outputId": "108495c8-d3f7-4155-8bdf-9d36fce05f40"
      },
      "source": [
        "model_cb = Sequential()\n",
        "\n",
        "model_cb.add(Conv2D(filters=128, kernel_size=(3,3), padding='same',\n",
        "                 input_shape = (150, 150, 3), data_format = 'channels_last',\n",
        "                 activation = 'relu'))\n",
        "\n",
        "model_cb.add(MaxPooling2D(2))\n",
        "\n",
        "model_cb.add(Conv2D(filters=64, kernel_size=(3,3), padding='same',\n",
        "                 activation = 'relu'))\n",
        "\n",
        "model_cb.add(MaxPooling2D(2))\n",
        "\n",
        "model_cb.add(Conv2D(filters=32, kernel_size=(3,3), padding='same',\n",
        "                 activation = 'relu'))\n",
        "\n",
        "model_cb.add(Flatten())\n",
        "model_cb.add(Dense(units=264, activation='relu'))\n",
        "model_cb.add(Dense(units=512, activation='relu'))\n",
        "model_cb.add(Dense(units=1, activation = 'sigmoid'))\n",
        "model_cb.summary()"
      ],
      "execution_count": null,
      "outputs": [
        {
          "output_type": "stream",
          "text": [
            "Model: \"sequential_1\"\n",
            "_________________________________________________________________\n",
            "Layer (type)                 Output Shape              Param #   \n",
            "=================================================================\n",
            "conv2d_3 (Conv2D)            (None, 150, 150, 128)     3584      \n",
            "_________________________________________________________________\n",
            "max_pooling2d_2 (MaxPooling2 (None, 75, 75, 128)       0         \n",
            "_________________________________________________________________\n",
            "conv2d_4 (Conv2D)            (None, 75, 75, 64)        73792     \n",
            "_________________________________________________________________\n",
            "max_pooling2d_3 (MaxPooling2 (None, 37, 37, 64)        0         \n",
            "_________________________________________________________________\n",
            "conv2d_5 (Conv2D)            (None, 37, 37, 32)        18464     \n",
            "_________________________________________________________________\n",
            "flatten_1 (Flatten)          (None, 43808)             0         \n",
            "_________________________________________________________________\n",
            "dense_3 (Dense)              (None, 264)               11565576  \n",
            "_________________________________________________________________\n",
            "dense_4 (Dense)              (None, 512)               135680    \n",
            "_________________________________________________________________\n",
            "dense_5 (Dense)              (None, 1)                 513       \n",
            "=================================================================\n",
            "Total params: 11,797,609\n",
            "Trainable params: 11,797,609\n",
            "Non-trainable params: 0\n",
            "_________________________________________________________________\n"
          ],
          "name": "stdout"
        }
      ]
    },
    {
      "cell_type": "markdown",
      "metadata": {
        "id": "jtep4le51b_D"
      },
      "source": [
        "### Compile the Model\n",
        "\n",
        "\n"
      ]
    },
    {
      "cell_type": "code",
      "metadata": {
        "colab": {
          "background_save": true
        },
        "id": "3vg7IZi63hc0"
      },
      "source": [
        "model_cb.compile(\n",
        "    optimizer = tf.keras.optimizers.Adam(),\n",
        "    loss = tf.keras.losses.BinaryCrossentropy(),\n",
        "    metrics = ['accuracy']\n",
        ")"
      ],
      "execution_count": null,
      "outputs": []
    },
    {
      "cell_type": "markdown",
      "metadata": {
        "id": "FfL0zktD1iGb"
      },
      "source": [
        "### Instantiating the Callback\n",
        "\n",
        "Let's instantitate the `EarlyCallback` as follows:"
      ]
    },
    {
      "cell_type": "code",
      "metadata": {
        "colab": {
          "background_save": true
        },
        "id": "4PpNgkfz2BOE"
      },
      "source": [
        "from tensorflow.keras.callbacks import EarlyStopping\n",
        "early_stopping = EarlyStopping(monitor='val_loss',\n",
        "                               patience = 3,\n",
        "                               verbose = 1)"
      ],
      "execution_count": null,
      "outputs": []
    },
    {
      "cell_type": "markdown",
      "metadata": {
        "id": "1jcQUCcf2Kya"
      },
      "source": [
        "### Training the Model Using the Callback\n",
        "\n",
        "Next, we just need to pass the callback object to `model.fit()` method. The `early_stopping` get passed in a list to the callbacks argument. It is a list because in practice we might be passing a number of callbacks for performing different tasks, for example debugging and learning rate scheduler.\n",
        "\n"
      ]
    },
    {
      "cell_type": "code",
      "metadata": {
        "colab": {
          "background_save": true
        },
        "id": "32I9qqmM2uvJ",
        "outputId": "2e4c0326-420f-4442-b2a1-a04795ba5144"
      },
      "source": [
        "history_cb = model_cb.fit(train_it, validation_data=test_it, epochs=50,\n",
        "                    callbacks = [early_stopping])"
      ],
      "execution_count": null,
      "outputs": [
        {
          "output_type": "stream",
          "text": [
            "Epoch 1/50\n",
            "18/18 [==============================] - 46s 3s/step - loss: 0.8016 - accuracy: 0.4708 - val_loss: 0.6938 - val_accuracy: 0.5000\n",
            "Epoch 2/50\n",
            "18/18 [==============================] - 45s 2s/step - loss: 0.6946 - accuracy: 0.5201 - val_loss: 0.6926 - val_accuracy: 0.4943\n",
            "Epoch 3/50\n",
            "18/18 [==============================] - 45s 2s/step - loss: 0.6898 - accuracy: 0.5584 - val_loss: 0.6906 - val_accuracy: 0.5227\n",
            "Epoch 4/50\n",
            "18/18 [==============================] - 44s 2s/step - loss: 0.6714 - accuracy: 0.5876 - val_loss: 0.7066 - val_accuracy: 0.4943\n",
            "Epoch 5/50\n",
            "18/18 [==============================] - 45s 2s/step - loss: 0.6352 - accuracy: 0.6533 - val_loss: 0.7327 - val_accuracy: 0.5057\n",
            "Epoch 6/50\n",
            "18/18 [==============================] - 45s 2s/step - loss: 0.5864 - accuracy: 0.7062 - val_loss: 0.7956 - val_accuracy: 0.5227\n",
            "Epoch 00006: early stopping\n"
          ],
          "name": "stdout"
        }
      ]
    },
    {
      "cell_type": "markdown",
      "metadata": {
        "id": "i1-WBOVO27Bb"
      },
      "source": [
        "The training gets terminated at Epoch 5 due to the increase of `val_loss` value and that is exactly the conditions `monitor='val_loss'` and `patience=3`.\n",
        "\n",
        "It’s often more convenient to look at a plot."
      ]
    },
    {
      "cell_type": "markdown",
      "metadata": {
        "id": "aEXK50hS3Gjh"
      },
      "source": [
        "### Plotting History\n",
        "\n",
        "Let's plot history and see"
      ]
    },
    {
      "cell_type": "code",
      "metadata": {
        "colab": {
          "background_save": true
        },
        "id": "nLjcF_aU3Mhh",
        "outputId": "8886311e-8a47-4b80-9fd0-b86eb970bc79"
      },
      "source": [
        "plt.figure(figsize = (14, 8))\n",
        "plt.subplot(1,2,1)\n",
        "plt.plot(history_cb.history['loss'], label='loss')\n",
        "plt.plot(history_cb.history['val_loss'], label='val_loss')\n",
        "plt.legend(loc='upper left')\n",
        "\n",
        "plt.subplot(1,2,2)\n",
        "plt.plot(history_cb.history['accuracy'],label='accuracy')\n",
        "plt.plot(history_cb.history['val_accuracy'], label='val_accuracy')\n",
        "plt.legend(loc='upper left')\n",
        "plt.show()"
      ],
      "execution_count": null,
      "outputs": [
        {
          "output_type": "display_data",
          "data": {
            "image/png": "[encoded data removed]",
            "text/plain": [
              "<Figure size 1008x576 with 2 Axes>"
            ]
          },
          "metadata": {
            "tags": []
          }
        }
      ]
    },
    {
      "cell_type": "markdown",
      "metadata": {
        "id": "AGPzXSB04Xx9"
      },
      "source": [
        "## Customizing Early Stopping\n",
        "\n",
        "Apart from the options monitor and patience we mentioned early, the other 2 options `min_delta` and `mode` are likely to be used quite often.\n",
        "\n",
        "**monitor='val_loss':** to use validation loss as performance measure to terminate the training.\n",
        "\n",
        "**patience=0:** is the number of epochs with no improvement. The value 0 means the training is terminated as soon as the performance measure gets worse from one epoch to the next.\n",
        "\n",
        "**min_delta:** Minimum change in the monitored quantity to qualify as an improvement, i.e. an absolute change of less than `min_delta`, will count as no improvement.\n",
        "\n",
        "**mode='auto':** Should be one of auto, min or max. In 'min' mode, training will stop when the quantity monitored has stopped decreasing; in 'max' mode it will stop when the quantity monitored has stopped increasing; in 'auto' mode, the direction is automatically inferred from the name of the monitored quantity."
      ]
    },
    {
      "cell_type": "markdown",
      "metadata": {
        "id": "D-c55giU4r1m"
      },
      "source": [
        "### Instantiating Custom Callback\n"
      ]
    },
    {
      "cell_type": "code",
      "metadata": {
        "colab": {
          "background_save": true
        },
        "id": "f6OLfGWg40f6"
      },
      "source": [
        "custome_early_stopping = EarlyStopping(\n",
        "    monitor = 'val_loss',\n",
        "    min_delta = 0.001,\n",
        "    patience = 5, \n",
        "    verbose = 2,\n",
        "    mode = 'auto'\n",
        ")"
      ],
      "execution_count": null,
      "outputs": []
    },
    {
      "cell_type": "markdown",
      "metadata": {
        "id": "f3TkpHk_5DZ5"
      },
      "source": [
        "### Training the Model with Custom Callback\n",
        "\n"
      ]
    },
    {
      "cell_type": "code",
      "metadata": {
        "colab": {
          "background_save": true
        },
        "id": "5mrfH49-5HOs",
        "outputId": "e4c01583-811f-448b-d719-92c6e6cdcd58"
      },
      "source": [
        "history_custom_cb = model_cb.fit(train_it, validation_data = test_it,\n",
        "                                 epochs = 50,\n",
        "                                 callbacks = [custome_early_stopping])"
      ],
      "execution_count": null,
      "outputs": [
        {
          "output_type": "stream",
          "text": [
            "Epoch 1/50\n",
            "18/18 [==============================] - 45s 3s/step - loss: 0.5018 - accuracy: 0.7464 - val_loss: 0.8339 - val_accuracy: 0.4943\n",
            "Epoch 2/50\n",
            "18/18 [==============================] - 45s 3s/step - loss: 0.3488 - accuracy: 0.8248 - val_loss: 0.9817 - val_accuracy: 0.5227\n",
            "Epoch 3/50\n",
            "18/18 [==============================] - 45s 2s/step - loss: 0.1927 - accuracy: 0.9361 - val_loss: 1.7821 - val_accuracy: 0.5000\n",
            "Epoch 4/50\n",
            "18/18 [==============================] - 45s 2s/step - loss: 0.1281 - accuracy: 0.9507 - val_loss: 1.8273 - val_accuracy: 0.5227\n",
            "Epoch 5/50\n",
            "18/18 [==============================] - 45s 2s/step - loss: 0.0442 - accuracy: 0.9872 - val_loss: 2.2684 - val_accuracy: 0.5455\n",
            "Epoch 6/50\n",
            "18/18 [==============================] - 45s 2s/step - loss: 0.0194 - accuracy: 0.9927 - val_loss: 2.7884 - val_accuracy: 0.5511\n",
            "Epoch 00006: early stopping\n"
          ],
          "name": "stdout"
        }
      ]
    },
    {
      "cell_type": "markdown",
      "metadata": {
        "id": "Hu_Aebct5b16"
      },
      "source": [
        "### Plotting History"
      ]
    },
    {
      "cell_type": "code",
      "metadata": {
        "colab": {
          "background_save": true
        },
        "id": "NAWUcOpX5nq-",
        "outputId": "04298130-7d55-49cb-8b4d-b353998747c5"
      },
      "source": [
        "plt.figure(figsize = (14, 8))\n",
        "plt.subplot(1,2,1)\n",
        "plt.plot(history_custom_cb.history['loss'], label='loss')\n",
        "plt.plot(history_custom_cb.history['val_loss'], label='val_loss')\n",
        "plt.legend(loc='upper left')\n",
        "\n",
        "plt.subplot(1,2,2)\n",
        "plt.plot(history_custom_cb.history['accuracy'],label='accuracy')\n",
        "plt.plot(history_custom_cb.history['val_accuracy'], label='val_accuracy')\n",
        "plt.legend(loc='upper left')\n",
        "plt.show()"
      ],
      "execution_count": null,
      "outputs": [
        {
          "output_type": "display_data",
          "data": {
            "image/png": "[encoded data removed]",
            "text/plain": [
              "<Figure size 1008x576 with 2 Axes>"
            ]
          },
          "metadata": {
            "tags": []
          }
        }
      ]
    },
    {
      "cell_type": "markdown",
      "metadata": {
        "id": "48XxtEMwtZgc"
      },
      "source": [
        "## Customizing EarlyStopping for Accuracy\n"
      ]
    },
    {
      "cell_type": "code",
      "metadata": {
        "id": "i5syUW9P_9sC",
        "colab": {
          "base_uri": "https://localhost:8080/"
        },
        "outputId": "55715245-5223-464f-e74b-862897f98034"
      },
      "source": [
        "model_acc = Sequential()\n",
        "\n",
        "model_acc.add(Conv2D(filters=128, kernel_size=(3,3), padding='same',\n",
        "                 input_shape = (150, 150, 3), data_format = 'channels_last',\n",
        "                 activation = 'relu'))\n",
        "\n",
        "model_acc.add(MaxPooling2D(2))\n",
        "\n",
        "model_acc.add(Conv2D(filters=64, kernel_size=(3,3), padding='same',\n",
        "                 activation = 'relu'))\n",
        "\n",
        "model_acc.add(MaxPooling2D(2))\n",
        "\n",
        "model_acc.add(Conv2D(filters=32, kernel_size=(3,3), padding='same',\n",
        "                 activation = 'relu'))\n",
        "\n",
        "model_acc.add(Flatten())\n",
        "model_acc.add(Dense(units=264, activation='relu'))\n",
        "model_acc.add(Dense(units=512, activation='relu'))\n",
        "model_acc.add(Dense(units=1, activation = 'sigmoid'))\n",
        "model_acc.summary()"
      ],
      "execution_count": 15,
      "outputs": [
        {
          "output_type": "stream",
          "text": [
            "Model: \"sequential_1\"\n",
            "_________________________________________________________________\n",
            "Layer (type)                 Output Shape              Param #   \n",
            "=================================================================\n",
            "conv2d_3 (Conv2D)            (None, 150, 150, 128)     3584      \n",
            "_________________________________________________________________\n",
            "max_pooling2d_2 (MaxPooling2 (None, 75, 75, 128)       0         \n",
            "_________________________________________________________________\n",
            "conv2d_4 (Conv2D)            (None, 75, 75, 64)        73792     \n",
            "_________________________________________________________________\n",
            "max_pooling2d_3 (MaxPooling2 (None, 37, 37, 64)        0         \n",
            "_________________________________________________________________\n",
            "conv2d_5 (Conv2D)            (None, 37, 37, 32)        18464     \n",
            "_________________________________________________________________\n",
            "flatten_1 (Flatten)          (None, 43808)             0         \n",
            "_________________________________________________________________\n",
            "dense_3 (Dense)              (None, 264)               11565576  \n",
            "_________________________________________________________________\n",
            "dense_4 (Dense)              (None, 512)               135680    \n",
            "_________________________________________________________________\n",
            "dense_5 (Dense)              (None, 1)                 513       \n",
            "=================================================================\n",
            "Total params: 11,797,609\n",
            "Trainable params: 11,797,609\n",
            "Non-trainable params: 0\n",
            "_________________________________________________________________\n"
          ],
          "name": "stdout"
        }
      ]
    },
    {
      "cell_type": "markdown",
      "metadata": {
        "id": "rfVHcNuwwT7A"
      },
      "source": [
        "### Compiling the Model"
      ]
    },
    {
      "cell_type": "code",
      "metadata": {
        "id": "CbcXP8SIAB5t"
      },
      "source": [
        "model_acc.compile(\n",
        "    optimizer = tf.keras.optimizers.Adam(),\n",
        "    loss = tf.keras.losses.BinaryCrossentropy(),\n",
        "    metrics = ['accuracy'])"
      ],
      "execution_count": 19,
      "outputs": []
    },
    {
      "cell_type": "markdown",
      "metadata": {
        "id": "OWTRhyuRyrr0"
      },
      "source": [
        "# Intantiating the Callback\n",
        "\n",
        "Let's assume we want our model to train untill it reaches $95\\%$ accuracy. To do so, we need to create a custom callback."
      ]
    },
    {
      "cell_type": "code",
      "metadata": {
        "id": "ACOU6XjeysAq"
      },
      "source": [
        "class myCallback(tf.keras.callbacks.Callback):\n",
        "  def on_epoch_end(self, epoch, logs ={}):\n",
        "    if(logs.get('accuracy')>0.93):\n",
        "      print(\"\\Reached 93% accuracy so cancelling training.\")\n",
        "      self.model.stop_training = True\n",
        "    \n",
        "\n",
        "earlystopping_acc = myCallback()"
      ],
      "execution_count": 20,
      "outputs": []
    },
    {
      "cell_type": "markdown",
      "metadata": {
        "id": "9XXxzi9hzoE-"
      },
      "source": [
        "### Training the Model"
      ]
    },
    {
      "cell_type": "code",
      "metadata": {
        "colab": {
          "base_uri": "https://localhost:8080/"
        },
        "id": "AAu0aFcfzqkc",
        "outputId": "2fe2f5e6-827f-4d81-aa5e-39649c50c9ef"
      },
      "source": [
        "history_acc = model_acc.fit(train_it, validation_data = test_it,\n",
        "                                 epochs = 50,\n",
        "                                 callbacks = [earlystopping_acc])"
      ],
      "execution_count": 21,
      "outputs": [
        {
          "output_type": "stream",
          "text": [
            "Epoch 1/50\n",
            "18/18 [==============================] - 261s 13s/step - loss: 0.7196 - accuracy: 0.4763 - val_loss: 0.6930 - val_accuracy: 0.5341\n",
            "Epoch 2/50\n",
            "18/18 [==============================] - 3s 160ms/step - loss: 0.6975 - accuracy: 0.5018 - val_loss: 0.6930 - val_accuracy: 0.5000\n",
            "Epoch 3/50\n",
            "18/18 [==============================] - 3s 160ms/step - loss: 0.6924 - accuracy: 0.5146 - val_loss: 0.6939 - val_accuracy: 0.4773\n",
            "Epoch 4/50\n",
            "18/18 [==============================] - 3s 159ms/step - loss: 0.6936 - accuracy: 0.5328 - val_loss: 0.6931 - val_accuracy: 0.5000\n",
            "Epoch 5/50\n",
            "18/18 [==============================] - 3s 160ms/step - loss: 0.6926 - accuracy: 0.5000 - val_loss: 0.6920 - val_accuracy: 0.5000\n",
            "Epoch 6/50\n",
            "18/18 [==============================] - 3s 160ms/step - loss: 0.6950 - accuracy: 0.5310 - val_loss: 0.6951 - val_accuracy: 0.5000\n",
            "Epoch 7/50\n",
            "18/18 [==============================] - 3s 159ms/step - loss: 0.9158 - accuracy: 0.6460 - val_loss: 0.6898 - val_accuracy: 0.5625\n",
            "Epoch 8/50\n",
            "18/18 [==============================] - 3s 157ms/step - loss: 0.6662 - accuracy: 0.6788 - val_loss: 0.7240 - val_accuracy: 0.5511\n",
            "Epoch 9/50\n",
            "18/18 [==============================] - 3s 157ms/step - loss: 0.5535 - accuracy: 0.7263 - val_loss: 0.7504 - val_accuracy: 0.5284\n",
            "Epoch 10/50\n",
            "18/18 [==============================] - 3s 155ms/step - loss: 0.3970 - accuracy: 0.8139 - val_loss: 0.8911 - val_accuracy: 0.5341\n",
            "Epoch 11/50\n",
            "18/18 [==============================] - 3s 157ms/step - loss: 0.2888 - accuracy: 0.8942 - val_loss: 0.6679 - val_accuracy: 0.5455\n",
            "Epoch 12/50\n",
            "18/18 [==============================] - 3s 162ms/step - loss: 0.2925 - accuracy: 0.8905 - val_loss: 1.4461 - val_accuracy: 0.5455\n",
            "Epoch 13/50\n",
            "18/18 [==============================] - 3s 169ms/step - loss: 0.2294 - accuracy: 0.9380 - val_loss: 2.8564 - val_accuracy: 0.6136\n",
            "\\Reached 93% accuracy so cancelling training.\n"
          ],
          "name": "stdout"
        }
      ]
    },
    {
      "cell_type": "markdown",
      "metadata": {
        "id": "I_UZGL17z-uo"
      },
      "source": [
        "### Plotting History\n",
        "\n"
      ]
    },
    {
      "cell_type": "code",
      "metadata": {
        "colab": {
          "base_uri": "https://localhost:8080/",
          "height": 483
        },
        "id": "q_WZFwNr0UJY",
        "outputId": "97cb977e-15a6-4be1-daf1-92117187f555"
      },
      "source": [
        "plt.figure(figsize = (14, 8))\n",
        "plt.subplot(1,2,1)\n",
        "plt.plot(history_acc.history['loss'], label='loss')\n",
        "plt.plot(history_acc.history['val_loss'], label='val_loss')\n",
        "plt.legend(loc='upper left')\n",
        "\n",
        "plt.subplot(1,2,2)\n",
        "plt.plot(history_acc.history['accuracy'],label='accuracy')\n",
        "plt.plot(history_acc.history['val_accuracy'], label='val_accuracy')\n",
        "plt.legend(loc='upper left')\n",
        "plt.show()"
      ],
      "execution_count": 22,
      "outputs": [
        {
          "output_type": "display_data",
          "data": {
            "image/png": "[encoded data removed]",
            "text/plain": [
              "<Figure size 1008x576 with 2 Axes>"
            ]
          },
          "metadata": {
            "tags": [],
            "needs_background": "light"
          }
        }
      ]
    },
    {
      "cell_type": "markdown",
      "metadata": {
        "id": "1tdykzTc9uaB"
      },
      "source": [
        "# References\n",
        "\n",
        "1. [A Guide to TensorFlow Callbacks](https://blog.paperspace.com/tensorflow-callbacks/)\n",
        "2. [Writing your own callbacks](https://www.tensorflow.org/guide/keras/custom_callback)\n",
        "3. [tf.keras.callbacks.Callback](https://www.tensorflow.org/api_docs/python/tf/keras/callbacks/Callback)\n",
        "4. [A Practical Introduction to Keras Callbacks in TensorFlow 2](https://towardsdatascience.com/a-practical-introduction-to-keras-callbacks-in-tensorflow-2-705d0c584966)\n",
        "5. [How to use TensorFlow callbacks?](https://medium.com/ydata-ai/how-to-use-tensorflow-callbacks-f54f9bb6db25)\n",
        "6. [Callbacks in Tensor Flow](https://sailajakarra.medium.com/callbacks-in-tensor-flow-f8e7f9996f5f)\n",
        "7. [Keras Callbacks Explained In Three Minutes](https://www.kdnuggets.com/2019/08/keras-callbacks-explained-three-minutes.html)\n"
      ]
    }
  ]
}