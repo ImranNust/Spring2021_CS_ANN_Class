{
  "nbformat": 4,
  "nbformat_minor": 0,
  "metadata": {
    "colab": {
      "name": "Module6_CSVCallBacks.ipynb",
      "provenance": [],
      "collapsed_sections": []
    },
    "kernelspec": {
      "display_name": "Python 3",
      "name": "python3"
    },
    "language_info": {
      "name": "python"
    }
  },
  "cells": [
    {
      "cell_type": "code",
      "metadata": {
        "id": "K9H9iU_Xfxw7"
      },
      "source": [
        "# Imports\n",
        "import os\n",
        "import tensorflow as tf\n",
        "import math\n",
        "import matplotlib.pyplot as plt\n",
        "\n",
        "\n",
        "\n",
        "from tensorflow.keras.models import Sequential\n",
        "from tensorflow.keras.layers import Dense, Conv2D, MaxPooling2D, Flatten, Dropout"
      ],
      "execution_count": 1,
      "outputs": []
    },
    {
      "cell_type": "markdown",
      "metadata": {
        "id": "9-RJ9pwylHmD"
      },
      "source": [
        "***\n",
        "\n",
        "# CSVLogger\n",
        "\n",
        "As the name suggests, this callback logs the training details in a CSV file. The logged parameters are `epoch`, `accuracy`, `loss`, `val_accuracy`, and `val_loss`. One thing to keep in mind is that you need to pass accuracy as a metric while compiling the model, otherwise you will get an execution error.\n",
        "\n",
        "```\n",
        "tf.keras.callbacks.CSVLogger(filename, \n",
        "                             separator=',', \n",
        "                             append=False)\n",
        "```\n",
        "\n",
        "The logger accepts the filename, separator, and append as parameters. append defines whether or not to append to an existing file, or write in a new file instead.\n",
        "\n",
        "The CSVLogger callback is executed via the `on_epoch_end` trigger of training. So when an epoch ends, the logs are put into a file.\n",
        "\n",
        "\n",
        "\n",
        "***"
      ]
    },
    {
      "cell_type": "markdown",
      "metadata": {
        "id": "xED0LqgxW_NH"
      },
      "source": [
        "\n",
        "## Preparing Dataset \n",
        "\n",
        "***"
      ]
    },
    {
      "cell_type": "code",
      "metadata": {
        "colab": {
          "base_uri": "https://localhost:8080/"
        },
        "id": "I6HxSnMJf56U",
        "outputId": "27729adb-6535-4bb9-f9f9-d1c1be53d538"
      },
      "source": [
        "(train_images, train_labels), (test_images, test_labels) = tf.keras.datasets.mnist.load_data()\n",
        "\n",
        "train_labels = train_labels[:1000]\n",
        "test_labels = test_labels[:1000]\n",
        "\n",
        "train_images = train_images[:1000].reshape(-1, 28 * 28) / 255.0\n",
        "test_images = test_images[:1000].reshape(-1, 28 * 28) / 255.0"
      ],
      "execution_count": 2,
      "outputs": [
        {
          "output_type": "stream",
          "text": [
            "Downloading data from https://storage.googleapis.com/tensorflow/tf-keras-datasets/mnist.npz\n",
            "11493376/11490434 [==============================] - 0s 0us/step\n"
          ],
          "name": "stdout"
        }
      ]
    },
    {
      "cell_type": "markdown",
      "metadata": {
        "id": "10SG31C8soCw"
      },
      "source": [
        "## Define the Model"
      ]
    },
    {
      "cell_type": "code",
      "metadata": {
        "colab": {
          "base_uri": "https://localhost:8080/"
        },
        "id": "m3XG0HNUgFax",
        "outputId": "b36a0e8f-1f5c-4d82-d9f1-fdfc8ca57bef"
      },
      "source": [
        "# Define a simple sequential model\n",
        "def create_model():\n",
        "  model = Sequential([\n",
        "    Dense(512, activation='relu', input_shape=(784,), name = 'Layer-1'),\n",
        "    Dropout(0.2),\n",
        "    Dense(10, name = \"Layer-2\")\n",
        "  ])\n",
        "\n",
        "  model.compile(optimizer='adam',\n",
        "                loss=tf.losses.SparseCategoricalCrossentropy(from_logits=True),\n",
        "                metrics=[tf.metrics.SparseCategoricalAccuracy()])\n",
        "\n",
        "  return model\n",
        "\n",
        "# Create a basic model instance\n",
        "model = create_model()\n",
        "\n",
        "# Display the model's architecture\n",
        "model.summary()"
      ],
      "execution_count": 3,
      "outputs": [
        {
          "output_type": "stream",
          "text": [
            "Model: \"sequential\"\n",
            "_________________________________________________________________\n",
            "Layer (type)                 Output Shape              Param #   \n",
            "=================================================================\n",
            "Layer-1 (Dense)              (None, 512)               401920    \n",
            "_________________________________________________________________\n",
            "dropout (Dropout)            (None, 512)               0         \n",
            "_________________________________________________________________\n",
            "Layer-2 (Dense)              (None, 10)                5130      \n",
            "=================================================================\n",
            "Total params: 407,050\n",
            "Trainable params: 407,050\n",
            "Non-trainable params: 0\n",
            "_________________________________________________________________\n"
          ],
          "name": "stdout"
        }
      ]
    },
    {
      "cell_type": "markdown",
      "metadata": {
        "id": "XGiVYB1YsHqA"
      },
      "source": [
        "## CSVLogger\n",
        "\n",
        "First, let’s import it and create a CSVLogger object"
      ]
    },
    {
      "cell_type": "code",
      "metadata": {
        "id": "TrJKcoiAYMnM"
      },
      "source": [
        "from tensorflow.keras.callbacks import CSVLogger\n",
        "result_path = '/content/result.csv'\n",
        "csv_log = CSVLogger(result_path)"
      ],
      "execution_count": 7,
      "outputs": []
    },
    {
      "cell_type": "markdown",
      "metadata": {
        "id": "aDZMIlDaYVPE"
      },
      "source": [
        "Next, we just need to pass the **csv_log** object to `model.fit()` method."
      ]
    },
    {
      "cell_type": "code",
      "metadata": {
        "colab": {
          "base_uri": "https://localhost:8080/"
        },
        "id": "NPJSYOJksisR",
        "outputId": "3c1662bc-1c35-43c0-f24f-d982192b6715"
      },
      "source": [
        "# Train the model with the new callback\n",
        "history = model.fit(train_images, \n",
        "          train_labels,  \n",
        "          epochs=10,\n",
        "          validation_data=(test_images, test_labels),\n",
        "          callbacks = [csv_log])  # Pass callback to training"
      ],
      "execution_count": 8,
      "outputs": [
        {
          "output_type": "stream",
          "text": [
            "Epoch 1/10\n",
            "32/32 [==============================] - 0s 8ms/step - loss: 0.0303 - sparse_categorical_accuracy: 1.0000 - val_loss: 0.4010 - val_sparse_categorical_accuracy: 0.8700\n",
            "Epoch 2/10\n",
            "32/32 [==============================] - 0s 7ms/step - loss: 0.0232 - sparse_categorical_accuracy: 1.0000 - val_loss: 0.4084 - val_sparse_categorical_accuracy: 0.8730\n",
            "Epoch 3/10\n",
            "32/32 [==============================] - 0s 7ms/step - loss: 0.0216 - sparse_categorical_accuracy: 1.0000 - val_loss: 0.4096 - val_sparse_categorical_accuracy: 0.8720\n",
            "Epoch 4/10\n",
            "32/32 [==============================] - 0s 10ms/step - loss: 0.0170 - sparse_categorical_accuracy: 1.0000 - val_loss: 0.4144 - val_sparse_categorical_accuracy: 0.8750\n",
            "Epoch 5/10\n",
            "32/32 [==============================] - 0s 7ms/step - loss: 0.0146 - sparse_categorical_accuracy: 1.0000 - val_loss: 0.4065 - val_sparse_categorical_accuracy: 0.8760\n",
            "Epoch 6/10\n",
            "32/32 [==============================] - 0s 7ms/step - loss: 0.0123 - sparse_categorical_accuracy: 1.0000 - val_loss: 0.4175 - val_sparse_categorical_accuracy: 0.8780\n",
            "Epoch 7/10\n",
            "32/32 [==============================] - 0s 10ms/step - loss: 0.0114 - sparse_categorical_accuracy: 1.0000 - val_loss: 0.4249 - val_sparse_categorical_accuracy: 0.8670\n",
            "Epoch 8/10\n",
            "32/32 [==============================] - 0s 10ms/step - loss: 0.0104 - sparse_categorical_accuracy: 1.0000 - val_loss: 0.4276 - val_sparse_categorical_accuracy: 0.8750\n",
            "Epoch 9/10\n",
            "32/32 [==============================] - 0s 7ms/step - loss: 0.0091 - sparse_categorical_accuracy: 1.0000 - val_loss: 0.4265 - val_sparse_categorical_accuracy: 0.8700\n",
            "Epoch 10/10\n",
            "32/32 [==============================] - 0s 7ms/step - loss: 0.0102 - sparse_categorical_accuracy: 1.0000 - val_loss: 0.4255 - val_sparse_categorical_accuracy: 0.8770\n"
          ],
          "name": "stdout"
        }
      ]
    },
    {
      "cell_type": "markdown",
      "metadata": {
        "id": "trV7cszlY0Rs"
      },
      "source": [
        "Once the training is completed, we can view the information in the CSV file\n"
      ]
    },
    {
      "cell_type": "code",
      "metadata": {
        "colab": {
          "base_uri": "https://localhost:8080/",
          "height": 255
        },
        "id": "O30W2PzbY2sE",
        "outputId": "4019577f-74e8-47fc-a767-c2e99c019175"
      },
      "source": [
        "import pandas as pd\n",
        "history = pd.read_csv(result_path, index_col='epoch')\n",
        "history.head()"
      ],
      "execution_count": 11,
      "outputs": [
        {
          "output_type": "execute_result",
          "data": {
            "text/html": [
              "<div>\n",
              "<style scoped>\n",
              "    .dataframe tbody tr th:only-of-type {\n",
              "        vertical-align: middle;\n",
              "    }\n",
              "\n",
              "    .dataframe tbody tr th {\n",
              "        vertical-align: top;\n",
              "    }\n",
              "\n",
              "    .dataframe thead th {\n",
              "        text-align: right;\n",
              "    }\n",
              "</style>\n",
              "<table border=\"1\" class=\"dataframe\">\n",
              "  <thead>\n",
              "    <tr style=\"text-align: right;\">\n",
              "      <th></th>\n",
              "      <th>loss</th>\n",
              "      <th>sparse_categorical_accuracy</th>\n",
              "      <th>val_loss</th>\n",
              "      <th>val_sparse_categorical_accuracy</th>\n",
              "    </tr>\n",
              "    <tr>\n",
              "      <th>epoch</th>\n",
              "      <th></th>\n",
              "      <th></th>\n",
              "      <th></th>\n",
              "      <th></th>\n",
              "    </tr>\n",
              "  </thead>\n",
              "  <tbody>\n",
              "    <tr>\n",
              "      <th>0</th>\n",
              "      <td>0.030295</td>\n",
              "      <td>1.0</td>\n",
              "      <td>0.401027</td>\n",
              "      <td>0.870</td>\n",
              "    </tr>\n",
              "    <tr>\n",
              "      <th>1</th>\n",
              "      <td>0.023223</td>\n",
              "      <td>1.0</td>\n",
              "      <td>0.408369</td>\n",
              "      <td>0.873</td>\n",
              "    </tr>\n",
              "    <tr>\n",
              "      <th>2</th>\n",
              "      <td>0.021601</td>\n",
              "      <td>1.0</td>\n",
              "      <td>0.409642</td>\n",
              "      <td>0.872</td>\n",
              "    </tr>\n",
              "    <tr>\n",
              "      <th>3</th>\n",
              "      <td>0.016996</td>\n",
              "      <td>1.0</td>\n",
              "      <td>0.414416</td>\n",
              "      <td>0.875</td>\n",
              "    </tr>\n",
              "    <tr>\n",
              "      <th>4</th>\n",
              "      <td>0.014637</td>\n",
              "      <td>1.0</td>\n",
              "      <td>0.406487</td>\n",
              "      <td>0.876</td>\n",
              "    </tr>\n",
              "  </tbody>\n",
              "</table>\n",
              "</div>"
            ],
            "text/plain": [
              "           loss  ...  val_sparse_categorical_accuracy\n",
              "epoch            ...                                 \n",
              "0      0.030295  ...                            0.870\n",
              "1      0.023223  ...                            0.873\n",
              "2      0.021601  ...                            0.872\n",
              "3      0.016996  ...                            0.875\n",
              "4      0.014637  ...                            0.876\n",
              "\n",
              "[5 rows x 4 columns]"
            ]
          },
          "metadata": {
            "tags": []
          },
          "execution_count": 11
        }
      ]
    },
    {
      "cell_type": "code",
      "metadata": {
        "colab": {
          "base_uri": "https://localhost:8080/",
          "height": 503
        },
        "id": "sc-DkuhNs0On",
        "outputId": "b75933b9-71af-4d1f-a626-955e3edc3d14"
      },
      "source": [
        "plt.figure(figsize = (14, 8))\n",
        "plt.subplot(1,2,1)\n",
        "plt.plot(history['loss'], label='loss')\n",
        "plt.plot(history['val_loss'], label='val_loss')\n",
        "plt.legend(loc='upper left')\n",
        "\n",
        "plt.subplot(1,2,2)\n",
        "plt.plot(history['sparse_categorical_accuracy'],label='accuracy')\n",
        "plt.plot(history['val_sparse_categorical_accuracy'], label='val_accuracy')\n",
        "plt.legend(loc='upper left')\n",
        "plt.show()"
      ],
      "execution_count": 15,
      "outputs": [
        {
          "output_type": "display_data",
          "data": {
            "image/png": "[encoded data removed]",
            "text/plain": [
              "<Figure size 1008x576 with 2 Axes>"
            ]
          },
          "metadata": {
            "tags": [],
            "needs_background": "light"
          }
        }
      ]
    },
    {
      "cell_type": "markdown",
      "metadata": {
        "id": "Ojrnmpy4wGy8"
      },
      "source": [
        "***\n",
        "### CSVLogger with Arguments\n",
        "\n",
        "Apart from the compulsory argument `filename`, the other 2 options: `separator` and `append` are likely to be used quite often.\n",
        "```\n",
        "CSVLogger(filename, separator=',', append=False)\n",
        "```\n",
        "\n",
        "- **filename:** is the filename of the CSV file.\n",
        "- **separator:** string used to separate elements in the CSV file.\n",
        "- **append:** is boolean and default to False, True append if file exists (useful for continuing training). False: overwrite existing file."
      ]
    },
    {
      "cell_type": "markdown",
      "metadata": {
        "id": "1tdykzTc9uaB"
      },
      "source": [
        "# References\n",
        "\n",
        "1. [A Guide to TensorFlow Callbacks](https://blog.paperspace.com/tensorflow-callbacks/)\n",
        "2. [Writing your own callbacks](https://www.tensorflow.org/guide/keras/custom_callback)\n",
        "3. [tf.keras.callbacks.Callback](https://www.tensorflow.org/api_docs/python/tf/keras/callbacks/Callback)\n",
        "4. [A Practical Introduction to Keras Callbacks in TensorFlow 2](https://towardsdatascience.com/a-practical-introduction-to-keras-callbacks-in-tensorflow-2-705d0c584966)\n",
        "5. [How to use TensorFlow callbacks?](https://medium.com/ydata-ai/how-to-use-tensorflow-callbacks-f54f9bb6db25)\n",
        "6. [Callbacks in Tensor Flow](https://sailajakarra.medium.com/callbacks-in-tensor-flow-f8e7f9996f5f)\n",
        "7. [Keras Callbacks Explained In Three Minutes](https://www.kdnuggets.com/2019/08/keras-callbacks-explained-three-minutes.html)\n",
        "8. [Learning Rate Schedule in Practice: an example with Keras and TensorFlow 2.0](https://towardsdatascience.com/learning-rate-schedule-in-practice-an-example-with-keras-and-tensorflow-2-0-2f48b2888a0c)\n"
      ]
    },
    {
      "cell_type": "code",
      "metadata": {
        "id": "6WgyOg-IyGyG"
      },
      "source": [
        ""
      ],
      "execution_count": null,
      "outputs": []
    }
  ]
}