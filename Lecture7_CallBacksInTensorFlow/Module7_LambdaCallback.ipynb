{
  "nbformat": 4,
  "nbformat_minor": 0,
  "metadata": {
    "colab": {
      "name": "Module7_LambdaCallback.ipynb",
      "provenance": [],
      "collapsed_sections": []
    },
    "kernelspec": {
      "display_name": "Python 3",
      "name": "python3"
    },
    "language_info": {
      "name": "python"
    }
  },
  "cells": [
    {
      "cell_type": "code",
      "metadata": {
        "id": "K9H9iU_Xfxw7"
      },
      "source": [
        "# Imports\n",
        "import os\n",
        "import tensorflow as tf\n",
        "import math\n",
        "import matplotlib.pyplot as plt\n",
        "\n",
        "\n",
        "\n",
        "from tensorflow.keras.models import Sequential\n",
        "from tensorflow.keras.layers import Dense, Conv2D, MaxPooling2D, Flatten, Dropout"
      ],
      "execution_count": 1,
      "outputs": []
    },
    {
      "cell_type": "markdown",
      "metadata": {
        "id": "9-RJ9pwylHmD"
      },
      "source": [
        "***\n",
        "\n",
        "# LambdaCallback\n",
        "\n",
        "This callback is required when you need to call some custom function on any of the events, and the provided callbacks do not suffice. For instance, say you want to put your logs into a database.\n",
        "\n",
        "```\n",
        "tf.keras.callbacks.LambdaCallback(on_epoch_begin=None, \n",
        "                                  on_epoch_end=None, \n",
        "                                  on_batch_begin=None, \n",
        "                                  on_batch_end=None,    \n",
        "                                  on_train_begin=None, \n",
        "                                  on_train_end=None, \n",
        "                                  **kwargs)\n",
        "```\n",
        "\n",
        "All the parameters of this callback expect a function which takes the arguments specified here:\n",
        "\n",
        "- on_epoch_begin and on_epoch_end: epoch, logs\n",
        "- on_batch_begin and on_batch_end: batch, logs\n",
        "- on_train_begin and on_train_end: logs\n",
        "\n",
        "\n",
        "This callback is called for all the events, and executes the custom functions based on the parameters passed.\n",
        "\n",
        "\n",
        "\n",
        "***"
      ]
    },
    {
      "cell_type": "markdown",
      "metadata": {
        "id": "xED0LqgxW_NH"
      },
      "source": [
        "\n",
        "## Preparing Dataset \n",
        "\n",
        "***"
      ]
    },
    {
      "cell_type": "code",
      "metadata": {
        "colab": {
          "base_uri": "https://localhost:8080/"
        },
        "id": "I6HxSnMJf56U",
        "outputId": "70418820-926c-4cda-dead-1b806107f5ba"
      },
      "source": [
        "(train_images, train_labels), (test_images, test_labels) = tf.keras.datasets.mnist.load_data()\n",
        "\n",
        "train_labels = train_labels[:1000]\n",
        "test_labels = test_labels[:1000]\n",
        "\n",
        "train_images = train_images[:1000].reshape(-1, 28 * 28) / 255.0\n",
        "test_images = test_images[:1000].reshape(-1, 28 * 28) / 255.0"
      ],
      "execution_count": 2,
      "outputs": [
        {
          "output_type": "stream",
          "text": [
            "Downloading data from https://storage.googleapis.com/tensorflow/tf-keras-datasets/mnist.npz\n",
            "11493376/11490434 [==============================] - 0s 0us/step\n"
          ],
          "name": "stdout"
        }
      ]
    },
    {
      "cell_type": "markdown",
      "metadata": {
        "id": "10SG31C8soCw"
      },
      "source": [
        "## Define the Model"
      ]
    },
    {
      "cell_type": "code",
      "metadata": {
        "colab": {
          "base_uri": "https://localhost:8080/"
        },
        "id": "m3XG0HNUgFax",
        "outputId": "df0c89ca-b70b-4aae-ba41-7303415072af"
      },
      "source": [
        "# Define a simple sequential model\n",
        "def create_model():\n",
        "  model = Sequential([\n",
        "    Dense(512, activation='relu', input_shape=(784,), name = 'Layer-1'),\n",
        "    Dropout(0.2),\n",
        "    Dense(10, name = \"Layer-2\")\n",
        "  ])\n",
        "\n",
        "  model.compile(optimizer='adam',\n",
        "                loss=tf.losses.SparseCategoricalCrossentropy(from_logits=True),\n",
        "                metrics=[tf.metrics.SparseCategoricalAccuracy()])\n",
        "\n",
        "  return model\n",
        "\n",
        "# Create a basic model instance\n",
        "model = create_model()\n",
        "\n",
        "# Display the model's architecture\n",
        "model.summary()"
      ],
      "execution_count": 3,
      "outputs": [
        {
          "output_type": "stream",
          "text": [
            "Model: \"sequential\"\n",
            "_________________________________________________________________\n",
            "Layer (type)                 Output Shape              Param #   \n",
            "=================================================================\n",
            "Layer-1 (Dense)              (None, 512)               401920    \n",
            "_________________________________________________________________\n",
            "dropout (Dropout)            (None, 512)               0         \n",
            "_________________________________________________________________\n",
            "Layer-2 (Dense)              (None, 10)                5130      \n",
            "=================================================================\n",
            "Total params: 407,050\n",
            "Trainable params: 407,050\n",
            "Non-trainable params: 0\n",
            "_________________________________________________________________\n"
          ],
          "name": "stdout"
        }
      ]
    },
    {
      "cell_type": "markdown",
      "metadata": {
        "id": "XGiVYB1YsHqA"
      },
      "source": [
        "***\n",
        "## Lambda Callback\n",
        "\n",
        "\n"
      ]
    },
    {
      "cell_type": "markdown",
      "metadata": {
        "id": "X5HDusiLb5yy"
      },
      "source": [
        "### Case 1: On_Epoch_Begin and On_Epoch_End\n",
        "\n",
        "Let's say we want something to be printed (if you like you can do whatever you like) at the begining and at the end of an epoch."
      ]
    },
    {
      "cell_type": "code",
      "metadata": {
        "id": "Uxh2n6MLfBFm"
      },
      "source": [
        "from tensorflow.keras.callbacks import LambdaCallback\n",
        "\n",
        "# This callback will cause a print at the begining of each epoch\n",
        "epoch_begin_callback = LambdaCallback(\n",
        "    on_epoch_begin = lambda epoch, logs: print('Starting Epoch {}!'.format(epoch+1))\n",
        ")\n",
        "\n",
        "# This callback will cause a print at the end of each epoch\n",
        "epoch_end_callback = LambdaCallback(\n",
        "    on_epoch_end = lambda epoch, logs: print('End of Epoch {}!\\n\\n'.format(epoch+1)) \n",
        ")"
      ],
      "execution_count": 4,
      "outputs": []
    },
    {
      "cell_type": "markdown",
      "metadata": {
        "id": "aDZMIlDaYVPE"
      },
      "source": [
        "Let’s train the model with above callbacks."
      ]
    },
    {
      "cell_type": "code",
      "metadata": {
        "colab": {
          "base_uri": "https://localhost:8080/"
        },
        "id": "NPJSYOJksisR",
        "outputId": "dc16bf3d-460a-4614-ba1c-3b10cbfdb14f"
      },
      "source": [
        "# Train the model with the new callback\n",
        "history = model.fit(train_images, \n",
        "          train_labels,  \n",
        "          epochs=5,\n",
        "          verbose = False,\n",
        "          validation_data=(test_images, test_labels),\n",
        "          callbacks = [epoch_begin_callback, epoch_end_callback])  # Pass callback to training"
      ],
      "execution_count": 5,
      "outputs": [
        {
          "output_type": "stream",
          "text": [
            "Starting Epoch 1!\n",
            "End of Epoch 1!\n",
            "\n",
            "\n",
            "Starting Epoch 2!\n",
            "End of Epoch 2!\n",
            "\n",
            "\n",
            "Starting Epoch 3!\n",
            "End of Epoch 3!\n",
            "\n",
            "\n",
            "Starting Epoch 4!\n",
            "End of Epoch 4!\n",
            "\n",
            "\n",
            "Starting Epoch 5!\n",
            "End of Epoch 5!\n",
            "\n",
            "\n"
          ],
          "name": "stdout"
        }
      ]
    },
    {
      "cell_type": "markdown",
      "metadata": {
        "id": "trV7cszlY0Rs"
      },
      "source": [
        "\n",
        "### Case 2: On_Bpoch_Begin and On_Bpoch_End\n",
        "\n",
        "Let's say we want something to be printed (if you like you can do whatever you like) at the begining and at the end of an epoch.\n"
      ]
    },
    {
      "cell_type": "code",
      "metadata": {
        "id": "O30W2PzbY2sE"
      },
      "source": [
        "from tensorflow.keras.callbacks import LambdaCallback\n",
        "\n",
        "\n",
        "# This callback will cause a print at the begining of each epoch\n",
        "batch_begin_callback = LambdaCallback(\n",
        "    on_batch_begin = lambda batch, logs:  print('Starting Batch {}!'.format(batch+1)) \n",
        "    )\n",
        "\n",
        "# This callback will cause a print at the end of each epoch\n",
        "batch_end_callback = LambdaCallback(\n",
        "    on_batch_end = lambda batch, logs: print('The loss after batch {} is {:1f}!\\n\\n'.format(batch+1, logs['loss'])) \n",
        ")"
      ],
      "execution_count": 6,
      "outputs": []
    },
    {
      "cell_type": "markdown",
      "metadata": {
        "id": "g5uuOBVfjaFh"
      },
      "source": [
        "Let’s train the model with above callbacks."
      ]
    },
    {
      "cell_type": "code",
      "metadata": {
        "colab": {
          "base_uri": "https://localhost:8080/"
        },
        "id": "oKAKXWQrjcWu",
        "outputId": "0e3f35c0-c70e-4f85-ba2f-ac01e2f0d8c0"
      },
      "source": [
        "# Train the model with the new callback\n",
        "history = model.fit(train_images, \n",
        "          train_labels,  \n",
        "          epochs=2,\n",
        "          verbose = False,\n",
        "          validation_data=(test_images, test_labels),\n",
        "          callbacks = [batch_begin_callback, batch_end_callback])  # Pass callback to training"
      ],
      "execution_count": 7,
      "outputs": [
        {
          "output_type": "stream",
          "text": [
            "Starting Batch 1!\n",
            "The loss after batch 1 is 0.130452!\n",
            "\n",
            "\n",
            "Starting Batch 2!\n",
            "The loss after batch 2 is 0.100620!\n",
            "\n",
            "\n",
            "Starting Batch 3!\n",
            "The loss after batch 3 is 0.100316!\n",
            "\n",
            "\n",
            "Starting Batch 4!\n",
            "The loss after batch 4 is 0.101832!\n",
            "\n",
            "\n",
            "Starting Batch 5!\n",
            "The loss after batch 5 is 0.092769!\n",
            "\n",
            "\n",
            "Starting Batch 6!\n",
            "The loss after batch 6 is 0.089790!\n",
            "\n",
            "\n",
            "Starting Batch 7!\n",
            "The loss after batch 7 is 0.088184!\n",
            "\n",
            "\n",
            "Starting Batch 8!\n",
            "The loss after batch 8 is 0.086280!\n",
            "\n",
            "\n",
            "Starting Batch 9!\n",
            "The loss after batch 9 is 0.088275!\n",
            "\n",
            "\n",
            "Starting Batch 10!\n",
            "The loss after batch 10 is 0.089458!\n",
            "\n",
            "\n",
            "Starting Batch 11!\n",
            "The loss after batch 11 is 0.089218!\n",
            "\n",
            "\n",
            "Starting Batch 12!\n",
            "The loss after batch 12 is 0.092956!\n",
            "\n",
            "\n",
            "Starting Batch 13!\n",
            "The loss after batch 13 is 0.098612!\n",
            "\n",
            "\n",
            "Starting Batch 14!\n",
            "The loss after batch 14 is 0.112589!\n",
            "\n",
            "\n",
            "Starting Batch 15!\n",
            "The loss after batch 15 is 0.111510!\n",
            "\n",
            "\n",
            "Starting Batch 16!\n",
            "The loss after batch 16 is 0.108953!\n",
            "\n",
            "\n",
            "Starting Batch 17!\n",
            "The loss after batch 17 is 0.104702!\n",
            "\n",
            "\n",
            "Starting Batch 18!\n",
            "The loss after batch 18 is 0.102356!\n",
            "\n",
            "\n",
            "Starting Batch 19!\n",
            "The loss after batch 19 is 0.102821!\n",
            "\n",
            "\n",
            "Starting Batch 20!\n",
            "The loss after batch 20 is 0.105191!\n",
            "\n",
            "\n",
            "Starting Batch 21!\n",
            "The loss after batch 21 is 0.103052!\n",
            "\n",
            "\n",
            "Starting Batch 22!\n",
            "The loss after batch 22 is 0.103717!\n",
            "\n",
            "\n",
            "Starting Batch 23!\n",
            "The loss after batch 23 is 0.105769!\n",
            "\n",
            "\n",
            "Starting Batch 24!\n",
            "The loss after batch 24 is 0.108482!\n",
            "\n",
            "\n",
            "Starting Batch 25!\n",
            "The loss after batch 25 is 0.107113!\n",
            "\n",
            "\n",
            "Starting Batch 26!\n",
            "The loss after batch 26 is 0.108219!\n",
            "\n",
            "\n",
            "Starting Batch 27!\n",
            "The loss after batch 27 is 0.107551!\n",
            "\n",
            "\n",
            "Starting Batch 28!\n",
            "The loss after batch 28 is 0.106014!\n",
            "\n",
            "\n",
            "Starting Batch 29!\n",
            "The loss after batch 29 is 0.105950!\n",
            "\n",
            "\n",
            "Starting Batch 30!\n",
            "The loss after batch 30 is 0.107203!\n",
            "\n",
            "\n",
            "Starting Batch 31!\n",
            "The loss after batch 31 is 0.107716!\n",
            "\n",
            "\n",
            "Starting Batch 32!\n",
            "The loss after batch 32 is 0.107110!\n",
            "\n",
            "\n",
            "Starting Batch 1!\n",
            "The loss after batch 1 is 0.060373!\n",
            "\n",
            "\n",
            "Starting Batch 2!\n",
            "The loss after batch 2 is 0.068278!\n",
            "\n",
            "\n",
            "Starting Batch 3!\n",
            "The loss after batch 3 is 0.077650!\n",
            "\n",
            "\n",
            "Starting Batch 4!\n",
            "The loss after batch 4 is 0.108508!\n",
            "\n",
            "\n",
            "Starting Batch 5!\n",
            "The loss after batch 5 is 0.101402!\n",
            "\n",
            "\n",
            "Starting Batch 6!\n",
            "The loss after batch 6 is 0.097270!\n",
            "\n",
            "\n",
            "Starting Batch 7!\n",
            "The loss after batch 7 is 0.092996!\n",
            "\n",
            "\n",
            "Starting Batch 8!\n",
            "The loss after batch 8 is 0.091193!\n",
            "\n",
            "\n",
            "Starting Batch 9!\n",
            "The loss after batch 9 is 0.091513!\n",
            "\n",
            "\n",
            "Starting Batch 10!\n",
            "The loss after batch 10 is 0.091614!\n",
            "\n",
            "\n",
            "Starting Batch 11!\n",
            "The loss after batch 11 is 0.089745!\n",
            "\n",
            "\n",
            "Starting Batch 12!\n",
            "The loss after batch 12 is 0.095193!\n",
            "\n",
            "\n",
            "Starting Batch 13!\n",
            "The loss after batch 13 is 0.095621!\n",
            "\n",
            "\n",
            "Starting Batch 14!\n",
            "The loss after batch 14 is 0.090960!\n",
            "\n",
            "\n",
            "Starting Batch 15!\n",
            "The loss after batch 15 is 0.089352!\n",
            "\n",
            "\n",
            "Starting Batch 16!\n",
            "The loss after batch 16 is 0.088102!\n",
            "\n",
            "\n",
            "Starting Batch 17!\n",
            "The loss after batch 17 is 0.087417!\n",
            "\n",
            "\n",
            "Starting Batch 18!\n",
            "The loss after batch 18 is 0.087530!\n",
            "\n",
            "\n",
            "Starting Batch 19!\n",
            "The loss after batch 19 is 0.085258!\n",
            "\n",
            "\n",
            "Starting Batch 20!\n",
            "The loss after batch 20 is 0.084135!\n",
            "\n",
            "\n",
            "Starting Batch 21!\n",
            "The loss after batch 21 is 0.083972!\n",
            "\n",
            "\n",
            "Starting Batch 22!\n",
            "The loss after batch 22 is 0.084608!\n",
            "\n",
            "\n",
            "Starting Batch 23!\n",
            "The loss after batch 23 is 0.083222!\n",
            "\n",
            "\n",
            "Starting Batch 24!\n",
            "The loss after batch 24 is 0.084608!\n",
            "\n",
            "\n",
            "Starting Batch 25!\n",
            "The loss after batch 25 is 0.086520!\n",
            "\n",
            "\n",
            "Starting Batch 26!\n",
            "The loss after batch 26 is 0.084663!\n",
            "\n",
            "\n",
            "Starting Batch 27!\n",
            "The loss after batch 27 is 0.085672!\n",
            "\n",
            "\n",
            "Starting Batch 28!\n",
            "The loss after batch 28 is 0.084155!\n",
            "\n",
            "\n",
            "Starting Batch 29!\n",
            "The loss after batch 29 is 0.084424!\n",
            "\n",
            "\n",
            "Starting Batch 30!\n",
            "The loss after batch 30 is 0.083855!\n",
            "\n",
            "\n",
            "Starting Batch 31!\n",
            "The loss after batch 31 is 0.083456!\n",
            "\n",
            "\n",
            "Starting Batch 32!\n",
            "The loss after batch 32 is 0.083024!\n",
            "\n",
            "\n"
          ],
          "name": "stdout"
        }
      ]
    },
    {
      "cell_type": "markdown",
      "metadata": {
        "id": "79oTw-Z00rHl"
      },
      "source": [
        "### Case 3: On_Train_Begin and On_Train_End\n",
        "\n"
      ]
    },
    {
      "cell_type": "code",
      "metadata": {
        "id": "nany5Kpt0-8f"
      },
      "source": [
        "from tensorflow.keras.callbacks import LambdaCallback\n",
        "\n",
        "train_begin_callback = LambdaCallback(\n",
        "    on_train_begin=lambda logs: print('Training Started!\\n...')\n",
        ")\n",
        "\n",
        "train_finish_callback = LambdaCallback(\n",
        "    on_train_end=lambda logs: print('Training Finished! \\nThe Training Loss is {:0.4f} \\nThe Validation Loss is {:0.4f}'.\n",
        "                                    format(logs['loss'], logs['val_loss']))\n",
        ")"
      ],
      "execution_count": 8,
      "outputs": []
    },
    {
      "cell_type": "code",
      "metadata": {
        "colab": {
          "base_uri": "https://localhost:8080/"
        },
        "id": "wWrwBYt61KY_",
        "outputId": "739f4a3e-6153-4040-d907-a325f5185de5"
      },
      "source": [
        "# Train the model with the new callback\n",
        "history = model.fit(train_images, \n",
        "          train_labels,  \n",
        "          epochs=2,\n",
        "          verbose = False,\n",
        "          validation_data=(test_images, test_labels),\n",
        "          callbacks = [train_begin_callback, train_finish_callback])  # Pass callback to training"
      ],
      "execution_count": 9,
      "outputs": [
        {
          "output_type": "stream",
          "text": [
            "Training Started!\n",
            "...\n",
            "Training Finished! \n",
            "The Training Loss is 0.0517 \n",
            "The Validation Loss is 0.4186\n"
          ],
          "name": "stdout"
        }
      ]
    },
    {
      "cell_type": "markdown",
      "metadata": {
        "id": "1tdykzTc9uaB"
      },
      "source": [
        "# References\n",
        "\n",
        "1. [A Guide to TensorFlow Callbacks](https://blog.paperspace.com/tensorflow-callbacks/)\n",
        "2. [Writing your own callbacks](https://www.tensorflow.org/guide/keras/custom_callback)\n",
        "3. [tf.keras.callbacks.Callback](https://www.tensorflow.org/api_docs/python/tf/keras/callbacks/Callback)\n",
        "4. [A Practical Introduction to Keras Callbacks in TensorFlow 2](https://towardsdatascience.com/a-practical-introduction-to-keras-callbacks-in-tensorflow-2-705d0c584966)\n",
        "5. [How to use TensorFlow callbacks?](https://medium.com/ydata-ai/how-to-use-tensorflow-callbacks-f54f9bb6db25)\n",
        "6. [Callbacks in Tensor Flow](https://sailajakarra.medium.com/callbacks-in-tensor-flow-f8e7f9996f5f)\n",
        "7. [Keras Callbacks Explained In Three Minutes](https://www.kdnuggets.com/2019/08/keras-callbacks-explained-three-minutes.html)\n",
        "8. [Learning Rate Schedule in Practice: an example with Keras and TensorFlow 2.0](https://towardsdatascience.com/learning-rate-schedule-in-practice-an-example-with-keras-and-tensorflow-2-0-2f48b2888a0c)\n"
      ]
    },
    {
      "cell_type": "code",
      "metadata": {
        "id": "6WgyOg-IyGyG"
      },
      "source": [
        ""
      ],
      "execution_count": 9,
      "outputs": []
    }
  ]
}