{
  "nbformat": 4,
  "nbformat_minor": 0,
  "metadata": {
    "colab": {
      "name": "Module9_CustomCallbackUsingCallbackBaseClass.ipynb",
      "provenance": [],
      "collapsed_sections": []
    },
    "kernelspec": {
      "display_name": "Python 3",
      "name": "python3"
    },
    "language_info": {
      "name": "python"
    }
  },
  "cells": [
    {
      "cell_type": "code",
      "metadata": {
        "id": "K9H9iU_Xfxw7"
      },
      "source": [
        "# Imports\n",
        "import os\n",
        "import tensorflow as tf\n",
        "import math\n",
        "import matplotlib.pyplot as plt\n",
        "\n",
        "\n",
        "\n",
        "from tensorflow.keras.models import Sequential\n",
        "from tensorflow.keras.layers import Dense, Conv2D, MaxPooling2D, Flatten, Dropout"
      ],
      "execution_count": 1,
      "outputs": []
    },
    {
      "cell_type": "markdown",
      "metadata": {
        "id": "9-RJ9pwylHmD"
      },
      "source": [
        "***\n",
        "\n",
        "# Custom Callback Using Callback Base Class\n",
        "\n",
        "\n",
        "In TensorFlow, all callbacks are stored in the `tensorflow.keras.callbacks` module. Inside that module, there is a base class called `Callback` which all other callbacks inherit from. You can also subclass the `Callback` base class yourself to create your own callbacks.\n",
        "\n",
        "The base class `Callback` is constructed with the following methods that will be called at the appropriate time.\n",
        "\n",
        "\n",
        "***"
      ]
    },
    {
      "cell_type": "markdown",
      "metadata": {
        "id": "FXCHQpxMCCFR"
      },
      "source": [
        "## 1. Global methods\n",
        "\n",
        "1. **`on_(train|test|predict)_begin(self, logs=None):`** called at the beginning of `fit()`, `evaluate()`, and `predict()`.\n",
        "\n",
        "2. **`on_(train|test|predict)_end(self, logs=None):`** called at the end of `fit()`, `evaluate()`, and `predict()`."
      ]
    },
    {
      "cell_type": "markdown",
      "metadata": {
        "id": "S7WIXsr3CRba"
      },
      "source": [
        "## 2. Batch-level method (training, testing, and predicting)\n",
        "1. **'on_(train|test|predict)_batch_begin(self, batch, logs=None):'** Called right before processing a batch during training/testing/predicting.\n",
        "2. **`on_(train|test|predict)_batch_end(self, batch, logs=None):`** Called at the end of training/testing/predicting a batch. **Within this method, `logs` is a dict containing the metrics results.**\n"
      ]
    },
    {
      "cell_type": "markdown",
      "metadata": {
        "id": "1OSuA5dTCpuZ"
      },
      "source": [
        "## 3. Epoch-level method (training only)\n",
        "1. **`on_epoch_begin(self, epoch, logs=None):`** Called at the beginning of an epoch during training.\n",
        "2. **`on_epoch_end(self, epoch, logs=None):`** Called at the end of an epoch during training."
      ]
    },
    {
      "cell_type": "markdown",
      "metadata": {
        "id": "xED0LqgxW_NH"
      },
      "source": [
        "\n",
        "## Preparing Dataset \n",
        "\n",
        "***"
      ]
    },
    {
      "cell_type": "code",
      "metadata": {
        "colab": {
          "base_uri": "https://localhost:8080/"
        },
        "id": "I6HxSnMJf56U",
        "outputId": "e7e7f9b6-ab67-4402-dd11-d9f48d8ff8bb"
      },
      "source": [
        "(train_images, train_labels), (test_images, test_labels) = tf.keras.datasets.mnist.load_data()\n",
        "\n",
        "train_labels = train_labels[:1000]\n",
        "test_labels = test_labels[:1000]\n",
        "\n",
        "train_images = train_images[:1000].reshape(-1, 28 * 28) / 255.0\n",
        "test_images = test_images[:1000].reshape(-1, 28 * 28) / 255.0"
      ],
      "execution_count": 2,
      "outputs": [
        {
          "output_type": "stream",
          "text": [
            "Downloading data from https://storage.googleapis.com/tensorflow/tf-keras-datasets/mnist.npz\n",
            "11493376/11490434 [==============================] - 0s 0us/step\n"
          ],
          "name": "stdout"
        }
      ]
    },
    {
      "cell_type": "markdown",
      "metadata": {
        "id": "10SG31C8soCw"
      },
      "source": [
        "## Define the Model"
      ]
    },
    {
      "cell_type": "code",
      "metadata": {
        "colab": {
          "base_uri": "https://localhost:8080/"
        },
        "id": "m3XG0HNUgFax",
        "outputId": "b3e77bcc-b6ed-4b2e-c636-fd413cdb6f03"
      },
      "source": [
        "# Define a simple sequential model\n",
        "def create_model():\n",
        "  model = Sequential([\n",
        "    Dense(512, activation='relu', input_shape=(784,), name = 'Layer-1'),\n",
        "    Dropout(0.2),\n",
        "    Dense(10, name = \"Layer-2\")\n",
        "  ])\n",
        "\n",
        "  model.compile(optimizer='adam',\n",
        "                loss=tf.losses.SparseCategoricalCrossentropy(from_logits=True),\n",
        "                metrics=[tf.metrics.SparseCategoricalAccuracy()])\n",
        "\n",
        "  return model\n",
        "\n",
        "# Create a basic model instance\n",
        "model = create_model()\n",
        "\n",
        "# Display the model's architecture\n",
        "model.summary()"
      ],
      "execution_count": 3,
      "outputs": [
        {
          "output_type": "stream",
          "text": [
            "Model: \"sequential\"\n",
            "_________________________________________________________________\n",
            "Layer (type)                 Output Shape              Param #   \n",
            "=================================================================\n",
            "Layer-1 (Dense)              (None, 512)               401920    \n",
            "_________________________________________________________________\n",
            "dropout (Dropout)            (None, 512)               0         \n",
            "_________________________________________________________________\n",
            "Layer-2 (Dense)              (None, 10)                5130      \n",
            "=================================================================\n",
            "Total params: 407,050\n",
            "Trainable params: 407,050\n",
            "Non-trainable params: 0\n",
            "_________________________________________________________________\n"
          ],
          "name": "stdout"
        }
      ]
    },
    {
      "cell_type": "markdown",
      "metadata": {
        "id": "XGiVYB1YsHqA"
      },
      "source": [
        "***\n",
        "## Building a custom callback for training\n",
        "Let’s import the base class `Callback`\n",
        "\n",
        "\n"
      ]
    },
    {
      "cell_type": "code",
      "metadata": {
        "id": "eouLBfrFGM98"
      },
      "source": [
        "from tensorflow.keras.callbacks import Callback"
      ],
      "execution_count": 4,
      "outputs": []
    },
    {
      "cell_type": "markdown",
      "metadata": {
        "id": "VrHYcAnOGQyb"
      },
      "source": [
        "Then, we create a new class `TrainningCallback()` with the methods that will be called at the training time."
      ]
    },
    {
      "cell_type": "code",
      "metadata": {
        "id": "hnCkAXlQOxxL"
      },
      "source": [
        "class TrainingCallback(Callback):\n",
        "\n",
        "  def on_train_begin(self, logs=None):\n",
        "    print(\"Starting training . . .\")\n",
        "\n",
        "  def on_epoch_begin(self, epoch, logs = None):\n",
        "    print('Starting Epoch: {}'.format(epoch))\n",
        "\n",
        "  def on_train_batch_begin(self, batch, logs = None):\n",
        "    print(\"Training: Starting batch {}\".format(batch))\n",
        "\n",
        "  def on_train_batch_end(self, batch, logs = None):\n",
        "    print(\"Training: Finished batch {}, loss is {}\".format(batch, logs['loss']))\n",
        "\n",
        "  def on_epoch_end(self, epoch, logs = None):\n",
        "    print(\"Finished epoch: {}, loss is {}\".format(epoch, logs['loss']))\n",
        "\n",
        "  def on_train_end(self, logs = None):\n",
        "    print(\"Finised Training!!!\")"
      ],
      "execution_count": 5,
      "outputs": []
    },
    {
      "cell_type": "markdown",
      "metadata": {
        "id": "psUuqipQO0yY"
      },
      "source": [
        "Next, to use it for training, we just need to pass `TrainingCallback()` to the callbacks argument in the `model.fit()` method."
      ]
    },
    {
      "cell_type": "code",
      "metadata": {
        "colab": {
          "base_uri": "https://localhost:8080/"
        },
        "id": "_98lOmumPKIW",
        "outputId": "87d21702-75d6-4efb-adf6-5b8dcc12a6c3"
      },
      "source": [
        "history = model.fit(train_images, \n",
        "          train_labels,  \n",
        "          epochs=2,\n",
        "          verbose = 0,\n",
        "          validation_data=(test_images, test_labels),\n",
        "          callbacks = [TrainingCallback()])  # Pass callback to training"
      ],
      "execution_count": 6,
      "outputs": [
        {
          "output_type": "stream",
          "text": [
            "Starting training . . .\n",
            "Starting Epoch: 0\n",
            "Training: Starting batch 0\n",
            "Training: Finished batch 0, loss is 2.366914749145508\n",
            "Training: Starting batch 1\n",
            "Training: Finished batch 1, loss is 2.209010362625122\n",
            "Training: Starting batch 2\n",
            "Training: Finished batch 2, loss is 2.173403263092041\n",
            "Training: Starting batch 3\n",
            "Training: Finished batch 3, loss is 2.1502742767333984\n",
            "Training: Starting batch 4\n",
            "Training: Finished batch 4, loss is 2.133709192276001\n",
            "Training: Starting batch 5\n",
            "Training: Finished batch 5, loss is 2.0544567108154297\n",
            "Training: Starting batch 6\n",
            "Training: Finished batch 6, loss is 2.006274700164795\n",
            "Training: Starting batch 7\n",
            "Training: Finished batch 7, loss is 1.9358232021331787\n",
            "Training: Starting batch 8\n",
            "Training: Finished batch 8, loss is 1.8780674934387207\n",
            "Training: Starting batch 9\n",
            "Training: Finished batch 9, loss is 1.8119338750839233\n",
            "Training: Starting batch 10\n",
            "Training: Finished batch 10, loss is 1.7621471881866455\n",
            "Training: Starting batch 11\n",
            "Training: Finished batch 11, loss is 1.7134922742843628\n",
            "Training: Starting batch 12\n",
            "Training: Finished batch 12, loss is 1.6702690124511719\n",
            "Training: Starting batch 13\n",
            "Training: Finished batch 13, loss is 1.6272634267807007\n",
            "Training: Starting batch 14\n",
            "Training: Finished batch 14, loss is 1.5941661596298218\n",
            "Training: Starting batch 15\n",
            "Training: Finished batch 15, loss is 1.562272071838379\n",
            "Training: Starting batch 16\n",
            "Training: Finished batch 16, loss is 1.5553699731826782\n",
            "Training: Starting batch 17\n",
            "Training: Finished batch 17, loss is 1.512899398803711\n",
            "Training: Starting batch 18\n",
            "Training: Finished batch 18, loss is 1.4787222146987915\n",
            "Training: Starting batch 19\n",
            "Training: Finished batch 19, loss is 1.4560048580169678\n",
            "Training: Starting batch 20\n",
            "Training: Finished batch 20, loss is 1.4230750799179077\n",
            "Training: Starting batch 21\n",
            "Training: Finished batch 21, loss is 1.3935669660568237\n",
            "Training: Starting batch 22\n",
            "Training: Finished batch 22, loss is 1.369736909866333\n",
            "Training: Starting batch 23\n",
            "Training: Finished batch 23, loss is 1.350591778755188\n",
            "Training: Starting batch 24\n",
            "Training: Finished batch 24, loss is 1.3330687284469604\n",
            "Training: Starting batch 25\n",
            "Training: Finished batch 25, loss is 1.3108444213867188\n",
            "Training: Starting batch 26\n",
            "Training: Finished batch 26, loss is 1.2846754789352417\n",
            "Training: Starting batch 27\n",
            "Training: Finished batch 27, loss is 1.2615734338760376\n",
            "Training: Starting batch 28\n",
            "Training: Finished batch 28, loss is 1.2341564893722534\n",
            "Training: Starting batch 29\n",
            "Training: Finished batch 29, loss is 1.2094875574111938\n",
            "Training: Starting batch 30\n",
            "Training: Finished batch 30, loss is 1.1871745586395264\n",
            "Training: Starting batch 31\n",
            "Training: Finished batch 31, loss is 1.185164213180542\n",
            "Finished epoch: 0, loss is 1.185164213180542\n",
            "Starting Epoch: 1\n",
            "Training: Starting batch 0\n",
            "Training: Finished batch 0, loss is 0.4243611693382263\n",
            "Training: Starting batch 1\n",
            "Training: Finished batch 1, loss is 0.4597104787826538\n",
            "Training: Starting batch 2\n",
            "Training: Finished batch 2, loss is 0.42710861563682556\n",
            "Training: Starting batch 3\n",
            "Training: Finished batch 3, loss is 0.43685126304626465\n",
            "Training: Starting batch 4\n",
            "Training: Finished batch 4, loss is 0.4200724959373474\n",
            "Training: Starting batch 5\n",
            "Training: Finished batch 5, loss is 0.4633798599243164\n",
            "Training: Starting batch 6\n",
            "Training: Finished batch 6, loss is 0.44767847657203674\n",
            "Training: Starting batch 7\n",
            "Training: Finished batch 7, loss is 0.4855746328830719\n",
            "Training: Starting batch 8\n",
            "Training: Finished batch 8, loss is 0.4800359904766083\n",
            "Training: Starting batch 9\n",
            "Training: Finished batch 9, loss is 0.4723370671272278\n",
            "Training: Starting batch 10\n",
            "Training: Finished batch 10, loss is 0.4699521064758301\n",
            "Training: Starting batch 11\n",
            "Training: Finished batch 11, loss is 0.4718179404735565\n",
            "Training: Starting batch 12\n",
            "Training: Finished batch 12, loss is 0.45861804485321045\n",
            "Training: Starting batch 13\n",
            "Training: Finished batch 13, loss is 0.45850735902786255\n",
            "Training: Starting batch 14\n",
            "Training: Finished batch 14, loss is 0.4455122947692871\n",
            "Training: Starting batch 15\n",
            "Training: Finished batch 15, loss is 0.4378527104854584\n",
            "Training: Starting batch 16\n",
            "Training: Finished batch 16, loss is 0.4325355291366577\n",
            "Training: Starting batch 17\n",
            "Training: Finished batch 17, loss is 0.4249517619609833\n",
            "Training: Starting batch 18\n",
            "Training: Finished batch 18, loss is 0.42161715030670166\n",
            "Training: Starting batch 19\n",
            "Training: Finished batch 19, loss is 0.41333118081092834\n",
            "Training: Starting batch 20\n",
            "Training: Finished batch 20, loss is 0.4065555930137634\n",
            "Training: Starting batch 21\n",
            "Training: Finished batch 21, loss is 0.4028438627719879\n",
            "Training: Starting batch 22\n",
            "Training: Finished batch 22, loss is 0.40044263005256653\n",
            "Training: Starting batch 23\n",
            "Training: Finished batch 23, loss is 0.4073106348514557\n",
            "Training: Starting batch 24\n",
            "Training: Finished batch 24, loss is 0.4129393696784973\n",
            "Training: Starting batch 25\n",
            "Training: Finished batch 25, loss is 0.41811996698379517\n",
            "Training: Starting batch 26\n",
            "Training: Finished batch 26, loss is 0.41813918948173523\n",
            "Training: Starting batch 27\n",
            "Training: Finished batch 27, loss is 0.4250245988368988\n",
            "Training: Starting batch 28\n",
            "Training: Finished batch 28, loss is 0.42571601271629333\n",
            "Training: Starting batch 29\n",
            "Training: Finished batch 29, loss is 0.4284786283969879\n",
            "Training: Starting batch 30\n",
            "Training: Finished batch 30, loss is 0.4316357672214508\n",
            "Training: Starting batch 31\n",
            "Training: Finished batch 31, loss is 0.43242713809013367\n",
            "Finished epoch: 1, loss is 0.43242713809013367\n",
            "Finised Training!!!\n"
          ],
          "name": "stdout"
        }
      ]
    },
    {
      "cell_type": "markdown",
      "metadata": {
        "id": "-AMdCvNMH2-s"
      },
      "source": [
        "***\n",
        "## Building a custom callback for testing\n",
        "Similarly, we can implement a custom callback `TestingCallback()` for testing."
      ]
    },
    {
      "cell_type": "code",
      "metadata": {
        "id": "mm80_JqcQV9i"
      },
      "source": [
        "class TestingCallback(Callback):\n",
        "    \n",
        "    def on_test_begin(self, logs=None):\n",
        "        print(\"Starting testing ...\")\n",
        "        \n",
        "    def on_test_batch_begin(self, batch, logs=None):\n",
        "        print(f\"Testing: Starting batch {batch}\")\n",
        "    \n",
        "    def on_test_batch_end(self, batch, logs=None):\n",
        "        print(f\"Testing: Finished batch {batch}\")\n",
        "        \n",
        "    def on_test_end(self, logs=None):\n",
        "        print(\"Finished testing\")"
      ],
      "execution_count": 7,
      "outputs": []
    },
    {
      "cell_type": "markdown",
      "metadata": {
        "id": "X5HDusiLb5yy"
      },
      "source": [
        "To use it for testing, pass it to the `callbacks` argument in the `model.valutate()` method."
      ]
    },
    {
      "cell_type": "code",
      "metadata": {
        "colab": {
          "base_uri": "https://localhost:8080/"
        },
        "id": "wepWkv1igzM_",
        "outputId": "72cacaa1-2fe8-416f-d46a-6a5aca2d4897"
      },
      "source": [
        "# Checking the test loss and accuracy using the model\n",
        "test_loss, test_acc = model.evaluate(x=test_images, y=test_labels, verbose = 0,\n",
        "                                     callbacks = [TestingCallback()])"
      ],
      "execution_count": 8,
      "outputs": [
        {
          "output_type": "stream",
          "text": [
            "Starting testing ...\n",
            "Testing: Starting batch 0\n",
            "Testing: Finished batch 0\n",
            "Testing: Starting batch 1\n",
            "Testing: Finished batch 1\n",
            "Testing: Starting batch 2\n",
            "Testing: Finished batch 2\n",
            "Testing: Starting batch 3\n",
            "Testing: Finished batch 3\n",
            "Testing: Starting batch 4\n",
            "Testing: Finished batch 4\n",
            "Testing: Starting batch 5\n",
            "Testing: Finished batch 5\n",
            "Testing: Starting batch 6\n",
            "Testing: Finished batch 6\n",
            "Testing: Starting batch 7\n",
            "Testing: Finished batch 7\n",
            "Testing: Starting batch 8\n",
            "Testing: Finished batch 8\n",
            "Testing: Starting batch 9\n",
            "Testing: Finished batch 9\n",
            "Testing: Starting batch 10\n",
            "Testing: Finished batch 10\n",
            "Testing: Starting batch 11\n",
            "Testing: Finished batch 11\n",
            "Testing: Starting batch 12\n",
            "Testing: Finished batch 12\n",
            "Testing: Starting batch 13\n",
            "Testing: Finished batch 13\n",
            "Testing: Starting batch 14\n",
            "Testing: Finished batch 14\n",
            "Testing: Starting batch 15\n",
            "Testing: Finished batch 15\n",
            "Testing: Starting batch 16\n",
            "Testing: Finished batch 16\n",
            "Testing: Starting batch 17\n",
            "Testing: Finished batch 17\n",
            "Testing: Starting batch 18\n",
            "Testing: Finished batch 18\n",
            "Testing: Starting batch 19\n",
            "Testing: Finished batch 19\n",
            "Testing: Starting batch 20\n",
            "Testing: Finished batch 20\n",
            "Testing: Starting batch 21\n",
            "Testing: Finished batch 21\n",
            "Testing: Starting batch 22\n",
            "Testing: Finished batch 22\n",
            "Testing: Starting batch 23\n",
            "Testing: Finished batch 23\n",
            "Testing: Starting batch 24\n",
            "Testing: Finished batch 24\n",
            "Testing: Starting batch 25\n",
            "Testing: Finished batch 25\n",
            "Testing: Starting batch 26\n",
            "Testing: Finished batch 26\n",
            "Testing: Starting batch 27\n",
            "Testing: Finished batch 27\n",
            "Testing: Starting batch 28\n",
            "Testing: Finished batch 28\n",
            "Testing: Starting batch 29\n",
            "Testing: Finished batch 29\n",
            "Testing: Starting batch 30\n",
            "Testing: Finished batch 30\n",
            "Testing: Starting batch 31\n",
            "Testing: Finished batch 31\n",
            "Finished testing\n"
          ],
          "name": "stdout"
        }
      ]
    },
    {
      "cell_type": "markdown",
      "metadata": {
        "id": "aFGssQj68dzi"
      },
      "source": [
        "***\n",
        "## Building a custom callback for prediction\n",
        "Similarly, we can implement a custom callback `PredictionCallback()` for prediction."
      ]
    },
    {
      "cell_type": "code",
      "metadata": {
        "id": "erSgj7938eKH"
      },
      "source": [
        "class PredictionCallback(Callback):\n",
        "    \n",
        "    def on_predict_begin(self, logs=None):\n",
        "        print(\"Starting prediction ...\")\n",
        "    \n",
        "    def on_predict_batch_begin(self, batch, logs=None):\n",
        "        print(f\"Prediction: Starting batch {batch}\")\n",
        "        \n",
        "    def on_predict_batch_end(self, batch, logs=None):\n",
        "        print(f\"Prediction: Finish batch {batch}\")\n",
        "    \n",
        "    def on_predict_end(self, logs=None):\n",
        "        print(\"Finished prediction\")"
      ],
      "execution_count": 9,
      "outputs": []
    },
    {
      "cell_type": "markdown",
      "metadata": {
        "id": "YhibEz5bIc_E"
      },
      "source": [
        "To use it for prediction, we just need to pass it to the `callbacks` argument in the `model.predict()` method.\n"
      ]
    },
    {
      "cell_type": "code",
      "metadata": {
        "colab": {
          "base_uri": "https://localhost:8080/"
        },
        "id": "k6wRVRAsIjAV",
        "outputId": "791ab3cc-6559-4a63-a4fd-919c5058a769"
      },
      "source": [
        "model.predict(\n",
        "    test_images, \n",
        "    verbose=False, \n",
        "    callbacks=[PredictionCallback()], \n",
        "    batch_size=2000,  # A large value for demo purpose\n",
        ")"
      ],
      "execution_count": 10,
      "outputs": [
        {
          "output_type": "stream",
          "text": [
            "Starting prediction ...\n",
            "Prediction: Starting batch 0\n",
            "Prediction: Finish batch 0\n",
            "Finished prediction\n"
          ],
          "name": "stdout"
        },
        {
          "output_type": "execute_result",
          "data": {
            "text/plain": [
              "array([[-2.14687   , -4.1961637 , -0.789013  , ...,  6.7225246 ,\n",
              "        -1.6199149 ,  2.4877336 ],\n",
              "       [ 0.957863  , -0.70126903,  3.7387612 , ..., -5.7162232 ,\n",
              "         1.5490094 , -3.0079787 ],\n",
              "       [-3.0085604 ,  4.1479034 ,  0.4280536 , ..., -0.13706957,\n",
              "         0.16395187, -0.695359  ],\n",
              "       ...,\n",
              "       [10.425622  , -6.4593935 , -0.35109296, ..., -4.1689744 ,\n",
              "        -0.24813038, -1.5673692 ],\n",
              "       [-0.9430056 , -4.8479977 , -2.1385677 , ...,  0.4605515 ,\n",
              "         1.2622048 ,  4.842414  ],\n",
              "       [-2.6942565 , -3.652455  , -0.6575959 , ...,  2.2921143 ,\n",
              "        -0.79630584,  2.9159489 ]], dtype=float32)"
            ]
          },
          "metadata": {
            "tags": []
          },
          "execution_count": 10
        }
      ]
    },
    {
      "cell_type": "markdown",
      "metadata": {
        "id": "4j_KfLYuI1Es"
      },
      "source": [
        "***\n",
        "## Custom Callback Applications\n",
        "\n",
        "A main application of callback is to perform some actions depend on performance metrics, for example:\n",
        "- Real-time plotting during training\n",
        "- Stop training when a metric has stopped improving\n",
        "- Save model at the end of every epoch\n",
        "- Adjust learning rate (or other hyperparameters) according to a defined schedule\n",
        "- etc\n",
        "\n"
      ]
    },
    {
      "cell_type": "markdown",
      "metadata": {
        "id": "Lg3NqMm8JF3y"
      },
      "source": [
        "***\n",
        "### Real-time plot during training\n",
        "This first example shows the creation of a `Callback` that shows a live, real-time update of loss as your training progresses."
      ]
    },
    {
      "cell_type": "code",
      "metadata": {
        "id": "fOa7nK2nJMDd"
      },
      "source": [
        "import numpy as np\n",
        "import tensorflow as tf\n",
        "# fig = plt.figure(figsize=(12,4));\n",
        "# # Create plot inside the figure\n",
        "# ax = fig.add_subplot()\n",
        "# ax.set_xlabel('Epoch #')\n",
        "# ax.set_ylabel('loss')\n",
        "class TrainingPlot(tf.keras.callbacks.Callback):\n",
        "    def on_train_begin(self, logs={}):\n",
        "        # Initialize the lists for holding losses\n",
        "        self.losses = []\n",
        "    def on_epoch_begin(self, epoch, logs = None):\n",
        "        plt.close()\n",
        "    def on_epoch_end(self, epoch, logs={}):\n",
        "        # Append the losses to the lists\n",
        "        self.losses.append(logs['loss'])\n",
        "        # Plot\n",
        "        epochs = np.arange(0, len(self.losses))\n",
        "        #fig = plt.figure(figsize = (4,4))\n",
        "        plt.plot(epochs, self.losses, \"b-\")\n",
        "        plt.show()"
      ],
      "execution_count": 13,
      "outputs": []
    },
    {
      "cell_type": "markdown",
      "metadata": {
        "id": "UVlodvlOJ6Hr"
      },
      "source": [
        "`self.losses=[]` is initialized in `on_train_begin()` for holding losses. The real-time plot is implemented at the end of each epoch `on_epoch_end()` by calling `ax.plot(epochs, self.losses, \"b-\")` and `fig.canvas.draw()` .\n",
        "\n",
        "To use it for training, we just need to pass it to the `callbacks` argument in the `model.fit()` method.\n"
      ]
    },
    {
      "cell_type": "code",
      "metadata": {
        "colab": {
          "base_uri": "https://localhost:8080/",
          "height": 1000
        },
        "id": "2gDKS4RnKGtC",
        "outputId": "0694a7b4-346d-40f0-96ff-a3ecce520d6f"
      },
      "source": [
        "model = create_model()\n",
        "history = model.fit(\n",
        "    train_images,\n",
        "    train_labels, \n",
        "    validation_data = (test_images, test_labels),\n",
        "    epochs=5, \n",
        "    batch_size=64, \n",
        "    verbose=0,\n",
        "    callbacks=[TrainingPlot()]\n",
        ")"
      ],
      "execution_count": 14,
      "outputs": [
        {
          "output_type": "display_data",
          "data": {
            "image/png": "[encoded data removed]",
            "text/plain": [
              "<Figure size 432x288 with 1 Axes>"
            ]
          },
          "metadata": {
            "tags": [],
            "needs_background": "light"
          }
        },
        {
          "output_type": "display_data",
          "data": {
            "image/png": "[encoded data removed]",
            "text/plain": [
              "<Figure size 432x288 with 1 Axes>"
            ]
          },
          "metadata": {
            "tags": [],
            "needs_background": "light"
          }
        },
        {
          "output_type": "display_data",
          "data": {
            "image/png": "[encoded data removed]",
            "text/plain": [
              "<Figure size 432x288 with 1 Axes>"
            ]
          },
          "metadata": {
            "tags": [],
            "needs_background": "light"
          }
        },
        {
          "output_type": "display_data",
          "data": {
            "image/png": "[encoded data removed]",
            "text/plain": [
              "<Figure size 432x288 with 1 Axes>"
            ]
          },
          "metadata": {
            "tags": [],
            "needs_background": "light"
          }
        },
        {
          "output_type": "display_data",
          "data": {
            "image/png": "[encoded data removed]",
            "text/plain": [
              "<Figure size 432x288 with 1 Axes>"
            ]
          },
          "metadata": {
            "tags": [],
            "needs_background": "light"
          }
        }
      ]
    },
    {
      "cell_type": "markdown",
      "metadata": {
        "id": "1tdykzTc9uaB"
      },
      "source": [
        "# References\n",
        "\n",
        "1. [A Guide to TensorFlow Callbacks](https://blog.paperspace.com/tensorflow-callbacks/)\n",
        "2. [Writing your own callbacks](https://www.tensorflow.org/guide/keras/custom_callback)\n",
        "3. [tf.keras.callbacks.Callback](https://www.tensorflow.org/api_docs/python/tf/keras/callbacks/Callback)\n",
        "4. [A Practical Introduction to Keras Callbacks in TensorFlow 2](https://towardsdatascience.com/a-practical-introduction-to-keras-callbacks-in-tensorflow-2-705d0c584966)\n",
        "5. [How to use TensorFlow callbacks?](https://medium.com/ydata-ai/how-to-use-tensorflow-callbacks-f54f9bb6db25)\n",
        "6. [Callbacks in Tensor Flow](https://sailajakarra.medium.com/callbacks-in-tensor-flow-f8e7f9996f5f)\n",
        "7. [Keras Callbacks Explained In Three Minutes](https://www.kdnuggets.com/2019/08/keras-callbacks-explained-three-minutes.html)\n",
        "8. [Learning Rate Schedule in Practice: an example with Keras and TensorFlow 2.0](https://towardsdatascience.com/learning-rate-schedule-in-practice-an-example-with-keras-and-tensorflow-2-0-2f48b2888a0c)\n",
        "9. [Building Custom Callbacks with Keras and TensorFlow 2](https://towardsdatascience.com/building-custom-callbacks-with-keras-and-tensorflow-2-85e1b79915a3)\n"
      ]
    }
  ]
}