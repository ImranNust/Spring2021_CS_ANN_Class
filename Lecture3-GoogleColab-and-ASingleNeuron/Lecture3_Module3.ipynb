{
 "cells": [
  {
   "cell_type": "markdown",
   "metadata": {},
   "source": [
    "# A Single Neuron\n",
    "\n",
    "In this module, we will learn:\n",
    "1. How does a single neuron work?\n",
    "2. Forward Propagation\n",
    "3. Backward Propagation\n",
    "4. Optimization Algorithm\n",
    "5. Loss Function\n",
    "\n",
    "***"
   ]
  },
  {
   "cell_type": "markdown",
   "metadata": {},
   "source": [
    "***\n",
    "## How does a single neuron work?\n",
    "\n",
    "The working of a neuron involves following steps:\n",
    "1. Defining input and output\n",
    "2. Forward Propagation\n",
    "3. Computing Loss\n",
    "4. Backward Propagation\n",
    "5. Updating weights and biases\n",
    "\n",
    "We continue from step 2 through step 5 untill we get either zero or very small loss value.\n",
    "\n",
    "We, in this module, discuss each step in a bit detail.\n",
    "\n"
   ]
  },
  {
   "cell_type": "markdown",
   "metadata": {},
   "source": [
    "***\n",
    "### Defining Inputs and Outputs\n",
    "\n",
    "We have the following pattern between input(feature) and output(target)\n",
    "\n",
    "| Example  Numbers      | Features (x) | Target (y)    |\n",
    "| :---                  |    :----:    |          ---: |\n",
    "| 1                     | 1            | 2             |\n",
    "| 2                     | 2            | 4             |\n",
    "| 3                     | 3            | 6             |\n",
    "| 4                     | 4            | 8             |\n",
    "| 5                     | 5            | 10            |\n",
    "| 6                     | 6            | 12            |\n",
    "| $\\vdots$              | $\\vdots$     | $\\vdots$      |\n",
    "| $\\vdots$              | $\\vdots$     | $\\vdots$      |\n",
    "| 100                   | 100          | 200           |\n",
    "\n",
    "The task of the neuron is to find the $w$ and $b$ for the following equation, which shows a relationship between input(x) and output(y).\n",
    "\\begin{equation}\n",
    "y = wx + b\n",
    "\\end{equation}\n",
    "\n",
    "In the above equation, $w$ and $b$, are called weight and bias, respectively.\n",
    "***"
   ]
  },
  {
   "cell_type": "markdown",
   "metadata": {},
   "source": [
    "\n",
    "### Forward Propagation\n",
    "\n",
    "![Pic1Module2](Pic1Module2.png)\n",
    "\n",
    "The forward propagation involves the following steps.\n",
    "1. Initializing weights and biases\n",
    "2. Compute $Z = W * X + b $\n",
    "3. Passing the value of $Z$ through an activation function to get $\\hat{Y}$; that is, \n",
    "$$Y = f(Z).$$ \n",
    "In this module, we are using a linear activation function; therefore, $\\hat{Y} = Z.$\n",
    "\n",
    "\n",
    "Please note that we will learn about activation functions in detail in next lectures.\n",
    "\n",
    "***"
   ]
  },
  {
   "cell_type": "code",
   "execution_count": 3,
   "metadata": {},
   "outputs": [
    {
     "name": "stdout",
     "output_type": "stream",
     "text": [
      "Model: \"sequential\"\n",
      "_________________________________________________________________\n",
      "Layer (type)                 Output Shape              Param #   \n",
      "=================================================================\n",
      "dense (Dense)                (None, 1)                 2         \n",
      "=================================================================\n",
      "Total params: 2\n",
      "Trainable params: 2\n",
      "Non-trainable params: 0\n",
      "_________________________________________________________________\n",
      "None\n"
     ]
    }
   ],
   "source": [
    "model = models.Sequential()\n",
    "model.add(tf.keras.layers.Dense(units = 1, input_shape = [1]))\n",
    "print(model.summary())"
   ]
  },
  {
   "cell_type": "markdown",
   "metadata": {},
   "source": [
    "***\n",
    "### Step 4: Define an optimizer and loss function.\n",
    "\n",
    "In this step, we will define an optimizer (Adam with learning rate 0.09) and a loss function (in this case, Mean Squared Error).\n",
    "***"
   ]
  },
  {
   "cell_type": "code",
   "execution_count": 4,
   "metadata": {
    "id": "YPrch51DTffP"
   },
   "outputs": [],
   "source": [
    "model.compile(optimizer=tf.keras.optimizers.Adam(0.09),\n",
    "              loss=tf.keras.losses.MeanSquaredError())"
   ]
  },
  {
   "cell_type": "markdown",
   "metadata": {},
   "source": [
    "***\n",
    "### Step 4: Let's train the model.\n",
    "\n",
    "In this step, let's train the model for at least 900 epochs.\n",
    "***"
   ]
  },
  {
   "cell_type": "code",
   "execution_count": 5,
   "metadata": {
    "colab": {
     "base_uri": "https://localhost:8080/"
    },
    "id": "9fYjEqlgTs17",
    "outputId": "2f83c530-d43d-4a99-e7c0-194751d28310"
   },
   "outputs": [],
   "source": [
    "history = model.fit(x, y, epochs=900, verbose=False)"
   ]
  },
  {
   "cell_type": "markdown",
   "metadata": {},
   "source": [
    "***\n",
    "### Step 5: Let's Predict Future Values\n",
    "\n",
    "In this step, we will see if our model can predict future values or not? Let's predict the future values for $x = 189$ and $x = 304$\n",
    "***"
   ]
  },
  {
   "cell_type": "code",
   "execution_count": 6,
   "metadata": {
    "colab": {
     "base_uri": "https://localhost:8080/"
    },
    "id": "jhAqk_bNTyXy",
    "outputId": "96247710-f457-42a5-f975-daf1b78b6447"
   },
   "outputs": [
    {
     "name": "stdout",
     "output_type": "stream",
     "text": [
      "Our model predicted 378.0 for x = 189; whereas, the actual value was 378\n",
      "Our model predicted 608.0 for x = 304; whereas, the actual value was 608\n"
     ]
    }
   ],
   "source": [
    "x1 = np.array([189])\n",
    "x2 = np.array([304])\n",
    "y1 = model.predict(x1)\n",
    "y2 = model.predict(x2)\n",
    "\n",
    "print('Our model predicted {} for x = {}; whereas, the actual value was {}'.\n",
    "     format(y1.item(), x1.item(), 2*x1.item()))\n",
    "\n",
    "\n",
    "print('Our model predicted {} for x = {}; whereas, the actual value was {}'.\n",
    "     format(y2.item(), x2.item(), 2*x2.item()))"
   ]
  },
  {
   "cell_type": "markdown",
   "metadata": {},
   "source": [
    "***\n",
    "### Step 6: Check what values did our model learn\n",
    "\n",
    "From previous step, we can see that our model has learnt the pattern. Let's see what pattern it learned.\n",
    "***"
   ]
  },
  {
   "cell_type": "code",
   "execution_count": 7,
   "metadata": {
    "colab": {
     "base_uri": "https://localhost:8080/"
    },
    "id": "T41La7VJT4Fh",
    "outputId": "8b45d3d4-1459-4870-c3e4-5f3dbc562211"
   },
   "outputs": [
    {
     "name": "stdout",
     "output_type": "stream",
     "text": [
      "Our model has found \n",
      "\n",
      "w = 2.0, and b = 0.\n"
     ]
    }
   ],
   "source": [
    "parameters = model.get_weights()\n",
    "\n",
    "print('Our model has found \\n\\nw = {}, and b = {}.'.\n",
    "     format(parameters[0].item(), round(parameters[1].item())))"
   ]
  },
  {
   "cell_type": "markdown",
   "metadata": {},
   "source": [
    "**We can see that our neuron has learnt the exact parameters.**"
   ]
  },
  {
   "cell_type": "markdown",
   "metadata": {},
   "source": [
    "***\n",
    "### Step 7: Plot Loss Function\n",
    "\n",
    "As a last step, let's plot loss values verses epochs to see how our model learned.\n",
    "***"
   ]
  },
  {
   "cell_type": "code",
   "execution_count": 8,
   "metadata": {
    "colab": {
     "base_uri": "https://localhost:8080/",
     "height": 282
    },
    "id": "4qM-dIiSU77T",
    "outputId": "d2b48e33-5702-4759-ff45-f47116338211"
   },
   "outputs": [
    {
     "data": {
      "image/png": "[encoded data removed]",
      "text/plain": [
       "<Figure size 432x288 with 1 Axes>"
      ]
     },
     "metadata": {
      "needs_background": "light"
     },
     "output_type": "display_data"
    }
   ],
   "source": [
    "plt.plot(history.history['loss']);"
   ]
  },
  {
   "cell_type": "markdown",
   "metadata": {
    "id": "JDYY8L7ZVASC"
   },
   "source": [
    "***\n",
    "**Please Note that we will learn all the above concepts in future lectures; therefore, don't worry if you could not comprehend all the topics of this lecture.**\n",
    "\n",
    "***"
   ]
  }
 ],
 "metadata": {
  "colab": {
   "name": "Module4.ipynb",
   "provenance": []
  },
  "kernelspec": {
   "display_name": "Python 3",
   "language": "python",
   "name": "python3"
  },
  "language_info": {
   "codemirror_mode": {
    "name": "ipython",
    "version": 3
   },
   "file_extension": ".py",
   "mimetype": "text/x-python",
   "name": "python",
   "nbconvert_exporter": "python",
   "pygments_lexer": "ipython3",
   "version": "3.7.6"
  },
  "toc": {
   "base_numbering": 1,
   "nav_menu": {},
   "number_sections": true,
   "sideBar": true,
   "skip_h1_title": false,
   "title_cell": "Table of Contents",
   "title_sidebar": "Contents",
   "toc_cell": false,
   "toc_position": {},
   "toc_section_display": true,
   "toc_window_display": false
  },
  "varInspector": {
   "cols": {
    "lenName": 16,
    "lenType": 16,
    "lenVar": 40
   },
   "kernels_config": {
    "python": {
     "delete_cmd_postfix": "",
     "delete_cmd_prefix": "del ",
     "library": "var_list.py",
     "varRefreshCmd": "print(var_dic_list())"
    },
    "r": {
     "delete_cmd_postfix": ") ",
     "delete_cmd_prefix": "rm(",
     "library": "var_list.r",
     "varRefreshCmd": "cat(var_dic_list()) "
    }
   },
   "types_to_exclude": [
    "module",
    "function",
    "builtin_function_or_method",
    "instance",
    "_Feature"
   ],
   "window_display": false
  }
 },
 "nbformat": 4,
 "nbformat_minor": 1
}
