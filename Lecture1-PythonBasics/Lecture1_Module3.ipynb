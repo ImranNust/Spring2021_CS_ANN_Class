{
 "cells": [
  {
   "cell_type": "markdown",
   "metadata": {
    "toc": true
   },
   "source": [
    "<h1>Table of Contents<span class=\"tocSkip\"></span></h1>\n",
    "<div class=\"toc\"><ul class=\"toc-item\"><li><span><a href=\"#Python-Functions\" data-toc-modified-id=\"Python-Functions-1\"><span class=\"toc-item-num\">1&nbsp;&nbsp;</span>Python Functions</a></span><ul class=\"toc-item\"><li><span><a href=\"#Creating-a-Function\" data-toc-modified-id=\"Creating-a-Function-1.1\"><span class=\"toc-item-num\">1.1&nbsp;&nbsp;</span>Creating a Function</a></span></li><li><span><a href=\"#Calling-a-Function\" data-toc-modified-id=\"Calling-a-Function-1.2\"><span class=\"toc-item-num\">1.2&nbsp;&nbsp;</span>Calling a Function</a></span></li><li><span><a href=\"#Arguments\" data-toc-modified-id=\"Arguments-1.3\"><span class=\"toc-item-num\">1.3&nbsp;&nbsp;</span>Arguments</a></span></li><li><span><a href=\"#Number-of-Arguments\" data-toc-modified-id=\"Number-of-Arguments-1.4\"><span class=\"toc-item-num\">1.4&nbsp;&nbsp;</span>Number of Arguments</a></span></li><li><span><a href=\"#Arbitrary-Arguments,-*args\" data-toc-modified-id=\"Arbitrary-Arguments,-*args-1.5\"><span class=\"toc-item-num\">1.5&nbsp;&nbsp;</span>Arbitrary Arguments, *args</a></span></li><li><span><a href=\"#Keyword-Arguments\" data-toc-modified-id=\"Keyword-Arguments-1.6\"><span class=\"toc-item-num\">1.6&nbsp;&nbsp;</span>Keyword Arguments</a></span></li><li><span><a href=\"#Arbitrary-Keyword-Arguments,-**kwargs\" data-toc-modified-id=\"Arbitrary-Keyword-Arguments,-**kwargs-1.7\"><span class=\"toc-item-num\">1.7&nbsp;&nbsp;</span>Arbitrary Keyword Arguments, **kwargs</a></span></li><li><span><a href=\"#Default-Parameter-Value\" data-toc-modified-id=\"Default-Parameter-Value-1.8\"><span class=\"toc-item-num\">1.8&nbsp;&nbsp;</span>Default Parameter Value</a></span></li><li><span><a href=\"#Passing-a-List-as-an-Argument\" data-toc-modified-id=\"Passing-a-List-as-an-Argument-1.9\"><span class=\"toc-item-num\">1.9&nbsp;&nbsp;</span>Passing a List as an Argument</a></span></li><li><span><a href=\"#Return-Values\" data-toc-modified-id=\"Return-Values-1.10\"><span class=\"toc-item-num\">1.10&nbsp;&nbsp;</span>Return Values</a></span></li><li><span><a href=\"#The-pass-Statement\" data-toc-modified-id=\"The-pass-Statement-1.11\"><span class=\"toc-item-num\">1.11&nbsp;&nbsp;</span>The pass Statement</a></span></li><li><span><a href=\"#Python-Lambda\" data-toc-modified-id=\"Python-Lambda-1.12\"><span class=\"toc-item-num\">1.12&nbsp;&nbsp;</span>Python Lambda</a></span></li><li><span><a href=\"#Usefulness-of-Comments-in-a-Function\" data-toc-modified-id=\"Usefulness-of-Comments-in-a-Function-1.13\"><span class=\"toc-item-num\">1.13&nbsp;&nbsp;</span>Usefulness of Comments in a Function</a></span></li></ul></li><li><span><a href=\"#Python-Classes-and-Objects\" data-toc-modified-id=\"Python-Classes-and-Objects-2\"><span class=\"toc-item-num\">2&nbsp;&nbsp;</span>Python Classes and Objects</a></span><ul class=\"toc-item\"><li><span><a href=\"#Python-Classes/Objects\" data-toc-modified-id=\"Python-Classes/Objects-2.1\"><span class=\"toc-item-num\">2.1&nbsp;&nbsp;</span>Python Classes/Objects</a></span></li><li><span><a href=\"#Create-a-Class\" data-toc-modified-id=\"Create-a-Class-2.2\"><span class=\"toc-item-num\">2.2&nbsp;&nbsp;</span>Create a Class</a></span></li><li><span><a href=\"#Create-Object\" data-toc-modified-id=\"Create-Object-2.3\"><span class=\"toc-item-num\">2.3&nbsp;&nbsp;</span>Create Object</a></span></li><li><span><a href=\"#The-__init__()-Function\" data-toc-modified-id=\"The-__init__()-Function-2.4\"><span class=\"toc-item-num\">2.4&nbsp;&nbsp;</span>The __init__() Function</a></span></li><li><span><a href=\"#Object-Methods\" data-toc-modified-id=\"Object-Methods-2.5\"><span class=\"toc-item-num\">2.5&nbsp;&nbsp;</span>Object Methods</a></span></li><li><span><a href=\"#The-self-Parameter\" data-toc-modified-id=\"The-self-Parameter-2.6\"><span class=\"toc-item-num\">2.6&nbsp;&nbsp;</span>The self Parameter</a></span></li><li><span><a href=\"#Modify-Object-Properties\" data-toc-modified-id=\"Modify-Object-Properties-2.7\"><span class=\"toc-item-num\">2.7&nbsp;&nbsp;</span>Modify Object Properties</a></span></li><li><span><a href=\"#Delete-Object-Properties\" data-toc-modified-id=\"Delete-Object-Properties-2.8\"><span class=\"toc-item-num\">2.8&nbsp;&nbsp;</span>Delete Object Properties</a></span></li><li><span><a href=\"#Delete-Objects\" data-toc-modified-id=\"Delete-Objects-2.9\"><span class=\"toc-item-num\">2.9&nbsp;&nbsp;</span>Delete Objects</a></span></li><li><span><a href=\"#The-pass-Statement\" data-toc-modified-id=\"The-pass-Statement-2.10\"><span class=\"toc-item-num\">2.10&nbsp;&nbsp;</span>The pass Statement</a></span></li></ul></li><li><span><a href=\"#Python-Inheritance\" data-toc-modified-id=\"Python-Inheritance-3\"><span class=\"toc-item-num\">3&nbsp;&nbsp;</span>Python Inheritance</a></span><ul class=\"toc-item\"><li><span><a href=\"#Create-a-Parent-Class\" data-toc-modified-id=\"Create-a-Parent-Class-3.1\"><span class=\"toc-item-num\">3.1&nbsp;&nbsp;</span>Create a Parent Class</a></span></li><li><span><a href=\"#Create-a-Child-Class\" data-toc-modified-id=\"Create-a-Child-Class-3.2\"><span class=\"toc-item-num\">3.2&nbsp;&nbsp;</span>Create a Child Class</a></span></li><li><span><a href=\"#Add-the-__init__()-Function\" data-toc-modified-id=\"Add-the-__init__()-Function-3.3\"><span class=\"toc-item-num\">3.3&nbsp;&nbsp;</span>Add the __init__() Function</a></span></li></ul></li><li><span><a href=\"#Modules-in-Python\" data-toc-modified-id=\"Modules-in-Python-4\"><span class=\"toc-item-num\">4&nbsp;&nbsp;</span>Modules in Python</a></span></li><li><span><a href=\"#What-is-PIP?\" data-toc-modified-id=\"What-is-PIP?-5\"><span class=\"toc-item-num\">5&nbsp;&nbsp;</span>What is PIP?</a></span><ul class=\"toc-item\"><li><span><a href=\"#Check-if-PIP-is-Installed\" data-toc-modified-id=\"Check-if-PIP-is-Installed-5.1\"><span class=\"toc-item-num\">5.1&nbsp;&nbsp;</span>Check if PIP is Installed</a></span></li><li><span><a href=\"#Remove-a-Package\" data-toc-modified-id=\"Remove-a-Package-5.2\"><span class=\"toc-item-num\">5.2&nbsp;&nbsp;</span>Remove a Package</a></span></li><li><span><a href=\"#List-Packages\" data-toc-modified-id=\"List-Packages-5.3\"><span class=\"toc-item-num\">5.3&nbsp;&nbsp;</span>List Packages</a></span></li></ul></li><li><span><a href=\"#Python-Try-Except\" data-toc-modified-id=\"Python-Try-Except-6\"><span class=\"toc-item-num\">6&nbsp;&nbsp;</span>Python Try Except</a></span><ul class=\"toc-item\"><li><span><a href=\"#Exception-Handling\" data-toc-modified-id=\"Exception-Handling-6.1\"><span class=\"toc-item-num\">6.1&nbsp;&nbsp;</span>Exception Handling</a></span></li><li><span><a href=\"#Many-Exceptions\" data-toc-modified-id=\"Many-Exceptions-6.2\"><span class=\"toc-item-num\">6.2&nbsp;&nbsp;</span>Many Exceptions</a></span></li><li><span><a href=\"#Else\" data-toc-modified-id=\"Else-6.3\"><span class=\"toc-item-num\">6.3&nbsp;&nbsp;</span>Else</a></span></li><li><span><a href=\"#Finally\" data-toc-modified-id=\"Finally-6.4\"><span class=\"toc-item-num\">6.4&nbsp;&nbsp;</span>Finally</a></span></li><li><span><a href=\"#Raise-an-exception\" data-toc-modified-id=\"Raise-an-exception-6.5\"><span class=\"toc-item-num\">6.5&nbsp;&nbsp;</span>Raise an exception</a></span></li></ul></li><li><span><a href=\"#Python-User-Input\" data-toc-modified-id=\"Python-User-Input-7\"><span class=\"toc-item-num\">7&nbsp;&nbsp;</span>Python User Input</a></span></li></ul></div>"
   ]
  },
  {
   "cell_type": "markdown",
   "metadata": {},
   "source": [
    "***\n",
    "<h2 style=\"color:red\"> Lab 3 (Lecture 7 and 8)</h1>\n",
    " In this lab you will learn:\n"
   ]
  },
  {
   "cell_type": "markdown",
   "metadata": {},
   "source": [
    "***\n",
    "## Python Functions\n",
    "* A function is a block of code which only runs when it is called.\n",
    "\n",
    "* You can pass data, known as parameters, into a function.\n",
    "\n",
    "* A function can return data as a result.\n",
    "***"
   ]
  },
  {
   "cell_type": "markdown",
   "metadata": {},
   "source": [
    "***\n",
    "### Creating a Function\n",
    "In Python a function is defined using the def keyword:\n",
    "***"
   ]
  },
  {
   "cell_type": "code",
   "execution_count": 81,
   "metadata": {},
   "outputs": [
    {
     "output_type": "stream",
     "name": "stdout",
     "text": "Hello World!\n"
    }
   ],
   "source": [
    "def my_function():\n",
    "    print(\"Hello World!\")\n",
    "\n",
    "my_function()"
   ]
  },
  {
   "cell_type": "markdown",
   "metadata": {},
   "source": [
    "***\n",
    "### Calling a Function\n",
    "To call a function, use the function name followed by parenthesis:\n",
    "***"
   ]
  },
  {
   "cell_type": "code",
   "execution_count": 82,
   "metadata": {},
   "outputs": [
    {
     "output_type": "stream",
     "name": "stdout",
     "text": "Hello World!\n"
    }
   ],
   "source": [
    "my_function()"
   ]
  },
  {
   "cell_type": "markdown",
   "metadata": {},
   "source": [
    "***\n",
    "### Arguments\n",
    "Information can be passed into functions as arguments.\n",
    "\n",
    "Arguments are specified after the function name, inside the parentheses. You can add as many arguments as you want, just separate them with a comma.\n",
    "\n",
    "The following example has a function with one argument (fname). When the function is called, we pass along a first name, which is used inside the function to print the full name:\n",
    "***"
   ]
  },
  {
   "cell_type": "code",
   "execution_count": 83,
   "metadata": {},
   "outputs": [
    {
     "output_type": "stream",
     "name": "stdout",
     "text": "Emil Refsnes\nTobias Refsnes\n"
    }
   ],
   "source": [
    "def my_function(fname):\n",
    "    print(fname + \" Refsnes\")\n",
    "    \n",
    "my_function(\"Emil\")\n",
    "my_function(\"Tobias\")"
   ]
  },
  {
   "cell_type": "markdown",
   "metadata": {},
   "source": [
    "***\n",
    "### Number of Arguments\n",
    "By default, a function must be called with the correct number of arguments. Meaning that if your function expects 2 arguments, you have to call the function with 2 arguments, not more, and not less.\n",
    "***"
   ]
  },
  {
   "cell_type": "code",
   "execution_count": 84,
   "metadata": {},
   "outputs": [
    {
     "output_type": "stream",
     "name": "stdout",
     "text": "First Name:  Muhammad , Last Name:  Imran\n"
    }
   ],
   "source": [
    "def my_function(fname,lname):\n",
    "    print('First Name: ', fname, \", Last Name: \", lname)\n",
    "    \n",
    "my_function(\"Muhammad\", \"Imran\")"
   ]
  },
  {
   "cell_type": "markdown",
   "metadata": {},
   "source": [
    "***\n",
    "### Arbitrary Arguments, *args\n",
    "If you do not know how many arguments that will be passed into your function, add a * before the parameter name in the function definition.\n",
    "\n",
    "This way the function will receive a tuple of arguments, and can access the items accordingly:\n",
    "***"
   ]
  },
  {
   "cell_type": "code",
   "execution_count": 85,
   "metadata": {},
   "outputs": [
    {
     "output_type": "stream",
     "name": "stdout",
     "text": "You have  3 kids\nKid 1 is Imran\nKid 2 is Faraz\nKid 3 is Changez\n"
    }
   ],
   "source": [
    "def my_function(*kids):\n",
    "    print('You have ', len(kids), \"kids\")\n",
    "    j=1\n",
    "    for i in kids:\n",
    "        print(\"Kid \" + str(j),\"is\", i)\n",
    "        j+=1\n",
    "    \n",
    "    \n",
    "my_function('Imran', 'Faraz', 'Changez')"
   ]
  },
  {
   "cell_type": "markdown",
   "metadata": {},
   "source": [
    "***\n",
    "### Keyword Arguments\n",
    "You can also send arguments with the key = value syntax.\n",
    "\n",
    "This way the order of the arguments does not matter.\n",
    "\n",
    "***"
   ]
  },
  {
   "cell_type": "code",
   "execution_count": 86,
   "metadata": {},
   "outputs": [
    {
     "output_type": "stream",
     "name": "stdout",
     "text": "The youngest kid is Toofan\n"
    }
   ],
   "source": [
    "def my_function(kid1, kid2, kid3):\n",
    "    print('The youngest kid is', kid3)\n",
    "    \n",
    "my_function(kid3=\"Toofan\", kid2=\"Janoon\", kid1=\"Aflatoon\")"
   ]
  },
  {
   "cell_type": "markdown",
   "metadata": {},
   "source": [
    "***\n",
    "### Arbitrary Keyword Arguments, **kwargs\n",
    "If you do not know how many keyword arguments that will be passed into your function, add two asterisk: ** before the parameter name in the function definition.\n",
    "\n",
    "This way the function will receive a dictionary of arguments, and can access the items accordingly:\n",
    "***"
   ]
  },
  {
   "cell_type": "code",
   "execution_count": 87,
   "metadata": {},
   "outputs": [
    {
     "output_type": "stream",
     "name": "stdout",
     "text": "There are 3 kids\n<class 'dict'>\nThe eldest kid is Andhi\n"
    }
   ],
   "source": [
    "def my_function(**kids):\n",
    "    print(\"There are\", len(kids), \"kids\")\n",
    "    print(type(kids))\n",
    "    print(\"The eldest kid is\", kids[\"kid3\"])\n",
    "    \n",
    "my_function(kid1=\"Toofan\", kid2=\"Barish\", kid3=\"Andhi\")\n"
   ]
  },
  {
   "cell_type": "markdown",
   "metadata": {},
   "source": [
    "***\n",
    "### Default Parameter Value\n",
    "The following example shows how to use a default parameter value.\n",
    "\n",
    "If we call the function without argument, it uses the default value:\n",
    "***"
   ]
  },
  {
   "cell_type": "code",
   "execution_count": 88,
   "metadata": {},
   "outputs": [
    {
     "output_type": "stream",
     "name": "stdout",
     "text": "Imran  belongs to  dystopia\nToofan  belongs to  Pakistan\nAndhi  belongs to  utopia\n"
    }
   ],
   "source": [
    "def my_function(name, country=\"utopia\"):\n",
    "    print(name, \" belongs to \", country)\n",
    "    \n",
    "my_function(\"Imran\", \"dystopia\")\n",
    "my_function('Toofan', \"Pakistan\")\n",
    "my_function('Andhi')"
   ]
  },
  {
   "cell_type": "markdown",
   "metadata": {},
   "source": [
    "***\n",
    "### Passing a List as an Argument\n",
    "You can send any data types of argument to a function (string, number, list, dictionary etc.), and it will be treated as the same data type inside the function.\n",
    "\n",
    "E.g. if you send a List as an argument, it will still be a List when it reaches the function:x \n",
    "***"
   ]
  },
  {
   "cell_type": "code",
   "execution_count": 89,
   "metadata": {},
   "outputs": [
    {
     "output_type": "stream",
     "name": "stdout",
     "text": "apple\nbanana\ncherry\n"
    }
   ],
   "source": [
    "def my_function(food):\n",
    "    for x in food:\n",
    "        print(x)\n",
    "        \n",
    "fruits = [\"apple\", \"banana\", \"cherry\"]\n",
    "my_function(fruits)"
   ]
  },
  {
   "cell_type": "markdown",
   "metadata": {},
   "source": [
    "***\n",
    "### Return Values\n",
    "To let a function return a value, use the return statement:\n",
    "***"
   ]
  },
  {
   "cell_type": "code",
   "execution_count": 90,
   "metadata": {},
   "outputs": [
    {
     "output_type": "stream",
     "name": "stdout",
     "text": "25\n"
    }
   ],
   "source": [
    "def my_function(x):\n",
    "    return 5*x\n",
    "\n",
    "print(my_function(5))"
   ]
  },
  {
   "cell_type": "markdown",
   "metadata": {},
   "source": [
    "***\n",
    "### The pass Statement\n",
    "function definitions cannot be empty, but if you for some reason have a function definition with no content, put in the pass statement to avoid getting an error.\n",
    "***"
   ]
  },
  {
   "cell_type": "code",
   "execution_count": 91,
   "metadata": {},
   "outputs": [],
   "source": [
    "def myfunction():\n",
    "    pass"
   ]
  },
  {
   "cell_type": "markdown",
   "metadata": {},
   "source": [
    "***\n",
    "### Python Lambda\n",
    "A lambda function is a small anonymous function.\n",
    "\n",
    "A lambda function can take any number of arguments, but can only have one expression.\n",
    "\n",
    "<code>\n",
    "lambda arguments : expression\n",
    "</code>\n",
    "***"
   ]
  },
  {
   "cell_type": "code",
   "execution_count": 92,
   "metadata": {},
   "outputs": [
    {
     "output_type": "stream",
     "name": "stdout",
     "text": "15\n"
    }
   ],
   "source": [
    "\"\"\"A lambda function that adds 10 to the number passed in as an \n",
    "argument, and print the result:\"\"\"\n",
    "\n",
    "x = lambda a : a + 10\n",
    "print(x(5))"
   ]
  },
  {
   "cell_type": "code",
   "execution_count": 93,
   "metadata": {},
   "outputs": [
    {
     "output_type": "stream",
     "name": "stdout",
     "text": "24\n"
    }
   ],
   "source": [
    "\"\"\"A lambda function that multiplies argument a \n",
    "with argument b and print the result:\"\"\"\n",
    "\n",
    "x = lambda a, b, c: a*b*c\n",
    "print(x(2,3,4))"
   ]
  },
  {
   "cell_type": "markdown",
   "metadata": {},
   "source": [
    "***\n",
    "### Usefulness of Comments in a Function\n",
    "***"
   ]
  },
  {
   "cell_type": "code",
   "execution_count": 94,
   "metadata": {},
   "outputs": [],
   "source": [
    "def addition(a,b):\n",
    "    \"\"\"\n",
    "    This function will add any two numbers:\n",
    "    Inputs:\n",
    "           a --> it should be a scalar\n",
    "           b --> it should be a scalar\n",
    "           \n",
    "    Outputs:\n",
    "           c --> it would be a scalar\n",
    "           \n",
    "    Example:\n",
    "          c = (5,9)\n",
    "    \n",
    "    \"\"\"\n",
    "    \n",
    "    c = a + b\n",
    "    return c"
   ]
  },
  {
   "cell_type": "code",
   "execution_count": 95,
   "metadata": {},
   "outputs": [
    {
     "output_type": "stream",
     "name": "stdout",
     "text": "Help on function addition in module __main__:\n\naddition(a, b)\n    This function will add any two numbers:\n    Inputs:\n           a --> it should be a scalar\n           b --> it should be a scalar\n           \n    Outputs:\n           c --> it would be a scalar\n           \n    Example:\n          c = (5,9)\n\n"
    }
   ],
   "source": [
    "help(addition)"
   ]
  },
  {
   "cell_type": "markdown",
   "metadata": {},
   "source": [
    "***\n",
    "## Python Classes and Objects\n",
    "### Python Classes/Objects\n",
    "Python is an object oriented programming language.\n",
    "\n",
    "Almost everything in Python is an object, with its properties and methods.\n",
    "\n",
    "A Class is like an object constructor, or a \"blueprint\" for creating objects.\n",
    "***"
   ]
  },
  {
   "cell_type": "markdown",
   "metadata": {},
   "source": [
    "***\n",
    "### Create a Class\n",
    "To create a class, use the keyword class:\n",
    "***"
   ]
  },
  {
   "cell_type": "code",
   "execution_count": 96,
   "metadata": {},
   "outputs": [
    {
     "output_type": "stream",
     "name": "stdout",
     "text": "<class '__main__.MyClass'>\n"
    }
   ],
   "source": [
    "class MyClass:\n",
    "  x = 5\n",
    "\n",
    "print(MyClass)\n"
   ]
  },
  {
   "cell_type": "markdown",
   "metadata": {},
   "source": [
    "***\n",
    "### Create Object\n",
    "Now we can use the class named MyClass to create objects:\n",
    "***"
   ]
  },
  {
   "cell_type": "code",
   "execution_count": 97,
   "metadata": {},
   "outputs": [
    {
     "output_type": "stream",
     "name": "stdout",
     "text": "5\n"
    }
   ],
   "source": [
    "p1 = MyClass()\n",
    "print(p1.x)"
   ]
  },
  {
   "cell_type": "markdown",
   "metadata": {},
   "source": [
    "***\n",
    "###  The \\_\\_init\\_\\_() Function\n",
    "The examples above are classes and objects in their simplest form, and are not really useful in real life applications.\n",
    "\n",
    "To understand the meaning of classes we have to understand the built-in __init__() function.\n",
    "\n",
    "All classes have a function called __init__(), which is always executed when the class is being initiated.\n",
    "\n",
    "Use the __init__() function to assign values to object properties, or other operations that are necessary to do when the object is being created:\n",
    "\n",
    "<font color=red>**Note:** The \\_\\_init\\_\\_() function is called automatically every time the class is being used to create a new object.</font>\n",
    "***\n"
   ]
  },
  {
   "cell_type": "code",
   "execution_count": 98,
   "metadata": {},
   "outputs": [
    {
     "output_type": "stream",
     "name": "stdout",
     "text": "John is 36\n"
    }
   ],
   "source": [
    "class Person:\n",
    "    def __init__(self, name, age):\n",
    "        self.name = name\n",
    "        self.age = age\n",
    "        \n",
    "p1 = Person(\"John\", 36)\n",
    "print(p1.name, 'is', p1.age)"
   ]
  },
  {
   "cell_type": "markdown",
   "metadata": {},
   "source": [
    "***\n",
    "### Object Methods\n",
    "Objects can also contain methods. Methods in objects are functions that belong to the object.\n",
    "\n",
    "<font color=red> **Note:** The self parameter is a reference to the current instance of the class, and is used to access variables that belong to the class.</font>\n",
    "\n",
    "Let us create a method in the Person class:\n",
    "***"
   ]
  },
  {
   "cell_type": "code",
   "execution_count": 99,
   "metadata": {},
   "outputs": [
    {
     "output_type": "stream",
     "name": "stdout",
     "text": "Hello, my name is John\n"
    }
   ],
   "source": [
    "class Person:\n",
    "    def __init__(self, name, age):\n",
    "        self.name = name\n",
    "        self.age = age\n",
    "        \n",
    "        \n",
    "    def myfunc(self):\n",
    "        print(\"Hello, my name is \" + self.name)\n",
    "        \n",
    "\n",
    "p1 = Person(\"John\", 36)\n",
    "p1.myfunc()"
   ]
  },
  {
   "cell_type": "markdown",
   "metadata": {},
   "source": [
    "***\n",
    "### The self Parameter\n",
    "The self parameter is a reference to the current instance of the class, and is used to access variables that belongs to the class.\n",
    "\n",
    "It does not have to be named self , you can call it whatever you like, but it has to be the first parameter of any function in the class:\n",
    "***"
   ]
  },
  {
   "cell_type": "code",
   "execution_count": 100,
   "metadata": {},
   "outputs": [
    {
     "output_type": "stream",
     "name": "stdout",
     "text": "Hello, my name is John\n"
    }
   ],
   "source": [
    "class Person:\n",
    "    def __init__(mysillyobject, name, age):\n",
    "        mysillyobject.name = name\n",
    "        mysillyobject.age = age\n",
    "        \n",
    "    def myfunc(abc):\n",
    "        print('Hello, my name is ' + abc.name)\n",
    "        \n",
    "p1 = Person(\"John\", 36)\n",
    "p1.myfunc()"
   ]
  },
  {
   "cell_type": "markdown",
   "metadata": {},
   "source": [
    "***\n",
    "### Modify Object Properties\n",
    "You can modify properties on objects like this:\n",
    "\n",
    "***"
   ]
  },
  {
   "cell_type": "code",
   "execution_count": 101,
   "metadata": {},
   "outputs": [
    {
     "output_type": "stream",
     "name": "stdout",
     "text": "40\n"
    }
   ],
   "source": [
    "class Person:\n",
    "    def __init__(self, name, age):\n",
    "        self.name = name\n",
    "        self.age = age\n",
    "        \n",
    "    def myfunc(self):\n",
    "        print(\"Hello, my name is \" + self.name)\n",
    "        \n",
    "p1=Person(\"John\", 36)\n",
    "p1.age = 40\n",
    "\n",
    "print(p1.age)"
   ]
  },
  {
   "cell_type": "markdown",
   "metadata": {},
   "source": [
    "***\n",
    "### Delete Object Properties\n",
    "You can delete properties on objects by using the del keyword:\n",
    "***"
   ]
  },
  {
   "cell_type": "code",
   "execution_count": 102,
   "metadata": {},
   "outputs": [
    {
     "output_type": "error",
     "ename": "AttributeError",
     "evalue": "'Person' object has no attribute 'age'",
     "traceback": [
      "\u001b[0;31m---------------------------------------------------------------------------\u001b[0m",
      "\u001b[0;31mAttributeError\u001b[0m                            Traceback (most recent call last)",
      "\u001b[0;32m<ipython-input-102-46454e0e6825>\u001b[0m in \u001b[0;36m<module>\u001b[0;34m\u001b[0m\n\u001b[1;32m     11\u001b[0m \u001b[0;32mdel\u001b[0m \u001b[0mp1\u001b[0m\u001b[0;34m.\u001b[0m\u001b[0mage\u001b[0m\u001b[0;34m\u001b[0m\u001b[0;34m\u001b[0m\u001b[0m\n\u001b[1;32m     12\u001b[0m \u001b[0;34m\u001b[0m\u001b[0m\n\u001b[0;32m---> 13\u001b[0;31m \u001b[0mprint\u001b[0m\u001b[0;34m(\u001b[0m\u001b[0mp1\u001b[0m\u001b[0;34m.\u001b[0m\u001b[0mage\u001b[0m\u001b[0;34m)\u001b[0m\u001b[0;34m\u001b[0m\u001b[0;34m\u001b[0m\u001b[0m\n\u001b[0m",
      "\u001b[0;31mAttributeError\u001b[0m: 'Person' object has no attribute 'age'"
     ]
    }
   ],
   "source": [
    "class Person:\n",
    "  def __init__(self, name, age):\n",
    "    self.name = name\n",
    "    self.age = age\n",
    "\n",
    "  def myfunc(self):\n",
    "    print(\"Hello my name is \" + self.name)\n",
    "\n",
    "p1 = Person(\"John\", 36)\n",
    "\n",
    "del p1.age\n",
    "\n",
    "print(p1.age)\n"
   ]
  },
  {
   "cell_type": "markdown",
   "metadata": {},
   "source": [
    "***\n",
    "### Delete Objects\n",
    "You can delete objects by using the del keyword:\n",
    "***"
   ]
  },
  {
   "cell_type": "code",
   "execution_count": 103,
   "metadata": {},
   "outputs": [
    {
     "output_type": "error",
     "ename": "NameError",
     "evalue": "name 'p1' is not defined",
     "traceback": [
      "\u001b[0;31m---------------------------------------------------------------------------\u001b[0m",
      "\u001b[0;31mNameError\u001b[0m                                 Traceback (most recent call last)",
      "\u001b[0;32m<ipython-input-103-8d9ca57d628a>\u001b[0m in \u001b[0;36m<module>\u001b[0;34m\u001b[0m\n\u001b[1;32m     11\u001b[0m \u001b[0;32mdel\u001b[0m \u001b[0mp1\u001b[0m\u001b[0;34m\u001b[0m\u001b[0;34m\u001b[0m\u001b[0m\n\u001b[1;32m     12\u001b[0m \u001b[0;34m\u001b[0m\u001b[0m\n\u001b[0;32m---> 13\u001b[0;31m \u001b[0mprint\u001b[0m\u001b[0;34m(\u001b[0m\u001b[0mp1\u001b[0m\u001b[0;34m)\u001b[0m\u001b[0;34m\u001b[0m\u001b[0;34m\u001b[0m\u001b[0m\n\u001b[0m",
      "\u001b[0;31mNameError\u001b[0m: name 'p1' is not defined"
     ]
    }
   ],
   "source": [
    "class Person:\n",
    "  def __init__(self, name, age):\n",
    "    self.name = name\n",
    "    self.age = age\n",
    "\n",
    "  def myfunc(self):\n",
    "    print(\"Hello my name is \" + self.name)\n",
    "\n",
    "p1 = Person(\"John\", 36)\n",
    "\n",
    "del p1\n",
    "\n",
    "print(p1)"
   ]
  },
  {
   "cell_type": "markdown",
   "metadata": {},
   "source": [
    "***\n",
    "### The pass Statement\n",
    "class definitions cannot be empty, but if you for some reason have a class definition with no content, put in the pass statement to avoid getting an error.\n",
    "***"
   ]
  },
  {
   "cell_type": "code",
   "execution_count": 104,
   "metadata": {},
   "outputs": [],
   "source": [
    "class Person:\n",
    "  pass"
   ]
  },
  {
   "cell_type": "markdown",
   "metadata": {},
   "source": [
    "***\n",
    "***\n",
    "# Python Inheritance\n",
    "\n",
    "## Python Inheritance\n",
    "\n",
    "Inheritance allows us to define a class that inherits all the methods and properties from another class.\n",
    "\n",
    "* **Parent class** is the class being inherited from, also called base class.\n",
    "\n",
    "* **Child class** is the class that inherits from another class, also called derived class.\n",
    "***\n",
    "***"
   ]
  },
  {
   "cell_type": "markdown",
   "metadata": {},
   "source": [
    "***\n",
    "### Create a Parent Class\n",
    "Any class can be a parent class, so the syntax is the same as creating any other class:\n",
    "***"
   ]
  },
  {
   "cell_type": "code",
   "execution_count": 105,
   "metadata": {},
   "outputs": [
    {
     "output_type": "stream",
     "name": "stdout",
     "text": "Andhi Toofan\n"
    }
   ],
   "source": [
    "class Person:\n",
    "    def __init__(self, fname, lname):\n",
    "        self.firstname = fname\n",
    "        self.lastname = lname\n",
    "        \n",
    "    def printname(self):\n",
    "        print(self.firstname, self.lastname)\n",
    "        \n",
    "        \n",
    "x = Person(\"Andhi\", \"Toofan\")\n",
    "x.printname()"
   ]
  },
  {
   "cell_type": "markdown",
   "metadata": {},
   "source": [
    "***\n",
    "### Create a Child Class\n",
    "To create a class that inherits the functionality from another class, send the parent class as a parameter when creating the child class.\n",
    "\n",
    "<font color=red> **Note:** Use the pass keyword when you do not want to add any other properties or methods to the class.</font>\n",
    "***"
   ]
  },
  {
   "cell_type": "code",
   "execution_count": 106,
   "metadata": {},
   "outputs": [],
   "source": [
    "class Student(Person):\n",
    "  pass"
   ]
  },
  {
   "cell_type": "markdown",
   "metadata": {},
   "source": [
    "Now the Student class has the same properties and methods as the Person class."
   ]
  },
  {
   "cell_type": "code",
   "execution_count": 107,
   "metadata": {},
   "outputs": [
    {
     "output_type": "stream",
     "name": "stdout",
     "text": "Mike Olsen\n"
    }
   ],
   "source": [
    "# Use the Student class to create an object, and then execute the printname method:\n",
    "\n",
    "x = Student(\"Mike\", \"Olsen\")\n",
    "x.printname()"
   ]
  },
  {
   "cell_type": "markdown",
   "metadata": {},
   "source": [
    "***\n",
    "### Add the \\_\\_init\\_\\_() Function\n",
    "So far we have created a child class that inherits the properties and methods from its parent.\n",
    "\n",
    "We want to add the \\_\\_init\\_\\_() function to the child class (instead of the pass keyword).\n",
    "\n",
    "<font color=red> **Note:** The \\_\\_init\\_\\_() function is called automatically every time the class is being used to create a new object.</font>\n",
    "\n",
    "Example\n",
    "Add the \\_\\_init\\_\\_() function to the Student class:\n",
    "<code>\n",
    "class Student(Person):\n",
    "  def \\_\\_init\\_\\_()(self, fname, lname):\n",
    "    #add properties etc.\n",
    "</code>\n",
    "\n",
    "When you add the \\_\\_init\\_\\_() function, the child class will no longer inherit the parent's \\_\\_init\\_\\_() function.\n",
    "\n",
    "<font color=red> **Note:** The child's \\_\\_init\\_\\_() function overrides the inheritance of the parent's \\_\\_init\\_\\_() function.</font>\n",
    "\n",
    "To keep the inheritance of the parent's \\_\\_init\\_\\_() function, add a call to the parent's \\_\\_init\\_\\_() function:\n",
    "***"
   ]
  },
  {
   "cell_type": "code",
   "execution_count": 108,
   "metadata": {},
   "outputs": [
    {
     "output_type": "stream",
     "name": "stdout",
     "text": "Mike Olsen\n"
    }
   ],
   "source": [
    "class Person:\n",
    "  def __init__(self, fname, lname):\n",
    "    self.firstname = fname\n",
    "    self.lastname = lname\n",
    "\n",
    "  def printname(self):\n",
    "    print(self.firstname, self.lastname)\n",
    "\n",
    "class Student(Person):\n",
    "  def __init__(self, fname, lname):\n",
    "    Person.__init__(self, fname, lname)\n",
    "\n",
    "x = Student(\"Mike\", \"Olsen\")\n",
    "x.printname()\n"
   ]
  },
  {
   "cell_type": "markdown",
   "metadata": {},
   "source": [
    "*** \n",
    "\n",
    "## Modules in Python\n",
    "\n",
    "***"
   ]
  },
  {
   "cell_type": "code",
   "execution_count": 109,
   "metadata": {},
   "outputs": [
    {
     "output_type": "error",
     "ename": "SyntaxError",
     "evalue": "invalid syntax (ArithmaticOperation.py, line 20)",
     "traceback": [
      "Traceback \u001b[0;36m(most recent call last)\u001b[0m:\n",
      "  File \u001b[1;32m\"/Users/MuhammadImran/Library/Python/3.8/lib/python/site-packages/IPython/core/interactiveshell.py\"\u001b[0m, line \u001b[1;32m3331\u001b[0m, in \u001b[1;35mrun_code\u001b[0m\n    exec(code_obj, self.user_global_ns, self.user_ns)\n",
      "\u001b[0;36m  File \u001b[0;32m\"<ipython-input-109-06e7b038f14c>\"\u001b[0;36m, line \u001b[0;32m1\u001b[0;36m, in \u001b[0;35m<module>\u001b[0;36m\u001b[0m\n\u001b[0;31m    from ArithmaticOperation import add, subtract\u001b[0m\n",
      "\u001b[0;36m  File \u001b[0;32m\"/Users/MuhammadImran/Google Drive/BUITEMS/Spring-2020/Undergraduate_Courses/ComputerVision/Untitled Folder/Untitled Folder/ArithmaticOperation.py\"\u001b[0;36m, line \u001b[0;32m20\u001b[0m\n\u001b[0;31m    pass:\u001b[0m\n\u001b[0m        ^\u001b[0m\n\u001b[0;31mSyntaxError\u001b[0m\u001b[0;31m:\u001b[0m invalid syntax\n"
     ]
    }
   ],
   "source": [
    "from ArithmaticOperation import add, subtract"
   ]
  },
  {
   "cell_type": "code",
   "execution_count": 110,
   "metadata": {},
   "outputs": [
    {
     "output_type": "error",
     "ename": "NameError",
     "evalue": "name 'add' is not defined",
     "traceback": [
      "\u001b[0;31m---------------------------------------------------------------------------\u001b[0m",
      "\u001b[0;31mNameError\u001b[0m                                 Traceback (most recent call last)",
      "\u001b[0;32m<ipython-input-110-4f3cd2f4be9b>\u001b[0m in \u001b[0;36m<module>\u001b[0;34m\u001b[0m\n\u001b[0;32m----> 1\u001b[0;31m \u001b[0mprint\u001b[0m\u001b[0;34m(\u001b[0m\u001b[0madd\u001b[0m\u001b[0;34m(\u001b[0m\u001b[0;36m4\u001b[0m\u001b[0;34m,\u001b[0m\u001b[0;36m5\u001b[0m\u001b[0;34m)\u001b[0m\u001b[0;34m)\u001b[0m\u001b[0;34m\u001b[0m\u001b[0;34m\u001b[0m\u001b[0m\n\u001b[0m\u001b[1;32m      2\u001b[0m \u001b[0mprint\u001b[0m\u001b[0;34m(\u001b[0m\u001b[0msubtract\u001b[0m\u001b[0;34m(\u001b[0m\u001b[0;36m4\u001b[0m\u001b[0;34m,\u001b[0m\u001b[0;36m5\u001b[0m\u001b[0;34m)\u001b[0m\u001b[0;34m)\u001b[0m\u001b[0;34m\u001b[0m\u001b[0;34m\u001b[0m\u001b[0m\n",
      "\u001b[0;31mNameError\u001b[0m: name 'add' is not defined"
     ]
    }
   ],
   "source": [
    "print(add(4,5))\n",
    "print(subtract(4,5))"
   ]
  },
  {
   "cell_type": "code",
   "execution_count": 111,
   "metadata": {},
   "outputs": [],
   "source": [
    "import math"
   ]
  },
  {
   "cell_type": "code",
   "execution_count": 112,
   "metadata": {},
   "outputs": [
    {
     "output_type": "execute_result",
     "data": {
      "text/plain": "2.0794415416798357"
     },
     "metadata": {},
     "execution_count": 112
    }
   ],
   "source": [
    "math.log(8)"
   ]
  },
  {
   "cell_type": "markdown",
   "metadata": {},
   "source": [
    "***\n",
    "# Python PIP\n",
    "## What is PIP?\n",
    "PIP is a package manager for Python packages, or modules if you like.\n",
    "\n",
    "Note: If you have Python version 3.4 or later, PIP is included by default.\n",
    "***"
   ]
  },
  {
   "cell_type": "markdown",
   "metadata": {},
   "source": [
    "***\n",
    "### Check if PIP is Installed\n",
    "Navigate your command line to the location of Python's script directory, and type the following:\n",
    "~~~\n",
    "pip --version\n",
    "~~~\n",
    "***"
   ]
  },
  {
   "cell_type": "markdown",
   "metadata": {},
   "source": [
    "***\n",
    "### Remove a Package\n",
    "Use the <code>uninstal</code> command to remove a package:\n",
    "~~~\n",
    "pip uninstall packagename\n",
    "~~~\n",
    "***"
   ]
  },
  {
   "cell_type": "markdown",
   "metadata": {},
   "source": [
    "***\n",
    "### List Packages\n",
    "Use the list command to list all the packages installed on your system:\n",
    "\n",
    "~~~\n",
    "pip list\n",
    "~~~\n",
    "***"
   ]
  },
  {
   "cell_type": "markdown",
   "metadata": {},
   "source": [
    "***\n",
    "## Python Try Except\n",
    "\n",
    "* The **try** block lets you test a block of code for errors.\n",
    "\n",
    "* The **except** block lets you handle the error.\n",
    "\n",
    "* The **finally** block lets you execute code, regardless of the result of the try- and except blocks.\n",
    "\n",
    "\n",
    "***\n",
    "\n"
   ]
  },
  {
   "cell_type": "markdown",
   "metadata": {},
   "source": [
    "***\n",
    "### Exception Handling\n",
    "When an error occurs, or exception as we call it, Python will normally stop and generate an error message.\n",
    "\n",
    "These exceptions can be handled using the try statement:\n",
    "***"
   ]
  },
  {
   "cell_type": "code",
   "execution_count": 113,
   "metadata": {},
   "outputs": [
    {
     "output_type": "stream",
     "name": "stdout",
     "text": "<__main__.Student object at 0x7fce67e84430>\n"
    }
   ],
   "source": [
    "try:\n",
    "    print(x)\n",
    "except:\n",
    "    print('An exception occured')"
   ]
  },
  {
   "cell_type": "markdown",
   "metadata": {},
   "source": [
    "***\n",
    "Since the try block raises an error, the except block will be executed.\n",
    "\n",
    "Without the try block, the program will crash and raise an error:\n",
    "    \n",
    "Try the following code \n",
    "\n",
    "***"
   ]
  },
  {
   "cell_type": "code",
   "execution_count": 114,
   "metadata": {},
   "outputs": [
    {
     "output_type": "execute_result",
     "data": {
      "text/plain": "<__main__.Student at 0x7fce67e84430>"
     },
     "metadata": {},
     "execution_count": 114
    }
   ],
   "source": [
    "x"
   ]
  },
  {
   "cell_type": "markdown",
   "metadata": {},
   "source": [
    "***\n",
    "### Many Exceptions\n",
    "You can define as many exception blocks as you want, e.g. if you want to execute a special block of code for a special kind of error:\n",
    "***"
   ]
  },
  {
   "cell_type": "code",
   "execution_count": 115,
   "metadata": {},
   "outputs": [
    {
     "output_type": "stream",
     "name": "stdout",
     "text": "<__main__.Student object at 0x7fce67e84430>\n"
    }
   ],
   "source": [
    "# Print one message if the try block raises a NameError and another for other errors:\n",
    "\n",
    "try:\n",
    "  print(x)\n",
    "except NameError:\n",
    "  print(\"Variable x is not defined\")\n",
    "except:\n",
    "  print(\"Something else went wrong\")"
   ]
  },
  {
   "cell_type": "markdown",
   "metadata": {},
   "source": [
    "### Else\n",
    "You can use the else keyword to define a block of code to be executed if no errors were raised:"
   ]
  },
  {
   "cell_type": "code",
   "execution_count": 116,
   "metadata": {},
   "outputs": [
    {
     "output_type": "stream",
     "name": "stdout",
     "text": "Hello\nNothing went wrong\n"
    }
   ],
   "source": [
    "try:\n",
    "    print(\"Hello\")\n",
    "except:\n",
    "    print(\"Something went wrong\")\n",
    "else:\n",
    "    print(\"Nothing went wrong\")"
   ]
  },
  {
   "cell_type": "markdown",
   "metadata": {},
   "source": [
    "***\n",
    "### Finally\n",
    "The finally block, if specified, will be executed regardless if the try block raises an error or not.\n",
    "****"
   ]
  },
  {
   "cell_type": "code",
   "execution_count": 117,
   "metadata": {},
   "outputs": [
    {
     "output_type": "stream",
     "name": "stdout",
     "text": "<__main__.Student object at 0x7fce67e84430>\nThe 'try except' is finished\n"
    }
   ],
   "source": [
    "try:\n",
    "    print(x)\n",
    "except:\n",
    "    print(\"Sth went wrong\")\n",
    "finally:\n",
    "    print(\"The 'try except' is finished\")"
   ]
  },
  {
   "cell_type": "markdown",
   "metadata": {},
   "source": [
    "***\n",
    "### Raise an exception\n",
    "As a Python developer you can choose to throw an exception if a condition occurs.\n",
    "\n",
    "To throw (or raise) an exception, use the **raise** keyword.\n",
    "\n",
    "***"
   ]
  },
  {
   "cell_type": "code",
   "execution_count": 118,
   "metadata": {},
   "outputs": [
    {
     "output_type": "error",
     "ename": "Exception",
     "evalue": "Sorry, no number below zero",
     "traceback": [
      "\u001b[0;31m---------------------------------------------------------------------------\u001b[0m",
      "\u001b[0;31mException\u001b[0m                                 Traceback (most recent call last)",
      "\u001b[0;32m<ipython-input-118-9ae83a702421>\u001b[0m in \u001b[0;36m<module>\u001b[0;34m\u001b[0m\n\u001b[1;32m      3\u001b[0m \u001b[0mx\u001b[0m \u001b[0;34m=\u001b[0m \u001b[0;34m-\u001b[0m\u001b[0;36m1\u001b[0m\u001b[0;34m\u001b[0m\u001b[0;34m\u001b[0m\u001b[0m\n\u001b[1;32m      4\u001b[0m \u001b[0;32mif\u001b[0m \u001b[0mx\u001b[0m\u001b[0;34m<\u001b[0m\u001b[0;36m0\u001b[0m\u001b[0;34m:\u001b[0m\u001b[0;34m\u001b[0m\u001b[0;34m\u001b[0m\u001b[0m\n\u001b[0;32m----> 5\u001b[0;31m     \u001b[0;32mraise\u001b[0m \u001b[0mException\u001b[0m\u001b[0;34m(\u001b[0m\u001b[0;34m'Sorry, no number below zero'\u001b[0m\u001b[0;34m)\u001b[0m\u001b[0;34m\u001b[0m\u001b[0;34m\u001b[0m\u001b[0m\n\u001b[0m",
      "\u001b[0;31mException\u001b[0m: Sorry, no number below zero"
     ]
    }
   ],
   "source": [
    "# Raise an error and stop the program if x is lower than 0:\n",
    "\n",
    "x = -1\n",
    "if x<0:\n",
    "    raise Exception('Sorry, no number below zero')"
   ]
  },
  {
   "cell_type": "markdown",
   "metadata": {},
   "source": [
    "***\n",
    "## Python User Input\n",
    "***"
   ]
  },
  {
   "cell_type": "code",
   "execution_count": 119,
   "metadata": {},
   "outputs": [
    {
     "output_type": "stream",
     "name": "stdout",
     "text": "Your name is Imran\n"
    }
   ],
   "source": [
    "name = input(\"Enter your name \")\n",
    "print('Your name is ' + name)"
   ]
  },
  {
   "cell_type": "code",
   "execution_count": 120,
   "metadata": {},
   "outputs": [
    {
     "output_type": "error",
     "ename": "ValueError",
     "evalue": "invalid literal for int() with base 10: 'confirm'",
     "traceback": [
      "\u001b[0;31m---------------------------------------------------------------------------\u001b[0m",
      "\u001b[0;31mValueError\u001b[0m                                Traceback (most recent call last)",
      "\u001b[0;32m<ipython-input-120-11652accce96>\u001b[0m in \u001b[0;36m<module>\u001b[0;34m\u001b[0m\n\u001b[0;32m----> 1\u001b[0;31m \u001b[0mx\u001b[0m \u001b[0;34m=\u001b[0m \u001b[0mint\u001b[0m\u001b[0;34m(\u001b[0m\u001b[0minput\u001b[0m\u001b[0;34m(\u001b[0m\u001b[0;34m\"Enter first number for addition \"\u001b[0m\u001b[0;34m)\u001b[0m\u001b[0;34m)\u001b[0m\u001b[0;34m\u001b[0m\u001b[0;34m\u001b[0m\u001b[0m\n\u001b[0m\u001b[1;32m      2\u001b[0m \u001b[0my\u001b[0m \u001b[0;34m=\u001b[0m \u001b[0mint\u001b[0m\u001b[0;34m(\u001b[0m\u001b[0minput\u001b[0m\u001b[0;34m(\u001b[0m\u001b[0;34m\"Enter second number for addition \"\u001b[0m\u001b[0;34m)\u001b[0m\u001b[0;34m)\u001b[0m\u001b[0;34m\u001b[0m\u001b[0;34m\u001b[0m\u001b[0m\n\u001b[1;32m      3\u001b[0m \u001b[0mprint\u001b[0m\u001b[0;34m(\u001b[0m\u001b[0;34m\"x + y = \"\u001b[0m\u001b[0;34m,\u001b[0m \u001b[0mx\u001b[0m\u001b[0;34m+\u001b[0m\u001b[0my\u001b[0m\u001b[0;34m)\u001b[0m\u001b[0;34m\u001b[0m\u001b[0;34m\u001b[0m\u001b[0m\n",
      "\u001b[0;31mValueError\u001b[0m: invalid literal for int() with base 10: 'confirm'"
     ]
    }
   ],
   "source": [
    "x = int(input(\"Enter first number for addition \"))\n",
    "y = int(input(\"Enter second number for addition \"))\n",
    "print(\"x + y = \", x+y)"
   ]
  },
  {
   "cell_type": "code",
   "execution_count": null,
   "metadata": {},
   "outputs": [],
   "source": []
  }
 ],
 "metadata": {
  "kernelspec": {
   "display_name": "Python 3.8.2 64-bit",
   "language": "python",
   "name": "python38264bitc8ae904922064ca0aa4c7591754d7c52"
  },
  "language_info": {
   "codemirror_mode": {
    "name": "ipython",
    "version": 3
   },
   "file_extension": ".py",
   "mimetype": "text/x-python",
   "name": "python",
   "nbconvert_exporter": "python",
   "pygments_lexer": "ipython3",
   "version": "3.8.2-final"
  },
  "toc": {
   "base_numbering": 1,
   "nav_menu": {},
   "number_sections": true,
   "sideBar": true,
   "skip_h1_title": true,
   "title_cell": "Table of Contents",
   "title_sidebar": "Contents",
   "toc_cell": true,
   "toc_position": {
    "height": "calc(100% - 180px)",
    "left": "10px",
    "top": "150px",
    "width": "288px"
   },
   "toc_section_display": true,
   "toc_window_display": true
  },
  "varInspector": {
   "cols": {
    "lenName": 16,
    "lenType": 16,
    "lenVar": 40
   },
   "kernels_config": {
    "python": {
     "delete_cmd_postfix": "",
     "delete_cmd_prefix": "del ",
     "library": "var_list.py",
     "varRefreshCmd": "print(var_dic_list())"
    },
    "r": {
     "delete_cmd_postfix": ") ",
     "delete_cmd_prefix": "rm(",
     "library": "var_list.r",
     "varRefreshCmd": "cat(var_dic_list()) "
    }
   },
   "types_to_exclude": [
    "module",
    "function",
    "builtin_function_or_method",
    "instance",
    "_Feature"
   ],
   "window_display": false
  }
 },
 "nbformat": 4,
 "nbformat_minor": 2
}